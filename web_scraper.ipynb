{
 "cells": [
  {
   "cell_type": "code",
   "execution_count": 1,
   "outputs": [],
   "source": [
    "import json\n",
    "\n",
    "from rightmove_webscraper import RightmoveData"
   ],
   "metadata": {
    "collapsed": false,
    "pycharm": {
     "name": "#%%\n"
    }
   }
  },
  {
   "cell_type": "code",
   "execution_count": 104,
   "outputs": [],
   "source": [
    "url = \"https://www.rightmove.co.uk/property-for-sale/find.html?locationIdentifier=REGION%5E1271&sortType=6&propertyTypes=detached%2Csemi-detached%2Cterraced&includeSSTC=false&mustHave=&dontShow=&furnishTypes=&keywords=\"\n",
    "rm = RightmoveData(url)"
   ],
   "metadata": {
    "collapsed": false,
    "pycharm": {
     "name": "#%%\n"
    }
   }
  },
  {
   "cell_type": "code",
   "execution_count": 105,
   "outputs": [
    {
     "data": {
      "text/plain": "       price                               type  \\\n0    85000.0  2 bedroom terraced house for sale   \n1  1275000.0  4 bedroom detached house for sale   \n2   795000.0  5 bedroom detached house for sale   \n3   795000.0  5 bedroom detached house for sale   \n4   795000.0  6 bedroom detached house for sale   \n\n                                      address  \\\n0                  Coronation Road, Hartshill   \n1             Park Drive, Stoke-on-Trent, ST4   \n2             Stanley Road, Stanley Moor, ST9   \n3        Edgefields Lane, Stockton Brook, ST9   \n4  Ball Lane, Brown Edge, Staffordshire, ST6    \n\n                                                 url  \\\n0  http://www.rightmove.co.uk/properties/12092584...   \n1  http://www.rightmove.co.uk/properties/12608611...   \n2  http://www.rightmove.co.uk/properties/81589452...   \n3  http://www.rightmove.co.uk/properties/12592475...   \n4  http://www.rightmove.co.uk/properties/11429797...   \n\n                                           agent_url postcode full_postcode  \\\n0  http://www.rightmove.co.uk/estate-agents/agent...      NaN           NaN   \n1  http://www.rightmove.co.uk/estate-agents/agent...      ST4           NaN   \n2  http://www.rightmove.co.uk/estate-agents/agent...      ST9           NaN   \n3  http://www.rightmove.co.uk/estate-agents/agent...      ST9           NaN   \n4  http://www.rightmove.co.uk/estate-agents/agent...      ST6           NaN   \n\n   number_bedrooms                search_date  \n0              2.0 2022-08-15 17:29:03.752358  \n1              4.0 2022-08-15 17:29:03.752358  \n2              5.0 2022-08-15 17:29:03.752358  \n3              5.0 2022-08-15 17:29:03.752358  \n4              6.0 2022-08-15 17:29:03.752358  ",
      "text/html": "<div>\n<style scoped>\n    .dataframe tbody tr th:only-of-type {\n        vertical-align: middle;\n    }\n\n    .dataframe tbody tr th {\n        vertical-align: top;\n    }\n\n    .dataframe thead th {\n        text-align: right;\n    }\n</style>\n<table border=\"1\" class=\"dataframe\">\n  <thead>\n    <tr style=\"text-align: right;\">\n      <th></th>\n      <th>price</th>\n      <th>type</th>\n      <th>address</th>\n      <th>url</th>\n      <th>agent_url</th>\n      <th>postcode</th>\n      <th>full_postcode</th>\n      <th>number_bedrooms</th>\n      <th>search_date</th>\n    </tr>\n  </thead>\n  <tbody>\n    <tr>\n      <th>0</th>\n      <td>85000.0</td>\n      <td>2 bedroom terraced house for sale</td>\n      <td>Coronation Road, Hartshill</td>\n      <td>http://www.rightmove.co.uk/properties/12092584...</td>\n      <td>http://www.rightmove.co.uk/estate-agents/agent...</td>\n      <td>NaN</td>\n      <td>NaN</td>\n      <td>2.0</td>\n      <td>2022-08-15 17:29:03.752358</td>\n    </tr>\n    <tr>\n      <th>1</th>\n      <td>1275000.0</td>\n      <td>4 bedroom detached house for sale</td>\n      <td>Park Drive, Stoke-on-Trent, ST4</td>\n      <td>http://www.rightmove.co.uk/properties/12608611...</td>\n      <td>http://www.rightmove.co.uk/estate-agents/agent...</td>\n      <td>ST4</td>\n      <td>NaN</td>\n      <td>4.0</td>\n      <td>2022-08-15 17:29:03.752358</td>\n    </tr>\n    <tr>\n      <th>2</th>\n      <td>795000.0</td>\n      <td>5 bedroom detached house for sale</td>\n      <td>Stanley Road, Stanley Moor, ST9</td>\n      <td>http://www.rightmove.co.uk/properties/81589452...</td>\n      <td>http://www.rightmove.co.uk/estate-agents/agent...</td>\n      <td>ST9</td>\n      <td>NaN</td>\n      <td>5.0</td>\n      <td>2022-08-15 17:29:03.752358</td>\n    </tr>\n    <tr>\n      <th>3</th>\n      <td>795000.0</td>\n      <td>5 bedroom detached house for sale</td>\n      <td>Edgefields Lane, Stockton Brook, ST9</td>\n      <td>http://www.rightmove.co.uk/properties/12592475...</td>\n      <td>http://www.rightmove.co.uk/estate-agents/agent...</td>\n      <td>ST9</td>\n      <td>NaN</td>\n      <td>5.0</td>\n      <td>2022-08-15 17:29:03.752358</td>\n    </tr>\n    <tr>\n      <th>4</th>\n      <td>795000.0</td>\n      <td>6 bedroom detached house for sale</td>\n      <td>Ball Lane, Brown Edge, Staffordshire, ST6</td>\n      <td>http://www.rightmove.co.uk/properties/11429797...</td>\n      <td>http://www.rightmove.co.uk/estate-agents/agent...</td>\n      <td>ST6</td>\n      <td>NaN</td>\n      <td>6.0</td>\n      <td>2022-08-15 17:29:03.752358</td>\n    </tr>\n  </tbody>\n</table>\n</div>"
     },
     "execution_count": 105,
     "metadata": {},
     "output_type": "execute_result"
    }
   ],
   "source": [
    "rm.get_results.head()"
   ],
   "metadata": {
    "collapsed": false,
    "pycharm": {
     "name": "#%%\n"
    }
   }
  },
  {
   "cell_type": "code",
   "execution_count": 106,
   "outputs": [
    {
     "data": {
      "text/plain": "         price                               type  \\\n0      85000.0  2 bedroom terraced house for sale   \n1    1275000.0  4 bedroom detached house for sale   \n2     795000.0  5 bedroom detached house for sale   \n3     795000.0  5 bedroom detached house for sale   \n4     795000.0  6 bedroom detached house for sale   \n..         ...                                ...   \n605    15000.0                      Land for sale   \n606    15000.0  2 bedroom terraced house for sale   \n607    10000.0  2 bedroom terraced house for sale   \n608    10000.0                      Land for sale   \n609   120000.0      2 bedroom town house for sale   \n\n                                               address  \\\n0                           Coronation Road, Hartshill   \n1                      Park Drive, Stoke-on-Trent, ST4   \n2                      Stanley Road, Stanley Moor, ST9   \n3                 Edgefields Lane, Stockton Brook, ST9   \n4           Ball Lane, Brown Edge, Staffordshire, ST6    \n..                                                 ...   \n605                       Grindley Lane, Blythe Bridge   \n606  Patterdale Street, Stoke-on-Trent, Staffordshi...   \n607          432A King Street, Stoke-on-Trent, ST4 3DB   \n608  40 Market Street, Longton, Stoke-On-Trent ST3 1BS   \n609          Grosvenor Road, Meir, Stoke-on-Trent, ST3   \n\n                                                   url  \\\n0    http://www.rightmove.co.uk/properties/12092584...   \n1    http://www.rightmove.co.uk/properties/12608611...   \n2    http://www.rightmove.co.uk/properties/81589452...   \n3    http://www.rightmove.co.uk/properties/12592475...   \n4    http://www.rightmove.co.uk/properties/11429797...   \n..                                                 ...   \n605  http://www.rightmove.co.uk/properties/12089837...   \n606  http://www.rightmove.co.uk/properties/12586683...   \n607  http://www.rightmove.co.uk/properties/12599881...   \n608  http://www.rightmove.co.uk/properties/12550649...   \n609  http://www.rightmove.co.uk/properties/12419128...   \n\n                                             agent_url postcode full_postcode  \\\n0    http://www.rightmove.co.uk/estate-agents/agent...      NaN           NaN   \n1    http://www.rightmove.co.uk/estate-agents/agent...      ST4           NaN   \n2    http://www.rightmove.co.uk/estate-agents/agent...      ST9           NaN   \n3    http://www.rightmove.co.uk/estate-agents/agent...      ST9           NaN   \n4    http://www.rightmove.co.uk/estate-agents/agent...      ST6           NaN   \n..                                                 ...      ...           ...   \n605  http://www.rightmove.co.uk/estate-agents/agent...      NaN           NaN   \n606  http://www.rightmove.co.uk/estate-agents/agent...      ST6           NaN   \n607  http://www.rightmove.co.uk/estate-agents/agent...      ST4       ST4 3DB   \n608                                               None      ST3       ST3 1BS   \n609  http://www.rightmove.co.uk/estate-agents/agent...      ST3           NaN   \n\n     number_bedrooms                search_date  \n0                2.0 2022-08-15 17:29:03.752358  \n1                4.0 2022-08-15 17:29:03.752358  \n2                5.0 2022-08-15 17:29:03.752358  \n3                5.0 2022-08-15 17:29:03.752358  \n4                6.0 2022-08-15 17:29:03.752358  \n..               ...                        ...  \n605              NaN 2022-08-15 17:29:03.752358  \n606              2.0 2022-08-15 17:29:03.752358  \n607              2.0 2022-08-15 17:29:03.752358  \n608              NaN 2022-08-15 17:29:03.752358  \n609              2.0 2022-08-15 17:29:03.752358  \n\n[610 rows x 9 columns]",
      "text/html": "<div>\n<style scoped>\n    .dataframe tbody tr th:only-of-type {\n        vertical-align: middle;\n    }\n\n    .dataframe tbody tr th {\n        vertical-align: top;\n    }\n\n    .dataframe thead th {\n        text-align: right;\n    }\n</style>\n<table border=\"1\" class=\"dataframe\">\n  <thead>\n    <tr style=\"text-align: right;\">\n      <th></th>\n      <th>price</th>\n      <th>type</th>\n      <th>address</th>\n      <th>url</th>\n      <th>agent_url</th>\n      <th>postcode</th>\n      <th>full_postcode</th>\n      <th>number_bedrooms</th>\n      <th>search_date</th>\n    </tr>\n  </thead>\n  <tbody>\n    <tr>\n      <th>0</th>\n      <td>85000.0</td>\n      <td>2 bedroom terraced house for sale</td>\n      <td>Coronation Road, Hartshill</td>\n      <td>http://www.rightmove.co.uk/properties/12092584...</td>\n      <td>http://www.rightmove.co.uk/estate-agents/agent...</td>\n      <td>NaN</td>\n      <td>NaN</td>\n      <td>2.0</td>\n      <td>2022-08-15 17:29:03.752358</td>\n    </tr>\n    <tr>\n      <th>1</th>\n      <td>1275000.0</td>\n      <td>4 bedroom detached house for sale</td>\n      <td>Park Drive, Stoke-on-Trent, ST4</td>\n      <td>http://www.rightmove.co.uk/properties/12608611...</td>\n      <td>http://www.rightmove.co.uk/estate-agents/agent...</td>\n      <td>ST4</td>\n      <td>NaN</td>\n      <td>4.0</td>\n      <td>2022-08-15 17:29:03.752358</td>\n    </tr>\n    <tr>\n      <th>2</th>\n      <td>795000.0</td>\n      <td>5 bedroom detached house for sale</td>\n      <td>Stanley Road, Stanley Moor, ST9</td>\n      <td>http://www.rightmove.co.uk/properties/81589452...</td>\n      <td>http://www.rightmove.co.uk/estate-agents/agent...</td>\n      <td>ST9</td>\n      <td>NaN</td>\n      <td>5.0</td>\n      <td>2022-08-15 17:29:03.752358</td>\n    </tr>\n    <tr>\n      <th>3</th>\n      <td>795000.0</td>\n      <td>5 bedroom detached house for sale</td>\n      <td>Edgefields Lane, Stockton Brook, ST9</td>\n      <td>http://www.rightmove.co.uk/properties/12592475...</td>\n      <td>http://www.rightmove.co.uk/estate-agents/agent...</td>\n      <td>ST9</td>\n      <td>NaN</td>\n      <td>5.0</td>\n      <td>2022-08-15 17:29:03.752358</td>\n    </tr>\n    <tr>\n      <th>4</th>\n      <td>795000.0</td>\n      <td>6 bedroom detached house for sale</td>\n      <td>Ball Lane, Brown Edge, Staffordshire, ST6</td>\n      <td>http://www.rightmove.co.uk/properties/11429797...</td>\n      <td>http://www.rightmove.co.uk/estate-agents/agent...</td>\n      <td>ST6</td>\n      <td>NaN</td>\n      <td>6.0</td>\n      <td>2022-08-15 17:29:03.752358</td>\n    </tr>\n    <tr>\n      <th>...</th>\n      <td>...</td>\n      <td>...</td>\n      <td>...</td>\n      <td>...</td>\n      <td>...</td>\n      <td>...</td>\n      <td>...</td>\n      <td>...</td>\n      <td>...</td>\n    </tr>\n    <tr>\n      <th>605</th>\n      <td>15000.0</td>\n      <td>Land for sale</td>\n      <td>Grindley Lane, Blythe Bridge</td>\n      <td>http://www.rightmove.co.uk/properties/12089837...</td>\n      <td>http://www.rightmove.co.uk/estate-agents/agent...</td>\n      <td>NaN</td>\n      <td>NaN</td>\n      <td>NaN</td>\n      <td>2022-08-15 17:29:03.752358</td>\n    </tr>\n    <tr>\n      <th>606</th>\n      <td>15000.0</td>\n      <td>2 bedroom terraced house for sale</td>\n      <td>Patterdale Street, Stoke-on-Trent, Staffordshi...</td>\n      <td>http://www.rightmove.co.uk/properties/12586683...</td>\n      <td>http://www.rightmove.co.uk/estate-agents/agent...</td>\n      <td>ST6</td>\n      <td>NaN</td>\n      <td>2.0</td>\n      <td>2022-08-15 17:29:03.752358</td>\n    </tr>\n    <tr>\n      <th>607</th>\n      <td>10000.0</td>\n      <td>2 bedroom terraced house for sale</td>\n      <td>432A King Street, Stoke-on-Trent, ST4 3DB</td>\n      <td>http://www.rightmove.co.uk/properties/12599881...</td>\n      <td>http://www.rightmove.co.uk/estate-agents/agent...</td>\n      <td>ST4</td>\n      <td>ST4 3DB</td>\n      <td>2.0</td>\n      <td>2022-08-15 17:29:03.752358</td>\n    </tr>\n    <tr>\n      <th>608</th>\n      <td>10000.0</td>\n      <td>Land for sale</td>\n      <td>40 Market Street, Longton, Stoke-On-Trent ST3 1BS</td>\n      <td>http://www.rightmove.co.uk/properties/12550649...</td>\n      <td>None</td>\n      <td>ST3</td>\n      <td>ST3 1BS</td>\n      <td>NaN</td>\n      <td>2022-08-15 17:29:03.752358</td>\n    </tr>\n    <tr>\n      <th>609</th>\n      <td>120000.0</td>\n      <td>2 bedroom town house for sale</td>\n      <td>Grosvenor Road, Meir, Stoke-on-Trent, ST3</td>\n      <td>http://www.rightmove.co.uk/properties/12419128...</td>\n      <td>http://www.rightmove.co.uk/estate-agents/agent...</td>\n      <td>ST3</td>\n      <td>NaN</td>\n      <td>2.0</td>\n      <td>2022-08-15 17:29:03.752358</td>\n    </tr>\n  </tbody>\n</table>\n<p>610 rows × 9 columns</p>\n</div>"
     },
     "execution_count": 106,
     "metadata": {},
     "output_type": "execute_result"
    }
   ],
   "source": [
    "rm.get_results"
   ],
   "metadata": {
    "collapsed": false,
    "pycharm": {
     "name": "#%%\n"
    }
   }
  },
  {
   "cell_type": "code",
   "execution_count": 81,
   "outputs": [],
   "source": [
    "path = 'city_names.txt'\n",
    "cities = []"
   ],
   "metadata": {
    "collapsed": false,
    "pycharm": {
     "name": "#%%\n"
    }
   }
  },
  {
   "cell_type": "code",
   "execution_count": 82,
   "outputs": [],
   "source": [
    "with open(path) as file:\n",
    "    for line in file:\n",
    "        cities.append(line.replace(\"\\n\", \"\"))"
   ],
   "metadata": {
    "collapsed": false,
    "pycharm": {
     "name": "#%%\n"
    }
   }
  },
  {
   "cell_type": "code",
   "execution_count": 83,
   "outputs": [
    {
     "data": {
      "text/plain": "['Bath',\n 'Birmingham',\n 'Bradford',\n 'Brighton and Hove',\n 'Bristol',\n 'Cambridge',\n 'Canterbury',\n 'Carlisle',\n 'Chelmsford',\n 'Chester',\n 'Chichester',\n 'Colchester',\n 'Coventry',\n 'Derby',\n 'Doncaster',\n 'Douglas',\n 'Durham',\n 'Ely',\n 'Exeter',\n 'Gloucester',\n 'Hereford',\n 'Kingston upon Hull',\n 'Lancaster',\n 'Leeds',\n 'Leicester',\n 'Lichfield',\n 'Lincoln',\n 'Liverpool',\n 'London',\n 'Manchester',\n 'Milton Keynes',\n 'Newcastle upon Tyne',\n 'Norwich',\n 'Nottingham',\n 'Oxford',\n 'Peterborough',\n 'Plymouth',\n 'Portsmouth',\n 'Preston',\n 'Ripon',\n 'Salford',\n 'Salisbury',\n 'Sheffield',\n 'Southampton',\n 'Southend-On-Sea',\n 'St Albans',\n 'Stoke-on-Trent',\n 'Sunderland',\n 'Truro',\n 'Wakefield',\n 'Wells',\n 'Westminster',\n 'Winchester',\n 'Wolverhampton',\n 'Worcester',\n 'York']"
     },
     "execution_count": 83,
     "metadata": {},
     "output_type": "execute_result"
    }
   ],
   "source": [
    "cities"
   ],
   "metadata": {
    "collapsed": false,
    "pycharm": {
     "name": "#%%\n"
    }
   }
  },
  {
   "cell_type": "code",
   "execution_count": 100,
   "outputs": [],
   "source": [
    "city_encodings = {}"
   ],
   "metadata": {
    "collapsed": false,
    "pycharm": {
     "name": "#%%\n"
    }
   }
  },
  {
   "cell_type": "code",
   "execution_count": 101,
   "outputs": [],
   "source": [
    "import requests, json\n",
    "import re\n",
    "path = 'https://www.rightmove.co.uk/typeAhead/uknostreet/'"
   ],
   "metadata": {
    "collapsed": false,
    "pycharm": {
     "name": "#%%\n"
    }
   }
  },
  {
   "cell_type": "code",
   "execution_count": 102,
   "outputs": [
    {
     "name": "stdout",
     "output_type": "stream",
     "text": [
      "https://www.rightmove.co.uk/typeAhead/uknostreet/BA/TH\n",
      "https://www.rightmove.co.uk/typeAhead/uknostreet/BI/RM/IN/GH/AM\n",
      "https://www.rightmove.co.uk/typeAhead/uknostreet/BR/AD/FO/RD\n",
      "https://www.rightmove.co.uk/typeAhead/uknostreet/BR/IG/HT/ON/%20A/ND/%20H/OV/E\n",
      "https://www.rightmove.co.uk/typeAhead/uknostreet/BR/IS/TO/L\n",
      "https://www.rightmove.co.uk/typeAhead/uknostreet/CA/MB/RI/DG/E\n",
      "https://www.rightmove.co.uk/typeAhead/uknostreet/CA/NT/ER/BU/RY\n",
      "https://www.rightmove.co.uk/typeAhead/uknostreet/CA/RL/IS/LE\n",
      "https://www.rightmove.co.uk/typeAhead/uknostreet/CH/EL/MS/FO/RD\n",
      "https://www.rightmove.co.uk/typeAhead/uknostreet/CH/ES/TE/R\n",
      "https://www.rightmove.co.uk/typeAhead/uknostreet/CH/IC/HE/ST/ER\n",
      "https://www.rightmove.co.uk/typeAhead/uknostreet/CO/LC/HE/ST/ER\n",
      "https://www.rightmove.co.uk/typeAhead/uknostreet/CO/VE/NT/RY\n",
      "https://www.rightmove.co.uk/typeAhead/uknostreet/DE/RB/Y\n",
      "https://www.rightmove.co.uk/typeAhead/uknostreet/DO/NC/AS/TE/R\n",
      "https://www.rightmove.co.uk/typeAhead/uknostreet/DO/UG/LA/S\n",
      "https://www.rightmove.co.uk/typeAhead/uknostreet/DU/RH/AM\n",
      "https://www.rightmove.co.uk/typeAhead/uknostreet/EL/Y\n",
      "https://www.rightmove.co.uk/typeAhead/uknostreet/EX/ET/ER\n",
      "https://www.rightmove.co.uk/typeAhead/uknostreet/GL/OU/CE/ST/ER\n",
      "https://www.rightmove.co.uk/typeAhead/uknostreet/HE/RE/FO/RD\n",
      "https://www.rightmove.co.uk/typeAhead/uknostreet/KI/NG/ST/ON/%20U/PO/N%20/HU/LL\n",
      "https://www.rightmove.co.uk/typeAhead/uknostreet/LA/NC/AS/TE/R\n",
      "https://www.rightmove.co.uk/typeAhead/uknostreet/LE/ED/S\n",
      "https://www.rightmove.co.uk/typeAhead/uknostreet/LE/IC/ES/TE/R\n",
      "https://www.rightmove.co.uk/typeAhead/uknostreet/LI/CH/FI/EL/D\n",
      "https://www.rightmove.co.uk/typeAhead/uknostreet/LI/NC/OL/N\n",
      "https://www.rightmove.co.uk/typeAhead/uknostreet/LI/VE/RP/OO/L\n",
      "https://www.rightmove.co.uk/typeAhead/uknostreet/LO/ND/ON\n",
      "https://www.rightmove.co.uk/typeAhead/uknostreet/MA/NC/HE/ST/ER\n",
      "https://www.rightmove.co.uk/typeAhead/uknostreet/MI/LT/ON/%20K/EY/NE/S\n",
      "https://www.rightmove.co.uk/typeAhead/uknostreet/NE/WC/AS/TL/E%20/UP/ON/%20T/YN/E\n",
      "https://www.rightmove.co.uk/typeAhead/uknostreet/NO/RW/IC/H\n",
      "https://www.rightmove.co.uk/typeAhead/uknostreet/NO/TT/IN/GH/AM\n",
      "https://www.rightmove.co.uk/typeAhead/uknostreet/OX/FO/RD\n",
      "https://www.rightmove.co.uk/typeAhead/uknostreet/PE/TE/RB/OR/OU/GH\n",
      "https://www.rightmove.co.uk/typeAhead/uknostreet/PL/YM/OU/TH\n",
      "https://www.rightmove.co.uk/typeAhead/uknostreet/PO/RT/SM/OU/TH\n",
      "https://www.rightmove.co.uk/typeAhead/uknostreet/PR/ES/TO/N\n",
      "https://www.rightmove.co.uk/typeAhead/uknostreet/RI/PO/N\n",
      "https://www.rightmove.co.uk/typeAhead/uknostreet/SA/LF/OR/D\n",
      "https://www.rightmove.co.uk/typeAhead/uknostreet/SA/LI/SB/UR/Y\n",
      "https://www.rightmove.co.uk/typeAhead/uknostreet/SH/EF/FI/EL/D\n",
      "https://www.rightmove.co.uk/typeAhead/uknostreet/SO/UT/HA/MP/TO/N\n",
      "https://www.rightmove.co.uk/typeAhead/uknostreet/SO/UT/HE/ND/%20O/N%20/SE/A\n",
      "https://www.rightmove.co.uk/typeAhead/uknostreet/ST/%20A/LB/AN/S\n",
      "https://www.rightmove.co.uk/typeAhead/uknostreet/ST/OK/E%20/ON/%20T/RE/NT\n",
      "https://www.rightmove.co.uk/typeAhead/uknostreet/SU/ND/ER/LA/ND\n",
      "https://www.rightmove.co.uk/typeAhead/uknostreet/TR/UR/O\n",
      "https://www.rightmove.co.uk/typeAhead/uknostreet/WA/KE/FI/EL/D\n",
      "https://www.rightmove.co.uk/typeAhead/uknostreet/WE/LL/S\n",
      "https://www.rightmove.co.uk/typeAhead/uknostreet/WE/ST/MI/NS/TE/R\n",
      "https://www.rightmove.co.uk/typeAhead/uknostreet/WI/NC/HE/ST/ER\n",
      "https://www.rightmove.co.uk/typeAhead/uknostreet/WO/LV/ER/HA/MP/TO/N\n",
      "https://www.rightmove.co.uk/typeAhead/uknostreet/WO/RC/ES/TE/R\n",
      "https://www.rightmove.co.uk/typeAhead/uknostreet/YO/RK\n"
     ]
    }
   ],
   "source": [
    "for city in cities:\n",
    "    count = 0\n",
    "    for char in city:\n",
    "        if count == 2:\n",
    "            path += '/'\n",
    "            count = 0\n",
    "        if char == \"-\" or char == \" \":\n",
    "            path += '%20'\n",
    "        else:\n",
    "            path += char.upper()\n",
    "        count += 1\n",
    "\n",
    "    print(path)\n",
    "    res = requests.get(path).json()\n",
    "    out = json.dumps(res, indent=2)\n",
    "    p = re.search('REGION\\^(.+?),', out)\n",
    "    if p:\n",
    "        found = p.group(1)\n",
    "    city_encodings[city] = found.rstrip('\"')\n",
    "    path = 'https://www.rightmove.co.uk/typeAhead/uknostreet/'\n",
    "\n"
   ],
   "metadata": {
    "collapsed": false,
    "pycharm": {
     "name": "#%%\n"
    }
   }
  },
  {
   "cell_type": "code",
   "execution_count": 103,
   "outputs": [
    {
     "data": {
      "text/plain": "{'Bath': '116',\n 'Birmingham': '162',\n 'Bradford': '198',\n 'Brighton and Hove': '93554',\n 'Bristol': '219',\n 'Cambridge': '274',\n 'Canterbury': '279',\n 'Carlisle': '283',\n 'Chelmsford': '307',\n 'Chester': '313',\n 'Chichester': '316',\n 'Colchester': '347',\n 'Coventry': '368',\n 'Derby': '418',\n 'Doncaster': '430',\n 'Douglas': '8346',\n 'Durham': '460',\n 'Ely': '483',\n 'Exeter': '494',\n 'Gloucester': '556',\n 'Hereford': '61304',\n 'Kingston upon Hull': '746',\n 'Lancaster': '769',\n 'Leeds': '787',\n 'Leicester': '789',\n 'Lichfield': '800',\n 'Lincoln': '804',\n 'Liverpool': '813',\n 'London': '87490',\n 'Manchester': '904',\n 'Milton Keynes': '940',\n 'Newcastle upon Tyne': '984',\n 'Norwich': '1018',\n 'Nottingham': '1019',\n 'Oxford': '1036',\n 'Peterborough': '1061',\n 'Plymouth': '1073',\n 'Portsmouth': '1089',\n 'Preston': '1097',\n 'Ripon': '1132',\n 'Salford': '1164',\n 'Salisbury': '1165',\n 'Sheffield': '1195',\n 'Southampton': '1231',\n 'Southend-On-Sea': '1232',\n 'St Albans': '94262',\n 'Stoke-on-Trent': '1271',\n 'Sunderland': '94643',\n 'Truro': '1365',\n 'Wakefield': '1386',\n 'Wells': '1415',\n 'Westminster': '93980',\n 'Winchester': '1460',\n 'Wolverhampton': '1476',\n 'Worcester': '1483',\n 'York': '1498'}"
     },
     "execution_count": 103,
     "metadata": {},
     "output_type": "execute_result"
    }
   ],
   "source": [
    "city_encodings"
   ],
   "metadata": {
    "collapsed": false,
    "pycharm": {
     "name": "#%%\n"
    }
   }
  },
  {
   "cell_type": "code",
   "execution_count": 115,
   "outputs": [],
   "source": [
    "path = \"https://www.rightmove.co.uk/property-for-sale/find.html?locationIdentifier=REGION%5E1271&sortType=6&propertyTypes=detached%2Csemi-detached%2Cterraced&includeSSTC=false&mustHave=&dontShow=&furnishTypes=&keywords=\""
   ],
   "metadata": {
    "collapsed": false,
    "pycharm": {
     "name": "#%%\n"
    }
   }
  },
  {
   "cell_type": "code",
   "execution_count": 144,
   "outputs": [
    {
     "data": {
      "text/plain": "'https://www.rightmove.co.uk/property-for-sale/find.html?locationIdentifier=REGION%1498&sortType=6&propertyTypes=detached%2Csemi-detached%2Cterraced&includeSSTC=false&mustHave=&dontShow=&furnishTypes=&keywords='"
     },
     "execution_count": 144,
     "metadata": {},
     "output_type": "execute_result"
    }
   ],
   "source": [
    "path.find(\"REGION%\")\n",
    "encoding = city_encodings[\"York\"]\n",
    "old = path[path.index(\"REGION%\"): path.index(\"&\")]\n",
    "new = path.replace(old, \"REGION%\" + encoding)\n",
    "new"
   ],
   "metadata": {
    "collapsed": false,
    "pycharm": {
     "name": "#%%\n"
    }
   }
  },
  {
   "cell_type": "code",
   "execution_count": 145,
   "outputs": [
    {
     "ename": "IndexError",
     "evalue": "list index out of range",
     "output_type": "error",
     "traceback": [
      "\u001B[1;31m---------------------------------------------------------------------------\u001B[0m",
      "\u001B[1;31mIndexError\u001B[0m                                Traceback (most recent call last)",
      "Input \u001B[1;32mIn [145]\u001B[0m, in \u001B[0;36m<cell line: 1>\u001B[1;34m()\u001B[0m\n\u001B[1;32m----> 1\u001B[0m rm \u001B[38;5;241m=\u001B[39m \u001B[43mRightmoveData\u001B[49m\u001B[43m(\u001B[49m\u001B[43mnew\u001B[49m\u001B[43m)\u001B[49m\n\u001B[0;32m      2\u001B[0m rm\u001B[38;5;241m.\u001B[39mget_results\u001B[38;5;241m.\u001B[39mhead()\n",
      "File \u001B[1;32m~\\anaconda3\\envs\\NeuralNets\\lib\\site-packages\\rightmove_webscraper\\scraper.py:32\u001B[0m, in \u001B[0;36mRightmoveData.__init__\u001B[1;34m(self, url, get_floorplans)\u001B[0m\n\u001B[0;32m     30\u001B[0m \u001B[38;5;28mself\u001B[39m\u001B[38;5;241m.\u001B[39m_url \u001B[38;5;241m=\u001B[39m url\n\u001B[0;32m     31\u001B[0m \u001B[38;5;28mself\u001B[39m\u001B[38;5;241m.\u001B[39m_validate_url()\n\u001B[1;32m---> 32\u001B[0m \u001B[38;5;28mself\u001B[39m\u001B[38;5;241m.\u001B[39m_results \u001B[38;5;241m=\u001B[39m \u001B[38;5;28;43mself\u001B[39;49m\u001B[38;5;241;43m.\u001B[39;49m\u001B[43m_get_results\u001B[49m\u001B[43m(\u001B[49m\u001B[43mget_floorplans\u001B[49m\u001B[38;5;241;43m=\u001B[39;49m\u001B[43mget_floorplans\u001B[49m\u001B[43m)\u001B[49m\n",
      "File \u001B[1;32m~\\anaconda3\\envs\\NeuralNets\\lib\\site-packages\\rightmove_webscraper\\scraper.py:218\u001B[0m, in \u001B[0;36mRightmoveData._get_results\u001B[1;34m(self, get_floorplans)\u001B[0m\n\u001B[0;32m    215\u001B[0m results \u001B[38;5;241m=\u001B[39m \u001B[38;5;28mself\u001B[39m\u001B[38;5;241m.\u001B[39m_get_page(\u001B[38;5;28mself\u001B[39m\u001B[38;5;241m.\u001B[39m_first_page, get_floorplans\u001B[38;5;241m=\u001B[39mget_floorplans)\n\u001B[0;32m    217\u001B[0m \u001B[38;5;66;03m# Iterate through all pages scraping results:\u001B[39;00m\n\u001B[1;32m--> 218\u001B[0m \u001B[38;5;28;01mfor\u001B[39;00m p \u001B[38;5;129;01min\u001B[39;00m \u001B[38;5;28mrange\u001B[39m(\u001B[38;5;241m1\u001B[39m, \u001B[38;5;28;43mself\u001B[39;49m\u001B[38;5;241;43m.\u001B[39;49m\u001B[43mpage_count\u001B[49m \u001B[38;5;241m+\u001B[39m \u001B[38;5;241m1\u001B[39m, \u001B[38;5;241m1\u001B[39m):\n\u001B[0;32m    219\u001B[0m \n\u001B[0;32m    220\u001B[0m     \u001B[38;5;66;03m# Create the URL of the specific results page:\u001B[39;00m\n\u001B[0;32m    221\u001B[0m     p_url \u001B[38;5;241m=\u001B[39m \u001B[38;5;124mf\u001B[39m\u001B[38;5;124m\"\u001B[39m\u001B[38;5;132;01m{\u001B[39;00m\u001B[38;5;28mstr\u001B[39m(\u001B[38;5;28mself\u001B[39m\u001B[38;5;241m.\u001B[39murl)\u001B[38;5;132;01m}\u001B[39;00m\u001B[38;5;124m&index=\u001B[39m\u001B[38;5;132;01m{\u001B[39;00mp \u001B[38;5;241m*\u001B[39m \u001B[38;5;241m24\u001B[39m\u001B[38;5;132;01m}\u001B[39;00m\u001B[38;5;124m\"\u001B[39m\n\u001B[0;32m    223\u001B[0m     \u001B[38;5;66;03m# Make the request:\u001B[39;00m\n",
      "File \u001B[1;32m~\\anaconda3\\envs\\NeuralNets\\lib\\site-packages\\rightmove_webscraper\\scraper.py:143\u001B[0m, in \u001B[0;36mRightmoveData.page_count\u001B[1;34m(self)\u001B[0m\n\u001B[0;32m    138\u001B[0m \u001B[38;5;129m@property\u001B[39m\n\u001B[0;32m    139\u001B[0m \u001B[38;5;28;01mdef\u001B[39;00m \u001B[38;5;21mpage_count\u001B[39m(\u001B[38;5;28mself\u001B[39m):\n\u001B[0;32m    140\u001B[0m     \u001B[38;5;124;03m\"\"\"Returns the number of result pages returned by the search URL. There\u001B[39;00m\n\u001B[0;32m    141\u001B[0m \u001B[38;5;124;03m    are 24 results per page. Note that the website limits results to a\u001B[39;00m\n\u001B[0;32m    142\u001B[0m \u001B[38;5;124;03m    maximum of 42 accessible pages.\"\"\"\u001B[39;00m\n\u001B[1;32m--> 143\u001B[0m     page_count \u001B[38;5;241m=\u001B[39m \u001B[38;5;28;43mself\u001B[39;49m\u001B[38;5;241;43m.\u001B[39;49m\u001B[43mresults_count_display\u001B[49m \u001B[38;5;241m/\u001B[39m\u001B[38;5;241m/\u001B[39m \u001B[38;5;241m24\u001B[39m\n\u001B[0;32m    144\u001B[0m     \u001B[38;5;28;01mif\u001B[39;00m \u001B[38;5;28mself\u001B[39m\u001B[38;5;241m.\u001B[39mresults_count_display \u001B[38;5;241m%\u001B[39m \u001B[38;5;241m24\u001B[39m \u001B[38;5;241m>\u001B[39m \u001B[38;5;241m0\u001B[39m:\n\u001B[0;32m    145\u001B[0m         page_count \u001B[38;5;241m+\u001B[39m\u001B[38;5;241m=\u001B[39m \u001B[38;5;241m1\u001B[39m\n",
      "File \u001B[1;32m~\\anaconda3\\envs\\NeuralNets\\lib\\site-packages\\rightmove_webscraper\\scraper.py:136\u001B[0m, in \u001B[0;36mRightmoveData.results_count_display\u001B[1;34m(self)\u001B[0m\n\u001B[0;32m    134\u001B[0m tree \u001B[38;5;241m=\u001B[39m html\u001B[38;5;241m.\u001B[39mfromstring(\u001B[38;5;28mself\u001B[39m\u001B[38;5;241m.\u001B[39m_first_page)\n\u001B[0;32m    135\u001B[0m xpath \u001B[38;5;241m=\u001B[39m \u001B[38;5;124m\"\"\"\u001B[39m\u001B[38;5;124m//span[@class=\u001B[39m\u001B[38;5;124m\"\u001B[39m\u001B[38;5;124msearchHeader-resultCount\u001B[39m\u001B[38;5;124m\"\u001B[39m\u001B[38;5;124m]/text()\u001B[39m\u001B[38;5;124m\"\"\"\u001B[39m\n\u001B[1;32m--> 136\u001B[0m \u001B[38;5;28;01mreturn\u001B[39;00m \u001B[38;5;28mint\u001B[39m(\u001B[43mtree\u001B[49m\u001B[38;5;241;43m.\u001B[39;49m\u001B[43mxpath\u001B[49m\u001B[43m(\u001B[49m\u001B[43mxpath\u001B[49m\u001B[43m)\u001B[49m\u001B[43m[\u001B[49m\u001B[38;5;241;43m0\u001B[39;49m\u001B[43m]\u001B[49m\u001B[38;5;241m.\u001B[39mreplace(\u001B[38;5;124m\"\u001B[39m\u001B[38;5;124m,\u001B[39m\u001B[38;5;124m\"\u001B[39m, \u001B[38;5;124m\"\u001B[39m\u001B[38;5;124m\"\u001B[39m))\n",
      "\u001B[1;31mIndexError\u001B[0m: list index out of range"
     ]
    }
   ],
   "source": [
    "rm = RightmoveData(new)\n",
    "rm.get_results.head()"
   ],
   "metadata": {
    "collapsed": false,
    "pycharm": {
     "name": "#%%\n"
    }
   }
  }
 ],
 "metadata": {
  "kernelspec": {
   "display_name": "Python 3",
   "language": "python",
   "name": "python3"
  },
  "language_info": {
   "codemirror_mode": {
    "name": "ipython",
    "version": 2
   },
   "file_extension": ".py",
   "mimetype": "text/x-python",
   "name": "python",
   "nbconvert_exporter": "python",
   "pygments_lexer": "ipython2",
   "version": "2.7.6"
  }
 },
 "nbformat": 4,
 "nbformat_minor": 0
}