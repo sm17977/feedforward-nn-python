{
 "cells": [
  {
   "cell_type": "code",
   "execution_count": null,
   "outputs": [],
   "source": [
    "import requests, json\n",
    "import re\n",
    "import pandas as pd\n",
    "from rightmove_webscraper import RightmoveData"
   ],
   "metadata": {
    "collapsed": false,
    "pycharm": {
     "name": "#%%\n"
    }
   }
  },
  {
   "cell_type": "code",
   "execution_count": null,
   "outputs": [],
   "source": [
    "path = 'city_names.txt'\n",
    "cities = []"
   ],
   "metadata": {
    "collapsed": false,
    "pycharm": {
     "name": "#%%\n"
    }
   }
  },
  {
   "cell_type": "code",
   "execution_count": null,
   "outputs": [],
   "source": [
    "with open(path) as file:\n",
    "    for line in file:\n",
    "        cities.append(line.replace(\"\\n\", \"\"))"
   ],
   "metadata": {
    "collapsed": false,
    "pycharm": {
     "name": "#%%\n"
    }
   }
  },
  {
   "cell_type": "code",
   "execution_count": null,
   "outputs": [],
   "source": [
    "cities = sorted(cities)\n",
    "cities"
   ],
   "metadata": {
    "collapsed": false,
    "pycharm": {
     "name": "#%%\n"
    }
   }
  },
  {
   "cell_type": "code",
   "execution_count": null,
   "outputs": [],
   "source": [
    "city_encodings = {}\n",
    "path = 'https://www.rightmove.co.uk/typeAhead/uknostreet/'"
   ],
   "metadata": {
    "collapsed": false,
    "pycharm": {
     "name": "#%%\n"
    }
   }
  },
  {
   "cell_type": "code",
   "execution_count": null,
   "outputs": [],
   "source": [
    "# Generate Rightmove the path of results page for every city\n",
    "for city in cities:\n",
    "    count = 0\n",
    "    for char in city:\n",
    "        if count == 2:\n",
    "            path += '/'\n",
    "            count = 0\n",
    "        if char == \"-\" or char == \" \" or char == \",\":\n",
    "            path += '%20'\n",
    "        else:\n",
    "            path += char.upper()\n",
    "        count += 1\n",
    "\n",
    "    print(path)\n",
    "    res = requests.get(path).json()\n",
    "\n",
    "    # Search results dict, k = Search term, v = location ID. Ex. {'BASILDON ESSEX': '114', ...}\n",
    "    locDict = {k['normalisedSearchTerm'] : k['locationIdentifier'].replace(\"REGION^\", \"\") for k in res['typeAheadLocations'] if \"STATION\" not in k['locationIdentifier']}\n",
    "\n",
    "    encoding = \"\"\n",
    "    cv1 = \"ZZZ\"\n",
    "    cv2 = \"ZZZ\"\n",
    "    cv3 = \"ZZZ\"\n",
    "\n",
    "    # Handle city names with hyphens/spaces\n",
    "    if \" \" in city:\n",
    "        cv1 = city.replace(\" \", \"\")\n",
    "    elif \"-\" in city:\n",
    "        cv2 = city.replace(\"-\", \"\")\n",
    "        cv3 = city.replace(\"-\", \" \")\n",
    "\n",
    "    # Get city encodings from locDict if city name is found\n",
    "    print(\"City: \" + city.upper())\n",
    "    for key in locDict.keys():\n",
    "        if city.upper() in key or cv1.upper() in key or cv2.upper() in key or cv3.upper() in key:\n",
    "            encoding = locDict[key]\n",
    "            break\n",
    "\n",
    "    city_encodings[city] = encoding\n",
    "    path = 'https://www.rightmove.co.uk/typeAhead/uknostreet/'\n"
   ],
   "metadata": {
    "collapsed": false,
    "pycharm": {
     "name": "#%%\n"
    }
   }
  },
  {
   "cell_type": "code",
   "execution_count": null,
   "outputs": [],
   "source": [
    "path = \"https://www.rightmove.co.uk/property-for-sale/find.html?locationIdentifier=REGION%5E1271&sortType=6&propertyTypes=detached%2Csemi-detached%2Cterraced&includeSSTC=false&mustHave=&dontShow=&furnishTypes=&keywords=\""
   ],
   "metadata": {
    "collapsed": false,
    "pycharm": {
     "name": "#%%\n"
    }
   }
  },
  {
   "cell_type": "code",
   "execution_count": null,
   "outputs": [],
   "source": [
    "city_encodings, len(city_encodings)"
   ],
   "metadata": {
    "collapsed": false,
    "pycharm": {
     "name": "#%%\n"
    }
   }
  },
  {
   "cell_type": "code",
   "execution_count": null,
   "outputs": [],
   "source": [
    "city_encodings[\"Bury\"] = '257' # Bury and Bury St. Edmunds conflict\n",
    "city_encodings[\"Stratford\"] = '85312' # Stratford and Stratford-Upon-Avon conflict\n",
    "freq = {}\n",
    "for key, value in city_encodings.items():\n",
    "    freq.setdefault(value, set()).add(key)"
   ],
   "metadata": {
    "collapsed": false,
    "pycharm": {
     "name": "#%%\n"
    }
   }
  },
  {
   "cell_type": "code",
   "execution_count": null,
   "outputs": [],
   "source": [
    "# Check if there are any cities with the same encoding\n",
    "[(value, key) for key, value in freq.items() if len(value) > 1]"
   ],
   "metadata": {
    "collapsed": false,
    "pycharm": {
     "name": "#%%\n"
    }
   }
  },
  {
   "cell_type": "code",
   "execution_count": null,
   "outputs": [],
   "source": [
    "import requests\n",
    "import re\n",
    "headers = {\n",
    "    \"User-Agent\": \"Mozilla/5.0 (Windows NT 10.0; Win64; x64; rv:104.0) Gecko/20100101 Firefox/104.0\",\n",
    "    \"Accept\": \"*/*\",\n",
    "    \"Accept-Language\": \"en-GB,en;q=0.5\",\n",
    "    \"Accept-Encoding\": \"gzip, deflate, br\",\n",
    "    \"Connection\": \"keep-alive\",\n",
    "    \"Referer\": \"https://www.rightmove.co.uk/\"\n",
    "}\n",
    "\n",
    "\n",
    "# Search rightmove's streetview page to return the latitude and longitude of a listing\n",
    "def getLatLong(url: str, s):\n",
    "    index = url.index(\"?\")\n",
    "    lat_long_url = url[:index] + \"streetView\"  + url[index:]\n",
    "    r = requests.get(lat_long_url)\n",
    "    print(lat_long_url)\n",
    "    streetView_data = r.text\n",
    "\n",
    "    regex = r'\"latitude\":([-]?\\d{1,2}\\.?\\d{0,6})'\n",
    "    out = re.findall(regex, streetView_data)\n",
    "\n",
    "    if out:\n",
    "        lat = out[0]\n",
    "        regex = r'\"longitude\":([-]?\\d{1,2}\\.?\\d{0,6})'\n",
    "        out = re.findall(regex, streetView_data)\n",
    "        long = out[0]\n",
    "    else:\n",
    "        return None\n",
    "\n",
    "    return lat, long"
   ],
   "metadata": {
    "collapsed": false,
    "pycharm": {
     "name": "#%%\n"
    }
   }
  },
  {
   "cell_type": "code",
   "execution_count": null,
   "outputs": [],
   "source": [
    "data = []\n",
    "counts = {}\n",
    "s = requests.Session()\n",
    "\n",
    "# Scrape new house listings for each city\n",
    "for city in cities:\n",
    "    encoding = city_encodings[city]\n",
    "    old = path[path.index(\"REGION%\"): path.index(\"&\")]\n",
    "    new = path.replace(old, \"REGION^\" + encoding)\n",
    "\n",
    "    rm = RightmoveData(new)\n",
    "    df = rm.get_results\n",
    "\n",
    "    # Add city column to df\n",
    "    df['city'] = city\n",
    "    df[\"lat\"] = \"\"\n",
    "    df[\"long\"] = \"\"\n",
    "    urls = df[\"url\"]\n",
    "\n",
    "    for i, url in enumerate(urls):\n",
    "        response = getLatLong(url, s)\n",
    "        if response is not None:\n",
    "            lat = response[0]\n",
    "            long = response[1]\n",
    "            df.at[i, 'lat'] = lat\n",
    "            df.at[i, 'long'] = long\n",
    "\n",
    "    df.to_csv(\"data.csv\", mode=\"a\",encoding='utf-8', index=False)\n",
    "    data.append(df)\n",
    "    counts[city] = len(df)\n",
    "    print(city, \" \", counts[city], \"\\n\\n\")"
   ],
   "metadata": {
    "collapsed": false,
    "pycharm": {
     "name": "#%%\n"
    }
   }
  },
  {
   "cell_type": "code",
   "execution_count": null,
   "outputs": [],
   "source": [
    "import pandas as pd\n",
    "table = pd.read_csv(\"data.csv\")\n",
    "table.drop_duplicates(inplace=True)\n",
    "table.dropna(subset=[\"price\", \"type\"], inplace=True)\n",
    "table.reset_index(drop=True, inplace=True)"
   ],
   "metadata": {
    "collapsed": false,
    "pycharm": {
     "name": "#%%\n"
    }
   }
  },
  {
   "cell_type": "code",
   "execution_count": 43,
   "outputs": [
    {
     "data": {
      "text/plain": "         price                                     type  \\\n0       260000   4 bedroom semi-detached house for sale   \n1       145000  4 bedroom end of terrace house for sale   \n2       170000        3 bedroom terraced house for sale   \n3       175000        3 bedroom terraced house for sale   \n4       229995   3 bedroom semi-detached house for sale   \n...        ...                                      ...   \n86595   595000  4 bedroom end of terrace house for sale   \n86596   365000   5 bedroom semi-detached house for sale   \n86597  1500000            5 bedroom town house for sale   \n86598  1575000  10 bedroom semi-detached house for sale   \n86599  1500000                 5 bedroom house for sale   \n\n                                                 address  \\\n0                          Johns Lane, Hirwaun, CF44 9TQ   \n1                   Bell Street, Aberdare, Mid Glamorgan   \n2                  Bute Terrace, Aberdare, Mid Glamorgan   \n3                 Trevor Street, Aberdare, Mid Glamorgan   \n4      Derwent Drive, Aberdare, South Glamorgan, Rhon...   \n...                                                  ...   \n86595                        Charlton Street, York, YO23   \n86596                Cherry Wood Crescent, Fulford, York   \n86597                   St. Martins Lane, York,  YO1 6LN   \n86598                     St. George's Place, York, YO24   \n86599       St. Martins Lane, York, North Yorkshire, YO1   \n\n                                                     url  \\\n0      http://www.rightmove.co.uk/properties/12539948...   \n1      http://www.rightmove.co.uk/properties/12717744...   \n2      http://www.rightmove.co.uk/properties/12539620...   \n3      http://www.rightmove.co.uk/properties/12404807...   \n4      http://www.rightmove.co.uk/properties/12694738...   \n...                                                  ...   \n86595  http://www.rightmove.co.uk/properties/11608734...   \n86596  http://www.rightmove.co.uk/properties/85711197...   \n86597  http://www.rightmove.co.uk/properties/11392433...   \n86598  http://www.rightmove.co.uk/properties/81442933...   \n86599  http://www.rightmove.co.uk/properties/10194097...   \n\n                                               agent_url postcode  \\\n0      http://www.rightmove.co.uk/estate-agents/agent...     CF44   \n1      http://www.rightmove.co.uk/estate-agents/agent...      NaN   \n2      http://www.rightmove.co.uk/estate-agents/agent...      NaN   \n3      http://www.rightmove.co.uk/estate-agents/agent...      NaN   \n4      http://www.rightmove.co.uk/estate-agents/agent...     CF44   \n...                                                  ...      ...   \n86595  http://www.rightmove.co.uk/estate-agents/agent...     YO23   \n86596  http://www.rightmove.co.uk/estate-agents/agent...      NaN   \n86597  http://www.rightmove.co.uk/estate-agents/agent...      YO1   \n86598  http://www.rightmove.co.uk/estate-agents/agent...     YO24   \n86599  http://www.rightmove.co.uk/estate-agents/agent...      YO1   \n\n      full_postcode number_bedrooms                 search_date      city  \\\n0          CF44 9TQ             4.0  2022-09-17 20:23:35.136447  Aberdare   \n1               NaN             4.0  2022-09-17 20:23:35.136447  Aberdare   \n2               NaN             3.0  2022-09-17 20:23:35.136447  Aberdare   \n3               NaN             3.0  2022-09-17 20:23:35.136447  Aberdare   \n4               NaN             3.0  2022-09-17 20:23:35.136447  Aberdare   \n...             ...             ...                         ...       ...   \n86595           NaN             4.0  2022-09-28 13:35:19.429534      York   \n86596           NaN             5.0  2022-09-28 13:35:19.429534      York   \n86597       YO1 6LN             5.0  2022-09-28 13:35:19.429534      York   \n86598           NaN            10.0  2022-09-28 13:35:19.429534      York   \n86599           NaN             5.0  2022-09-28 13:35:19.429534      York   \n\n             lat       long  \n0      51.738987  -3.504362  \n1      51.721033  -3.454723  \n2      51.710768  -3.441247  \n3      51.709336   -3.44791  \n4       51.71133   -3.41749  \n...          ...        ...  \n86595  53.950639  -1.084873  \n86596   53.92686  -1.065574  \n86597  53.956947   -1.08736  \n86598  53.948883  -1.101566  \n86599   53.95698  -1.087477  \n\n[86600 rows x 12 columns]",
      "text/html": "<div>\n<style scoped>\n    .dataframe tbody tr th:only-of-type {\n        vertical-align: middle;\n    }\n\n    .dataframe tbody tr th {\n        vertical-align: top;\n    }\n\n    .dataframe thead th {\n        text-align: right;\n    }\n</style>\n<table border=\"1\" class=\"dataframe\">\n  <thead>\n    <tr style=\"text-align: right;\">\n      <th></th>\n      <th>price</th>\n      <th>type</th>\n      <th>address</th>\n      <th>url</th>\n      <th>agent_url</th>\n      <th>postcode</th>\n      <th>full_postcode</th>\n      <th>number_bedrooms</th>\n      <th>search_date</th>\n      <th>city</th>\n      <th>lat</th>\n      <th>long</th>\n    </tr>\n  </thead>\n  <tbody>\n    <tr>\n      <th>0</th>\n      <td>260000</td>\n      <td>4 bedroom semi-detached house for sale</td>\n      <td>Johns Lane, Hirwaun, CF44 9TQ</td>\n      <td>http://www.rightmove.co.uk/properties/12539948...</td>\n      <td>http://www.rightmove.co.uk/estate-agents/agent...</td>\n      <td>CF44</td>\n      <td>CF44 9TQ</td>\n      <td>4.0</td>\n      <td>2022-09-17 20:23:35.136447</td>\n      <td>Aberdare</td>\n      <td>51.738987</td>\n      <td>-3.504362</td>\n    </tr>\n    <tr>\n      <th>1</th>\n      <td>145000</td>\n      <td>4 bedroom end of terrace house for sale</td>\n      <td>Bell Street, Aberdare, Mid Glamorgan</td>\n      <td>http://www.rightmove.co.uk/properties/12717744...</td>\n      <td>http://www.rightmove.co.uk/estate-agents/agent...</td>\n      <td>NaN</td>\n      <td>NaN</td>\n      <td>4.0</td>\n      <td>2022-09-17 20:23:35.136447</td>\n      <td>Aberdare</td>\n      <td>51.721033</td>\n      <td>-3.454723</td>\n    </tr>\n    <tr>\n      <th>2</th>\n      <td>170000</td>\n      <td>3 bedroom terraced house for sale</td>\n      <td>Bute Terrace, Aberdare, Mid Glamorgan</td>\n      <td>http://www.rightmove.co.uk/properties/12539620...</td>\n      <td>http://www.rightmove.co.uk/estate-agents/agent...</td>\n      <td>NaN</td>\n      <td>NaN</td>\n      <td>3.0</td>\n      <td>2022-09-17 20:23:35.136447</td>\n      <td>Aberdare</td>\n      <td>51.710768</td>\n      <td>-3.441247</td>\n    </tr>\n    <tr>\n      <th>3</th>\n      <td>175000</td>\n      <td>3 bedroom terraced house for sale</td>\n      <td>Trevor Street, Aberdare, Mid Glamorgan</td>\n      <td>http://www.rightmove.co.uk/properties/12404807...</td>\n      <td>http://www.rightmove.co.uk/estate-agents/agent...</td>\n      <td>NaN</td>\n      <td>NaN</td>\n      <td>3.0</td>\n      <td>2022-09-17 20:23:35.136447</td>\n      <td>Aberdare</td>\n      <td>51.709336</td>\n      <td>-3.44791</td>\n    </tr>\n    <tr>\n      <th>4</th>\n      <td>229995</td>\n      <td>3 bedroom semi-detached house for sale</td>\n      <td>Derwent Drive, Aberdare, South Glamorgan, Rhon...</td>\n      <td>http://www.rightmove.co.uk/properties/12694738...</td>\n      <td>http://www.rightmove.co.uk/estate-agents/agent...</td>\n      <td>CF44</td>\n      <td>NaN</td>\n      <td>3.0</td>\n      <td>2022-09-17 20:23:35.136447</td>\n      <td>Aberdare</td>\n      <td>51.71133</td>\n      <td>-3.41749</td>\n    </tr>\n    <tr>\n      <th>...</th>\n      <td>...</td>\n      <td>...</td>\n      <td>...</td>\n      <td>...</td>\n      <td>...</td>\n      <td>...</td>\n      <td>...</td>\n      <td>...</td>\n      <td>...</td>\n      <td>...</td>\n      <td>...</td>\n      <td>...</td>\n    </tr>\n    <tr>\n      <th>86595</th>\n      <td>595000</td>\n      <td>4 bedroom end of terrace house for sale</td>\n      <td>Charlton Street, York, YO23</td>\n      <td>http://www.rightmove.co.uk/properties/11608734...</td>\n      <td>http://www.rightmove.co.uk/estate-agents/agent...</td>\n      <td>YO23</td>\n      <td>NaN</td>\n      <td>4.0</td>\n      <td>2022-09-28 13:35:19.429534</td>\n      <td>York</td>\n      <td>53.950639</td>\n      <td>-1.084873</td>\n    </tr>\n    <tr>\n      <th>86596</th>\n      <td>365000</td>\n      <td>5 bedroom semi-detached house for sale</td>\n      <td>Cherry Wood Crescent, Fulford, York</td>\n      <td>http://www.rightmove.co.uk/properties/85711197...</td>\n      <td>http://www.rightmove.co.uk/estate-agents/agent...</td>\n      <td>NaN</td>\n      <td>NaN</td>\n      <td>5.0</td>\n      <td>2022-09-28 13:35:19.429534</td>\n      <td>York</td>\n      <td>53.92686</td>\n      <td>-1.065574</td>\n    </tr>\n    <tr>\n      <th>86597</th>\n      <td>1500000</td>\n      <td>5 bedroom town house for sale</td>\n      <td>St. Martins Lane, York,  YO1 6LN</td>\n      <td>http://www.rightmove.co.uk/properties/11392433...</td>\n      <td>http://www.rightmove.co.uk/estate-agents/agent...</td>\n      <td>YO1</td>\n      <td>YO1 6LN</td>\n      <td>5.0</td>\n      <td>2022-09-28 13:35:19.429534</td>\n      <td>York</td>\n      <td>53.956947</td>\n      <td>-1.08736</td>\n    </tr>\n    <tr>\n      <th>86598</th>\n      <td>1575000</td>\n      <td>10 bedroom semi-detached house for sale</td>\n      <td>St. George's Place, York, YO24</td>\n      <td>http://www.rightmove.co.uk/properties/81442933...</td>\n      <td>http://www.rightmove.co.uk/estate-agents/agent...</td>\n      <td>YO24</td>\n      <td>NaN</td>\n      <td>10.0</td>\n      <td>2022-09-28 13:35:19.429534</td>\n      <td>York</td>\n      <td>53.948883</td>\n      <td>-1.101566</td>\n    </tr>\n    <tr>\n      <th>86599</th>\n      <td>1500000</td>\n      <td>5 bedroom house for sale</td>\n      <td>St. Martins Lane, York, North Yorkshire, YO1</td>\n      <td>http://www.rightmove.co.uk/properties/10194097...</td>\n      <td>http://www.rightmove.co.uk/estate-agents/agent...</td>\n      <td>YO1</td>\n      <td>NaN</td>\n      <td>5.0</td>\n      <td>2022-09-28 13:35:19.429534</td>\n      <td>York</td>\n      <td>53.95698</td>\n      <td>-1.087477</td>\n    </tr>\n  </tbody>\n</table>\n<p>86600 rows × 12 columns</p>\n</div>"
     },
     "execution_count": 43,
     "metadata": {},
     "output_type": "execute_result"
    }
   ],
   "source": [
    "table"
   ],
   "metadata": {
    "collapsed": false,
    "pycharm": {
     "name": "#%%\n"
    }
   }
  }
 ],
 "metadata": {
  "kernelspec": {
   "display_name": "Python 3",
   "language": "python",
   "name": "python3"
  },
  "language_info": {
   "codemirror_mode": {
    "name": "ipython",
    "version": 2
   },
   "file_extension": ".py",
   "mimetype": "text/x-python",
   "name": "python",
   "nbconvert_exporter": "python",
   "pygments_lexer": "ipython2",
   "version": "2.7.6"
  }
 },
 "nbformat": 4,
 "nbformat_minor": 0
}