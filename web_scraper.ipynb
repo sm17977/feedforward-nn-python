{
 "cells": [
  {
   "cell_type": "code",
   "execution_count": null,
   "outputs": [],
   "source": [
    "import json\n",
    "\n",
    "import pandas as pd\n",
    "from rightmove_webscraper import RightmoveData"
   ],
   "metadata": {
    "collapsed": false,
    "pycharm": {
     "name": "#%%\n"
    }
   }
  },
  {
   "cell_type": "code",
   "execution_count": 20,
   "outputs": [],
   "source": [
    "url = \"https://www.rightmove.co.uk/property-for-sale/find.html?locationIdentifier=REGION%5E1271&sortType=6&propertyTypes=detached%2Csemi-detached%2Cterraced&includeSSTC=false&mustHave=&dontShow=&furnishTypes=&keywords=\"\n",
    "\n",
    "rm = RightmoveData(url)"
   ],
   "metadata": {
    "collapsed": false,
    "pycharm": {
     "name": "#%%\n"
    }
   }
  },
  {
   "cell_type": "code",
   "execution_count": 21,
   "outputs": [
    {
     "data": {
      "text/plain": "      price                               type  \\\n0  225000.0      3 bedroom town house for sale   \n1  105000.0  2 bedroom terraced house for sale   \n2  400000.0  5 bedroom detached house for sale   \n3  190000.0  4 bedroom detached house for sale   \n4  119950.0      2 bedroom town house for sale   \n\n                                         address  \\\n0             Charolais Crescent, Lightwood, ST3   \n1                 Leek Road, Stoke-on-Trent, ST1   \n2          Harold Hines Way, Stoke-on-Trent, ST4   \n3  Upper Normacot Road, Normacot, Stoke-On-Trent   \n4                        Baden Road, Smallthorne   \n\n                                                 url  \\\n0  http://www.rightmove.co.uk/properties/12611226...   \n1  http://www.rightmove.co.uk/properties/12190782...   \n2  http://www.rightmove.co.uk/properties/12616823...   \n3  http://www.rightmove.co.uk/properties/12616454...   \n4  http://www.rightmove.co.uk/properties/12616364...   \n\n                                           agent_url postcode full_postcode  \\\n0  http://www.rightmove.co.uk/estate-agents/agent...      ST3           NaN   \n1  http://www.rightmove.co.uk/estate-agents/agent...      ST1           NaN   \n2  http://www.rightmove.co.uk/estate-agents/agent...      ST4           NaN   \n3  http://www.rightmove.co.uk/estate-agents/agent...      NaN           NaN   \n4  http://www.rightmove.co.uk/estate-agents/agent...      NaN           NaN   \n\n   number_bedrooms                search_date  \n0              3.0 2022-08-18 15:56:55.553800  \n1              2.0 2022-08-18 15:56:55.553800  \n2              5.0 2022-08-18 15:56:55.553800  \n3              4.0 2022-08-18 15:56:55.553800  \n4              2.0 2022-08-18 15:56:55.553800  ",
      "text/html": "<div>\n<style scoped>\n    .dataframe tbody tr th:only-of-type {\n        vertical-align: middle;\n    }\n\n    .dataframe tbody tr th {\n        vertical-align: top;\n    }\n\n    .dataframe thead th {\n        text-align: right;\n    }\n</style>\n<table border=\"1\" class=\"dataframe\">\n  <thead>\n    <tr style=\"text-align: right;\">\n      <th></th>\n      <th>price</th>\n      <th>type</th>\n      <th>address</th>\n      <th>url</th>\n      <th>agent_url</th>\n      <th>postcode</th>\n      <th>full_postcode</th>\n      <th>number_bedrooms</th>\n      <th>search_date</th>\n    </tr>\n  </thead>\n  <tbody>\n    <tr>\n      <th>0</th>\n      <td>225000.0</td>\n      <td>3 bedroom town house for sale</td>\n      <td>Charolais Crescent, Lightwood, ST3</td>\n      <td>http://www.rightmove.co.uk/properties/12611226...</td>\n      <td>http://www.rightmove.co.uk/estate-agents/agent...</td>\n      <td>ST3</td>\n      <td>NaN</td>\n      <td>3.0</td>\n      <td>2022-08-18 15:56:55.553800</td>\n    </tr>\n    <tr>\n      <th>1</th>\n      <td>105000.0</td>\n      <td>2 bedroom terraced house for sale</td>\n      <td>Leek Road, Stoke-on-Trent, ST1</td>\n      <td>http://www.rightmove.co.uk/properties/12190782...</td>\n      <td>http://www.rightmove.co.uk/estate-agents/agent...</td>\n      <td>ST1</td>\n      <td>NaN</td>\n      <td>2.0</td>\n      <td>2022-08-18 15:56:55.553800</td>\n    </tr>\n    <tr>\n      <th>2</th>\n      <td>400000.0</td>\n      <td>5 bedroom detached house for sale</td>\n      <td>Harold Hines Way, Stoke-on-Trent, ST4</td>\n      <td>http://www.rightmove.co.uk/properties/12616823...</td>\n      <td>http://www.rightmove.co.uk/estate-agents/agent...</td>\n      <td>ST4</td>\n      <td>NaN</td>\n      <td>5.0</td>\n      <td>2022-08-18 15:56:55.553800</td>\n    </tr>\n    <tr>\n      <th>3</th>\n      <td>190000.0</td>\n      <td>4 bedroom detached house for sale</td>\n      <td>Upper Normacot Road, Normacot, Stoke-On-Trent</td>\n      <td>http://www.rightmove.co.uk/properties/12616454...</td>\n      <td>http://www.rightmove.co.uk/estate-agents/agent...</td>\n      <td>NaN</td>\n      <td>NaN</td>\n      <td>4.0</td>\n      <td>2022-08-18 15:56:55.553800</td>\n    </tr>\n    <tr>\n      <th>4</th>\n      <td>119950.0</td>\n      <td>2 bedroom town house for sale</td>\n      <td>Baden Road, Smallthorne</td>\n      <td>http://www.rightmove.co.uk/properties/12616364...</td>\n      <td>http://www.rightmove.co.uk/estate-agents/agent...</td>\n      <td>NaN</td>\n      <td>NaN</td>\n      <td>2.0</td>\n      <td>2022-08-18 15:56:55.553800</td>\n    </tr>\n  </tbody>\n</table>\n</div>"
     },
     "execution_count": 21,
     "metadata": {},
     "output_type": "execute_result"
    }
   ],
   "source": [
    "rm.get_results.head()"
   ],
   "metadata": {
    "collapsed": false,
    "pycharm": {
     "name": "#%%\n"
    }
   }
  },
  {
   "cell_type": "code",
   "execution_count": 22,
   "outputs": [
    {
     "data": {
      "text/plain": "        price                                    type  \\\n0    225000.0           3 bedroom town house for sale   \n1    105000.0       2 bedroom terraced house for sale   \n2    400000.0       5 bedroom detached house for sale   \n3    190000.0       4 bedroom detached house for sale   \n4    119950.0           2 bedroom town house for sale   \n..        ...                                     ...   \n480  795000.0       6 bedroom detached house for sale   \n481   65000.0       2 bedroom terraced house for sale   \n482  250000.0       4 bedroom terraced house for sale   \n483  115000.0  3 bedroom semi-detached house for sale   \n484  366495.0       4 bedroom detached house for sale   \n\n                                           address  \\\n0               Charolais Crescent, Lightwood, ST3   \n1                   Leek Road, Stoke-on-Trent, ST1   \n2            Harold Hines Way, Stoke-on-Trent, ST4   \n3    Upper Normacot Road, Normacot, Stoke-On-Trent   \n4                          Baden Road, Smallthorne   \n..                                             ...   \n480     Ball Lane, Brown Edge, Staffordshire, ST6    \n481                        Oldfield Street, Fenton   \n482        Victoria Road Methodist Church, ST4 2HG   \n483     Brookhouse Road, Meir, Stoke-On-Trent, ST3   \n484        Trentham,\\r\\nStoke-On-Trent,\\r\\nST4 8DP   \n\n                                                   url  \\\n0    http://www.rightmove.co.uk/properties/12611226...   \n1    http://www.rightmove.co.uk/properties/12190782...   \n2    http://www.rightmove.co.uk/properties/12616823...   \n3    http://www.rightmove.co.uk/properties/12616454...   \n4    http://www.rightmove.co.uk/properties/12616364...   \n..                                                 ...   \n480  http://www.rightmove.co.uk/properties/11429797...   \n481  http://www.rightmove.co.uk/properties/11667558...   \n482  http://www.rightmove.co.uk/properties/11076557...   \n483  http://www.rightmove.co.uk/properties/12143530...   \n484  http://www.rightmove.co.uk/properties/12599251...   \n\n                                             agent_url postcode full_postcode  \\\n0    http://www.rightmove.co.uk/estate-agents/agent...      ST3           NaN   \n1    http://www.rightmove.co.uk/estate-agents/agent...      ST1           NaN   \n2    http://www.rightmove.co.uk/estate-agents/agent...      ST4           NaN   \n3    http://www.rightmove.co.uk/estate-agents/agent...      NaN           NaN   \n4    http://www.rightmove.co.uk/estate-agents/agent...      NaN           NaN   \n..                                                 ...      ...           ...   \n480  http://www.rightmove.co.uk/estate-agents/agent...      ST6           NaN   \n481  http://www.rightmove.co.uk/estate-agents/agent...      NaN           NaN   \n482  http://www.rightmove.co.uk/estate-agents/agent...      ST4       ST4 2HG   \n483  http://www.rightmove.co.uk/estate-agents/agent...      ST3           NaN   \n484  http://www.rightmove.co.uk/developer/branch/Ba...      ST4       ST4 8DP   \n\n     number_bedrooms                search_date  \n0                3.0 2022-08-18 15:56:55.553800  \n1                2.0 2022-08-18 15:56:55.553800  \n2                5.0 2022-08-18 15:56:55.553800  \n3                4.0 2022-08-18 15:56:55.553800  \n4                2.0 2022-08-18 15:56:55.553800  \n..               ...                        ...  \n480              6.0 2022-08-18 15:56:55.553800  \n481              2.0 2022-08-18 15:56:55.553800  \n482              4.0 2022-08-18 15:56:55.553800  \n483              3.0 2022-08-18 15:56:55.553800  \n484              4.0 2022-08-18 15:56:55.553800  \n\n[485 rows x 9 columns]",
      "text/html": "<div>\n<style scoped>\n    .dataframe tbody tr th:only-of-type {\n        vertical-align: middle;\n    }\n\n    .dataframe tbody tr th {\n        vertical-align: top;\n    }\n\n    .dataframe thead th {\n        text-align: right;\n    }\n</style>\n<table border=\"1\" class=\"dataframe\">\n  <thead>\n    <tr style=\"text-align: right;\">\n      <th></th>\n      <th>price</th>\n      <th>type</th>\n      <th>address</th>\n      <th>url</th>\n      <th>agent_url</th>\n      <th>postcode</th>\n      <th>full_postcode</th>\n      <th>number_bedrooms</th>\n      <th>search_date</th>\n    </tr>\n  </thead>\n  <tbody>\n    <tr>\n      <th>0</th>\n      <td>225000.0</td>\n      <td>3 bedroom town house for sale</td>\n      <td>Charolais Crescent, Lightwood, ST3</td>\n      <td>http://www.rightmove.co.uk/properties/12611226...</td>\n      <td>http://www.rightmove.co.uk/estate-agents/agent...</td>\n      <td>ST3</td>\n      <td>NaN</td>\n      <td>3.0</td>\n      <td>2022-08-18 15:56:55.553800</td>\n    </tr>\n    <tr>\n      <th>1</th>\n      <td>105000.0</td>\n      <td>2 bedroom terraced house for sale</td>\n      <td>Leek Road, Stoke-on-Trent, ST1</td>\n      <td>http://www.rightmove.co.uk/properties/12190782...</td>\n      <td>http://www.rightmove.co.uk/estate-agents/agent...</td>\n      <td>ST1</td>\n      <td>NaN</td>\n      <td>2.0</td>\n      <td>2022-08-18 15:56:55.553800</td>\n    </tr>\n    <tr>\n      <th>2</th>\n      <td>400000.0</td>\n      <td>5 bedroom detached house for sale</td>\n      <td>Harold Hines Way, Stoke-on-Trent, ST4</td>\n      <td>http://www.rightmove.co.uk/properties/12616823...</td>\n      <td>http://www.rightmove.co.uk/estate-agents/agent...</td>\n      <td>ST4</td>\n      <td>NaN</td>\n      <td>5.0</td>\n      <td>2022-08-18 15:56:55.553800</td>\n    </tr>\n    <tr>\n      <th>3</th>\n      <td>190000.0</td>\n      <td>4 bedroom detached house for sale</td>\n      <td>Upper Normacot Road, Normacot, Stoke-On-Trent</td>\n      <td>http://www.rightmove.co.uk/properties/12616454...</td>\n      <td>http://www.rightmove.co.uk/estate-agents/agent...</td>\n      <td>NaN</td>\n      <td>NaN</td>\n      <td>4.0</td>\n      <td>2022-08-18 15:56:55.553800</td>\n    </tr>\n    <tr>\n      <th>4</th>\n      <td>119950.0</td>\n      <td>2 bedroom town house for sale</td>\n      <td>Baden Road, Smallthorne</td>\n      <td>http://www.rightmove.co.uk/properties/12616364...</td>\n      <td>http://www.rightmove.co.uk/estate-agents/agent...</td>\n      <td>NaN</td>\n      <td>NaN</td>\n      <td>2.0</td>\n      <td>2022-08-18 15:56:55.553800</td>\n    </tr>\n    <tr>\n      <th>...</th>\n      <td>...</td>\n      <td>...</td>\n      <td>...</td>\n      <td>...</td>\n      <td>...</td>\n      <td>...</td>\n      <td>...</td>\n      <td>...</td>\n      <td>...</td>\n    </tr>\n    <tr>\n      <th>480</th>\n      <td>795000.0</td>\n      <td>6 bedroom detached house for sale</td>\n      <td>Ball Lane, Brown Edge, Staffordshire, ST6</td>\n      <td>http://www.rightmove.co.uk/properties/11429797...</td>\n      <td>http://www.rightmove.co.uk/estate-agents/agent...</td>\n      <td>ST6</td>\n      <td>NaN</td>\n      <td>6.0</td>\n      <td>2022-08-18 15:56:55.553800</td>\n    </tr>\n    <tr>\n      <th>481</th>\n      <td>65000.0</td>\n      <td>2 bedroom terraced house for sale</td>\n      <td>Oldfield Street, Fenton</td>\n      <td>http://www.rightmove.co.uk/properties/11667558...</td>\n      <td>http://www.rightmove.co.uk/estate-agents/agent...</td>\n      <td>NaN</td>\n      <td>NaN</td>\n      <td>2.0</td>\n      <td>2022-08-18 15:56:55.553800</td>\n    </tr>\n    <tr>\n      <th>482</th>\n      <td>250000.0</td>\n      <td>4 bedroom terraced house for sale</td>\n      <td>Victoria Road Methodist Church, ST4 2HG</td>\n      <td>http://www.rightmove.co.uk/properties/11076557...</td>\n      <td>http://www.rightmove.co.uk/estate-agents/agent...</td>\n      <td>ST4</td>\n      <td>ST4 2HG</td>\n      <td>4.0</td>\n      <td>2022-08-18 15:56:55.553800</td>\n    </tr>\n    <tr>\n      <th>483</th>\n      <td>115000.0</td>\n      <td>3 bedroom semi-detached house for sale</td>\n      <td>Brookhouse Road, Meir, Stoke-On-Trent, ST3</td>\n      <td>http://www.rightmove.co.uk/properties/12143530...</td>\n      <td>http://www.rightmove.co.uk/estate-agents/agent...</td>\n      <td>ST3</td>\n      <td>NaN</td>\n      <td>3.0</td>\n      <td>2022-08-18 15:56:55.553800</td>\n    </tr>\n    <tr>\n      <th>484</th>\n      <td>366495.0</td>\n      <td>4 bedroom detached house for sale</td>\n      <td>Trentham,\\r\\nStoke-On-Trent,\\r\\nST4 8DP</td>\n      <td>http://www.rightmove.co.uk/properties/12599251...</td>\n      <td>http://www.rightmove.co.uk/developer/branch/Ba...</td>\n      <td>ST4</td>\n      <td>ST4 8DP</td>\n      <td>4.0</td>\n      <td>2022-08-18 15:56:55.553800</td>\n    </tr>\n  </tbody>\n</table>\n<p>485 rows × 9 columns</p>\n</div>"
     },
     "execution_count": 22,
     "metadata": {},
     "output_type": "execute_result"
    }
   ],
   "source": [
    "rm.get_results"
   ],
   "metadata": {
    "collapsed": false,
    "pycharm": {
     "name": "#%%\n"
    }
   }
  },
  {
   "cell_type": "code",
   "execution_count": 70,
   "outputs": [],
   "source": [
    "path = 'city_names_extended.txt'\n",
    "cities = []"
   ],
   "metadata": {
    "collapsed": false,
    "pycharm": {
     "name": "#%%\n"
    }
   }
  },
  {
   "cell_type": "code",
   "execution_count": 71,
   "outputs": [],
   "source": [
    "with open(path) as file:\n",
    "    for line in file:\n",
    "        cities.append(line.replace(\"\\n\", \"\"))"
   ],
   "metadata": {
    "collapsed": false,
    "pycharm": {
     "name": "#%%\n"
    }
   }
  },
  {
   "cell_type": "code",
   "execution_count": 72,
   "outputs": [
    {
     "data": {
      "text/plain": "['Barnsley',\n 'Basildon',\n 'Basingstoke',\n 'Bath',\n 'Bedford',\n 'Birkenhead',\n 'Birmingham',\n 'Blackburn',\n 'Blackpool',\n 'Bolton',\n 'Bournemouth',\n 'Bracknell',\n 'Bradford',\n 'Brighton and Hove',\n 'Bristol',\n 'Burnley',\n 'Burton upon Trent',\n 'Bury',\n 'Cambridge',\n 'Cardiff',\n 'Carlisle',\n 'Chatham',\n 'Chelmsford',\n 'Cheltenham',\n 'Chester',\n 'Chesterfield',\n 'Colchester',\n 'Coventry',\n 'Crawley',\n 'Darlington',\n 'Derby',\n 'Doncaster',\n 'Dudley',\n 'Eastbourne',\n 'Exeter',\n 'Gateshead',\n 'Gillingham',\n 'Gloucester',\n 'Grimsby',\n 'Guildford',\n 'Halifax',\n 'Harlow',\n 'Harrogate',\n 'Hartlepool',\n 'Hastings',\n 'Hemel Hempstead',\n 'High Wycombe',\n 'Huddersfield',\n 'Ipswich',\n 'Kingston upon Hull',\n 'Leeds',\n 'Leicester',\n 'Lincoln',\n 'Liverpool',\n 'London',\n 'Luton',\n 'Maidstone',\n 'Manchester',\n 'Mansfield',\n 'Middlesbrough',\n 'Milton Keynes',\n 'Newcastle upon Tyne',\n 'Newcastle-under-Lyme',\n 'Newport',\n 'Northampton',\n 'Norwich',\n 'Nottingham',\n 'Nuneaton',\n 'Oldham',\n 'Oxford',\n 'Peterborough',\n 'Plymouth',\n 'Poole',\n 'Portsmouth',\n 'Preston',\n 'Reading',\n 'Redditch',\n 'Rochdale',\n 'Rotherham',\n 'Salford',\n 'Scunthorpe',\n 'Sheffield',\n 'Shrewsbury',\n 'Slough',\n 'Solihull',\n 'South Shields',\n 'Southampton',\n 'Southend-on-Sea',\n 'Southport',\n 'Saint Albans',\n 'Saint Helens',\n 'Stevenage',\n 'Stockport',\n 'Stockton-on-Tees',\n 'Stoke-on-Trent',\n 'Sunderland',\n 'Sutton Coldfield',\n 'Swansea',\n 'Swindon',\n 'Telford',\n 'Wakefield',\n 'Walsall',\n 'Warrington',\n 'Watford',\n 'West Bromwich',\n 'Weston-Super-Mare',\n 'Wigan',\n 'Woking',\n 'Wolverhampton',\n 'Worcester',\n 'Worthing',\n 'York']"
     },
     "execution_count": 72,
     "metadata": {},
     "output_type": "execute_result"
    }
   ],
   "source": [
    "cities"
   ],
   "metadata": {
    "collapsed": false,
    "pycharm": {
     "name": "#%%\n"
    }
   }
  },
  {
   "cell_type": "code",
   "execution_count": 73,
   "outputs": [],
   "source": [
    "city_encodings = {}"
   ],
   "metadata": {
    "collapsed": false,
    "pycharm": {
     "name": "#%%\n"
    }
   }
  },
  {
   "cell_type": "code",
   "execution_count": 74,
   "outputs": [],
   "source": [
    "import requests, json\n",
    "import re\n",
    "path = 'https://www.rightmove.co.uk/typeAhead/uknostreet/'"
   ],
   "metadata": {
    "collapsed": false,
    "pycharm": {
     "name": "#%%\n"
    }
   }
  },
  {
   "cell_type": "code",
   "execution_count": 75,
   "outputs": [
    {
     "name": "stdout",
     "output_type": "stream",
     "text": [
      "https://www.rightmove.co.uk/typeAhead/uknostreet/BA/RN/SL/EY\n",
      "https://www.rightmove.co.uk/typeAhead/uknostreet/BA/SI/LD/ON\n",
      "https://www.rightmove.co.uk/typeAhead/uknostreet/BA/SI/NG/ST/OK/E\n",
      "https://www.rightmove.co.uk/typeAhead/uknostreet/BA/TH\n",
      "https://www.rightmove.co.uk/typeAhead/uknostreet/BE/DF/OR/D\n",
      "https://www.rightmove.co.uk/typeAhead/uknostreet/BI/RK/EN/HE/AD\n",
      "https://www.rightmove.co.uk/typeAhead/uknostreet/BI/RM/IN/GH/AM\n",
      "https://www.rightmove.co.uk/typeAhead/uknostreet/BL/AC/KB/UR/N\n",
      "https://www.rightmove.co.uk/typeAhead/uknostreet/BL/AC/KP/OO/L\n",
      "https://www.rightmove.co.uk/typeAhead/uknostreet/BO/LT/ON\n",
      "https://www.rightmove.co.uk/typeAhead/uknostreet/BO/UR/NE/MO/UT/H\n",
      "https://www.rightmove.co.uk/typeAhead/uknostreet/BR/AC/KN/EL/L\n",
      "https://www.rightmove.co.uk/typeAhead/uknostreet/BR/AD/FO/RD\n",
      "https://www.rightmove.co.uk/typeAhead/uknostreet/BR/IG/HT/ON/%20A/ND/%20H/OV/E\n",
      "https://www.rightmove.co.uk/typeAhead/uknostreet/BR/IS/TO/L\n",
      "https://www.rightmove.co.uk/typeAhead/uknostreet/BU/RN/LE/Y\n",
      "https://www.rightmove.co.uk/typeAhead/uknostreet/BU/RT/ON/%20U/PO/N%20/TR/EN/T\n",
      "https://www.rightmove.co.uk/typeAhead/uknostreet/BU/RY\n",
      "https://www.rightmove.co.uk/typeAhead/uknostreet/CA/MB/RI/DG/E\n",
      "https://www.rightmove.co.uk/typeAhead/uknostreet/CA/RD/IF/F\n",
      "https://www.rightmove.co.uk/typeAhead/uknostreet/CA/RL/IS/LE\n",
      "https://www.rightmove.co.uk/typeAhead/uknostreet/CH/AT/HA/M\n",
      "https://www.rightmove.co.uk/typeAhead/uknostreet/CH/EL/MS/FO/RD\n",
      "https://www.rightmove.co.uk/typeAhead/uknostreet/CH/EL/TE/NH/AM\n",
      "https://www.rightmove.co.uk/typeAhead/uknostreet/CH/ES/TE/R\n",
      "https://www.rightmove.co.uk/typeAhead/uknostreet/CH/ES/TE/RF/IE/LD\n",
      "https://www.rightmove.co.uk/typeAhead/uknostreet/CO/LC/HE/ST/ER\n",
      "https://www.rightmove.co.uk/typeAhead/uknostreet/CO/VE/NT/RY\n",
      "https://www.rightmove.co.uk/typeAhead/uknostreet/CR/AW/LE/Y\n",
      "https://www.rightmove.co.uk/typeAhead/uknostreet/DA/RL/IN/GT/ON\n",
      "https://www.rightmove.co.uk/typeAhead/uknostreet/DE/RB/Y\n",
      "https://www.rightmove.co.uk/typeAhead/uknostreet/DO/NC/AS/TE/R\n",
      "https://www.rightmove.co.uk/typeAhead/uknostreet/DU/DL/EY\n",
      "https://www.rightmove.co.uk/typeAhead/uknostreet/EA/ST/BO/UR/NE\n",
      "https://www.rightmove.co.uk/typeAhead/uknostreet/EX/ET/ER\n",
      "https://www.rightmove.co.uk/typeAhead/uknostreet/GA/TE/SH/EA/D\n",
      "https://www.rightmove.co.uk/typeAhead/uknostreet/GI/LL/IN/GH/AM\n",
      "https://www.rightmove.co.uk/typeAhead/uknostreet/GL/OU/CE/ST/ER\n",
      "https://www.rightmove.co.uk/typeAhead/uknostreet/GR/IM/SB/Y\n",
      "https://www.rightmove.co.uk/typeAhead/uknostreet/GU/IL/DF/OR/D\n",
      "https://www.rightmove.co.uk/typeAhead/uknostreet/HA/LI/FA/X\n",
      "https://www.rightmove.co.uk/typeAhead/uknostreet/HA/RL/OW\n",
      "https://www.rightmove.co.uk/typeAhead/uknostreet/HA/RR/OG/AT/E\n",
      "https://www.rightmove.co.uk/typeAhead/uknostreet/HA/RT/LE/PO/OL\n",
      "https://www.rightmove.co.uk/typeAhead/uknostreet/HA/ST/IN/GS\n",
      "https://www.rightmove.co.uk/typeAhead/uknostreet/HE/ME/L%20/HE/MP/ST/EA/D\n",
      "https://www.rightmove.co.uk/typeAhead/uknostreet/HI/GH/%20W/YC/OM/BE\n",
      "https://www.rightmove.co.uk/typeAhead/uknostreet/HU/DD/ER/SF/IE/LD\n",
      "https://www.rightmove.co.uk/typeAhead/uknostreet/IP/SW/IC/H\n",
      "https://www.rightmove.co.uk/typeAhead/uknostreet/KI/NG/ST/ON/%20U/PO/N%20/HU/LL\n",
      "https://www.rightmove.co.uk/typeAhead/uknostreet/LE/ED/S\n",
      "https://www.rightmove.co.uk/typeAhead/uknostreet/LE/IC/ES/TE/R\n",
      "https://www.rightmove.co.uk/typeAhead/uknostreet/LI/NC/OL/N\n",
      "https://www.rightmove.co.uk/typeAhead/uknostreet/LI/VE/RP/OO/L\n",
      "https://www.rightmove.co.uk/typeAhead/uknostreet/LO/ND/ON\n",
      "https://www.rightmove.co.uk/typeAhead/uknostreet/LU/TO/N\n",
      "https://www.rightmove.co.uk/typeAhead/uknostreet/MA/ID/ST/ON/E\n",
      "https://www.rightmove.co.uk/typeAhead/uknostreet/MA/NC/HE/ST/ER\n",
      "https://www.rightmove.co.uk/typeAhead/uknostreet/MA/NS/FI/EL/D\n",
      "https://www.rightmove.co.uk/typeAhead/uknostreet/MI/DD/LE/SB/RO/UG/H\n",
      "https://www.rightmove.co.uk/typeAhead/uknostreet/MI/LT/ON/%20K/EY/NE/S\n",
      "https://www.rightmove.co.uk/typeAhead/uknostreet/NE/WC/AS/TL/E%20/UP/ON/%20T/YN/E\n",
      "https://www.rightmove.co.uk/typeAhead/uknostreet/NE/WC/AS/TL/E%20/UN/DE/R%20/LY/ME\n",
      "https://www.rightmove.co.uk/typeAhead/uknostreet/NE/WP/OR/T\n",
      "https://www.rightmove.co.uk/typeAhead/uknostreet/NO/RT/HA/MP/TO/N\n",
      "https://www.rightmove.co.uk/typeAhead/uknostreet/NO/RW/IC/H\n",
      "https://www.rightmove.co.uk/typeAhead/uknostreet/NO/TT/IN/GH/AM\n",
      "https://www.rightmove.co.uk/typeAhead/uknostreet/NU/NE/AT/ON\n",
      "https://www.rightmove.co.uk/typeAhead/uknostreet/OL/DH/AM\n",
      "https://www.rightmove.co.uk/typeAhead/uknostreet/OX/FO/RD\n",
      "https://www.rightmove.co.uk/typeAhead/uknostreet/PE/TE/RB/OR/OU/GH\n",
      "https://www.rightmove.co.uk/typeAhead/uknostreet/PL/YM/OU/TH\n",
      "https://www.rightmove.co.uk/typeAhead/uknostreet/PO/OL/E\n",
      "https://www.rightmove.co.uk/typeAhead/uknostreet/PO/RT/SM/OU/TH\n",
      "https://www.rightmove.co.uk/typeAhead/uknostreet/PR/ES/TO/N\n",
      "https://www.rightmove.co.uk/typeAhead/uknostreet/RE/AD/IN/G\n",
      "https://www.rightmove.co.uk/typeAhead/uknostreet/RE/DD/IT/CH\n",
      "https://www.rightmove.co.uk/typeAhead/uknostreet/RO/CH/DA/LE\n",
      "https://www.rightmove.co.uk/typeAhead/uknostreet/RO/TH/ER/HA/M\n",
      "https://www.rightmove.co.uk/typeAhead/uknostreet/SA/LF/OR/D\n",
      "https://www.rightmove.co.uk/typeAhead/uknostreet/SC/UN/TH/OR/PE\n",
      "https://www.rightmove.co.uk/typeAhead/uknostreet/SH/EF/FI/EL/D\n",
      "https://www.rightmove.co.uk/typeAhead/uknostreet/SH/RE/WS/BU/RY\n",
      "https://www.rightmove.co.uk/typeAhead/uknostreet/SL/OU/GH\n",
      "https://www.rightmove.co.uk/typeAhead/uknostreet/SO/LI/HU/LL\n",
      "https://www.rightmove.co.uk/typeAhead/uknostreet/SO/UT/H%20/SH/IE/LD/S\n",
      "https://www.rightmove.co.uk/typeAhead/uknostreet/SO/UT/HA/MP/TO/N\n",
      "https://www.rightmove.co.uk/typeAhead/uknostreet/SO/UT/HE/ND/%20O/N%20/SE/A\n",
      "https://www.rightmove.co.uk/typeAhead/uknostreet/SO/UT/HP/OR/T\n",
      "https://www.rightmove.co.uk/typeAhead/uknostreet/SA/IN/T%20/AL/BA/NS\n",
      "https://www.rightmove.co.uk/typeAhead/uknostreet/SA/IN/T%20/HE/LE/NS\n",
      "https://www.rightmove.co.uk/typeAhead/uknostreet/ST/EV/EN/AG/E\n",
      "https://www.rightmove.co.uk/typeAhead/uknostreet/ST/OC/KP/OR/T\n",
      "https://www.rightmove.co.uk/typeAhead/uknostreet/ST/OC/KT/ON/%20O/N%20/TE/ES\n",
      "https://www.rightmove.co.uk/typeAhead/uknostreet/ST/OK/E%20/ON/%20T/RE/NT\n",
      "https://www.rightmove.co.uk/typeAhead/uknostreet/SU/ND/ER/LA/ND\n",
      "https://www.rightmove.co.uk/typeAhead/uknostreet/SU/TT/ON/%20C/OL/DF/IE/LD\n",
      "https://www.rightmove.co.uk/typeAhead/uknostreet/SW/AN/SE/A\n",
      "https://www.rightmove.co.uk/typeAhead/uknostreet/SW/IN/DO/N\n",
      "https://www.rightmove.co.uk/typeAhead/uknostreet/TE/LF/OR/D\n",
      "https://www.rightmove.co.uk/typeAhead/uknostreet/WA/KE/FI/EL/D\n",
      "https://www.rightmove.co.uk/typeAhead/uknostreet/WA/LS/AL/L\n",
      "https://www.rightmove.co.uk/typeAhead/uknostreet/WA/RR/IN/GT/ON\n",
      "https://www.rightmove.co.uk/typeAhead/uknostreet/WA/TF/OR/D\n",
      "https://www.rightmove.co.uk/typeAhead/uknostreet/WE/ST/%20B/RO/MW/IC/H\n",
      "https://www.rightmove.co.uk/typeAhead/uknostreet/WE/ST/ON/%20S/UP/ER/%20M/AR/E\n",
      "https://www.rightmove.co.uk/typeAhead/uknostreet/WI/GA/N\n",
      "https://www.rightmove.co.uk/typeAhead/uknostreet/WO/KI/NG\n",
      "https://www.rightmove.co.uk/typeAhead/uknostreet/WO/LV/ER/HA/MP/TO/N\n",
      "https://www.rightmove.co.uk/typeAhead/uknostreet/WO/RC/ES/TE/R\n",
      "https://www.rightmove.co.uk/typeAhead/uknostreet/WO/RT/HI/NG\n",
      "https://www.rightmove.co.uk/typeAhead/uknostreet/YO/RK\n"
     ]
    }
   ],
   "source": [
    "for city in cities:\n",
    "    count = 0\n",
    "    for char in city:\n",
    "        if count == 2:\n",
    "            path += '/'\n",
    "            count = 0\n",
    "        if char == \"-\" or char == \" \":\n",
    "            path += '%20'\n",
    "        else:\n",
    "            path += char.upper()\n",
    "        count += 1\n",
    "\n",
    "    print(path)\n",
    "    res = requests.get(path).json()\n",
    "    out = json.dumps(res, indent=2)\n",
    "    p = re.search('REGION\\^(.+?),', out)\n",
    "    if p:\n",
    "        found = p.group(1)\n",
    "    city_encodings[city] = found.rstrip('\"')\n",
    "    path = 'https://www.rightmove.co.uk/typeAhead/uknostreet/'\n",
    "\n"
   ],
   "metadata": {
    "collapsed": false,
    "pycharm": {
     "name": "#%%\n"
    }
   }
  },
  {
   "cell_type": "code",
   "execution_count": 76,
   "outputs": [
    {
     "data": {
      "text/plain": "{'Barnsley': '108',\n 'Basildon': '115',\n 'Basingstoke': '115',\n 'Bath': '116',\n 'Bedford': '129',\n 'Birkenhead': '161',\n 'Birmingham': '162',\n 'Blackburn': '167',\n 'Blackpool': '168',\n 'Bolton': '182',\n 'Bournemouth': '194',\n 'Bracknell': '197',\n 'Bradford': '198',\n 'Brighton and Hove': '93554',\n 'Bristol': '219',\n 'Burnley': '252',\n 'Burton upon Trent': '5221',\n 'Bury': '258',\n 'Cambridge': '274',\n 'Cardiff': '281',\n 'Carlisle': '283',\n 'Chatham': '302',\n 'Chelmsford': '307',\n 'Cheltenham': '308',\n 'Chester': '313',\n 'Chesterfield': '315',\n 'Colchester': '347',\n 'Coventry': '368',\n 'Crawley': '378',\n 'Darlington': '406',\n 'Derby': '418',\n 'Doncaster': '430',\n 'Dudley': '443',\n 'Eastbourne': '470',\n 'Exeter': '494',\n 'Gateshead': '544',\n 'Gillingham': '547',\n 'Gloucester': '556',\n 'Grimsby': '578',\n 'Guildford': '580',\n 'Halifax': '588',\n 'Harlow': '596',\n 'Harrogate': '598',\n 'Hartlepool': '601',\n 'Hastings': '94376',\n 'Hemel Hempstead': '624',\n 'High Wycombe': '637',\n 'Huddersfield': '664',\n 'Ipswich': '689',\n 'Kingston upon Hull': '746',\n 'Leeds': '787',\n 'Leicester': '789',\n 'Lincoln': '804',\n 'Liverpool': '813',\n 'London': '87490',\n 'Luton': '876',\n 'Maidstone': '897',\n 'Manchester': '904',\n 'Mansfield': '906',\n 'Middlesbrough': '933',\n 'Milton Keynes': '940',\n 'Newcastle upon Tyne': '984',\n 'Newcastle-under-Lyme': '984',\n 'Newport': '94349',\n 'Northampton': '1014',\n 'Norwich': '1018',\n 'Nottingham': '1019',\n 'Nuneaton': '1020',\n 'Oldham': '1025',\n 'Oxford': '1036',\n 'Peterborough': '1061',\n 'Plymouth': '1073',\n 'Poole': '1079',\n 'Portsmouth': '1089',\n 'Preston': '1097',\n 'Reading': '1114',\n 'Redditch': '1116',\n 'Rochdale': '1134',\n 'Rotherham': '1145',\n 'Salford': '1164',\n 'Scunthorpe': '1180',\n 'Sheffield': '1195',\n 'Shrewsbury': '1208',\n 'Slough': '1217',\n 'Solihull': '1220',\n 'South Shields': '1228',\n 'Southampton': '1231',\n 'Southend-on-Sea': '1232',\n 'Southport': '1234',\n 'Saint Albans': '1244',\n 'Saint Helens': '1250',\n 'Stevenage': '1263',\n 'Stockport': '94262',\n 'Stockton-on-Tees': '1270',\n 'Stoke-on-Trent': '1271',\n 'Sunderland': '94643',\n 'Sutton Coldfield': '1298',\n 'Swansea': '1305',\n 'Swindon': '1306',\n 'Telford': '1323',\n 'Wakefield': '1386',\n 'Walsall': '1392',\n 'Warrington': '1403',\n 'Watford': '1408',\n 'West Bromwich': '1422',\n 'Weston-Super-Mare': '1437',\n 'Wigan': '1452',\n 'Woking': '1474',\n 'Wolverhampton': '1476',\n 'Worcester': '1483',\n 'Worthing': '1487',\n 'York': '1498'}"
     },
     "execution_count": 76,
     "metadata": {},
     "output_type": "execute_result"
    }
   ],
   "source": [
    "city_encodings"
   ],
   "metadata": {
    "collapsed": false,
    "pycharm": {
     "name": "#%%\n"
    }
   }
  },
  {
   "cell_type": "code",
   "execution_count": 77,
   "outputs": [],
   "source": [
    "path = \"https://www.rightmove.co.uk/property-for-sale/find.html?locationIdentifier=REGION%5E1271&sortType=6&propertyTypes=detached%2Csemi-detached%2Cterraced&includeSSTC=false&mustHave=&dontShow=&furnishTypes=&keywords=\""
   ],
   "metadata": {
    "collapsed": false,
    "pycharm": {
     "name": "#%%\n"
    }
   }
  },
  {
   "cell_type": "code",
   "execution_count": 78,
   "outputs": [
    {
     "name": "stdout",
     "output_type": "stream",
     "text": [
      "Barnsley   556\n",
      "Basildon   176\n",
      "Basingstoke   176\n",
      "Bath   235\n",
      "Bedford   222\n",
      "Birkenhead   135\n",
      "Birmingham   1050\n",
      "Blackburn   264\n",
      "Blackpool   622\n",
      "Bolton   701\n",
      "Bournemouth   317\n",
      "Bracknell   235\n",
      "Bradford   718\n",
      "Brighton and Hove   376\n",
      "Bristol   1050\n",
      "Burnley   319\n",
      "Burton upon Trent   10\n",
      "Bury   128\n",
      "Cambridge   224\n",
      "Cardiff   711\n",
      "Carlisle   214\n",
      "Chatham   210\n",
      "Chelmsford   289\n",
      "Cheltenham   268\n",
      "Chester   299\n",
      "Chesterfield   334\n",
      "Colchester   317\n",
      "Coventry   751\n",
      "Crawley   222\n",
      "Darlington   399\n",
      "Derby   544\n",
      "Doncaster   1050\n",
      "Dudley   210\n",
      "Eastbourne   196\n",
      "Exeter   326\n",
      "Gateshead   147\n",
      "Gillingham   223\n",
      "Gloucester   422\n",
      "Grimsby   294\n",
      "Guildford   171\n",
      "Halifax   218\n",
      "Harlow   140\n",
      "Harrogate   222\n",
      "Hartlepool   370\n",
      "Hastings   70\n",
      "Hemel Hempstead   287\n",
      "High Wycombe   135\n",
      "Huddersfield   530\n",
      "Ipswich   354\n",
      "Kingston upon Hull   176\n",
      "Leeds   1050\n",
      "Leicester   1050\n",
      "Lincoln   331\n",
      "Liverpool   1050\n",
      "London   1050\n",
      "Luton   504\n",
      "Maidstone   432\n",
      "Manchester   1050\n",
      "Mansfield   205\n",
      "Middlesbrough   578\n",
      "Milton Keynes   541\n",
      "Newcastle upon Tyne   663\n",
      "Newcastle-under-Lyme   663\n",
      "Newport   25\n",
      "Northampton   605\n",
      "Norwich   523\n",
      "Nottingham   1050\n",
      "Nuneaton   230\n",
      "Oldham   417\n",
      "Oxford   421\n",
      "Peterborough   508\n",
      "Plymouth   500\n",
      "Poole   333\n",
      "Portsmouth   386\n",
      "Preston   675\n",
      "Reading   393\n",
      "Redditch   140\n",
      "Rochdale   404\n",
      "Rotherham   555\n",
      "Salford   145\n",
      "Scunthorpe   181\n",
      "Sheffield   955\n",
      "Shrewsbury   321\n",
      "Slough   316\n",
      "Solihull   509\n",
      "South Shields   124\n",
      "Southampton   401\n",
      "Southend-on-Sea   148\n",
      "Southport   317\n",
      "Saint Albans   243\n",
      "Saint Helens   296\n",
      "Stevenage   141\n",
      "Stockport   844\n",
      "Stockton-on-Tees   346\n",
      "Stoke-on-Trent   489\n",
      "Sunderland   317\n",
      "Sutton Coldfield   442\n",
      "Swansea   226\n",
      "Swindon   372\n",
      "Telford   493\n",
      "Wakefield   204\n",
      "Walsall   337\n",
      "Warrington   565\n",
      "Watford   258\n",
      "West Bromwich   75\n",
      "Weston-Super-Mare   261\n",
      "Wigan   211\n",
      "Woking   169\n",
      "Wolverhampton   424\n",
      "Worcester   260\n",
      "Worthing   180\n",
      "York   282\n"
     ]
    }
   ],
   "source": [
    "data = []\n",
    "counts = {}\n",
    "\n",
    "for city in cities:\n",
    "    encoding = city_encodings[city]\n",
    "    old = path[path.index(\"REGION%\"): path.index(\"&\")]\n",
    "    new = path.replace(old, \"REGION^\" + encoding)\n",
    "    rm = RightmoveData(new)\n",
    "    data.append(rm.get_results)\n",
    "    counts[city] = len(rm.get_results)\n",
    "    print(city, \" \", counts[city])\n"
   ],
   "metadata": {
    "collapsed": false,
    "pycharm": {
     "name": "#%%\n"
    }
   }
  },
  {
   "cell_type": "code",
   "execution_count": 80,
   "outputs": [
    {
     "data": {
      "text/plain": "         price                                     type  \\\n0     140000.0   2 bedroom semi-detached house for sale   \n1     290000.0        3 bedroom detached house for sale   \n2     400000.0        3 bedroom detached house for sale   \n3     110000.0        3 bedroom terraced house for sale   \n4     325000.0   5 bedroom semi-detached house for sale   \n..         ...                                      ...   \n277   365000.0   5 bedroom semi-detached house for sale   \n278  1500000.0            5 bedroom town house for sale   \n279  1595000.0  10 bedroom semi-detached house for sale   \n280  1500000.0                 5 bedroom house for sale   \n281   700000.0        3 bedroom detached house for sale   \n\n                                               address  \\\n0    John Street Way, Wombwell, S73 8FT - Viewing E...   \n1              Montrose Avenue,Darton,Barnsley,S75 5LS   \n2                    Rotherham Road, Monk Bretton, S71   \n3                             Pontefract Road, Oakwell   \n4                            Park Grove, Barnsley, S70   \n..                                                 ...   \n277                Cherry Wood Crescent, Fulford, York   \n278                   St. Martins Lane, York,  YO1 6LN   \n279                     St. George's Place, York, YO24   \n280       St. Martins Lane, York, North Yorkshire, YO1   \n281                            Greencliffe Drive, York   \n\n                                                   url  \\\n0    http://www.rightmove.co.uk/properties/85815972...   \n1    http://www.rightmove.co.uk/properties/12537744...   \n2    http://www.rightmove.co.uk/properties/12617442...   \n3    http://www.rightmove.co.uk/properties/10952320...   \n4    http://www.rightmove.co.uk/properties/12616609...   \n..                                                 ...   \n277  http://www.rightmove.co.uk/properties/85711197...   \n278  http://www.rightmove.co.uk/properties/11392433...   \n279  http://www.rightmove.co.uk/properties/81442933...   \n280  http://www.rightmove.co.uk/properties/10194097...   \n281  http://www.rightmove.co.uk/properties/12596058...   \n\n                                             agent_url postcode full_postcode  \\\n0    http://www.rightmove.co.uk/estate-agents/agent...      S73       S73 8FT   \n1    http://www.rightmove.co.uk/estate-agents/agent...      S75       S75 5LS   \n2    http://www.rightmove.co.uk/estate-agents/agent...      S71           NaN   \n3    http://www.rightmove.co.uk/estate-agents/agent...      NaN           NaN   \n4    http://www.rightmove.co.uk/estate-agents/agent...      S70           NaN   \n..                                                 ...      ...           ...   \n277  http://www.rightmove.co.uk/estate-agents/agent...      NaN           NaN   \n278  http://www.rightmove.co.uk/estate-agents/agent...      YO1       YO1 6LN   \n279  http://www.rightmove.co.uk/estate-agents/agent...     YO24           NaN   \n280  http://www.rightmove.co.uk/estate-agents/agent...      YO1           NaN   \n281  http://www.rightmove.co.uk/estate-agents/agent...      NaN           NaN   \n\n     number_bedrooms                search_date  \n0                2.0 2022-08-18 17:19:27.506480  \n1                3.0 2022-08-18 17:19:27.506480  \n2                3.0 2022-08-18 17:19:27.506480  \n3                3.0 2022-08-18 17:19:27.506480  \n4                5.0 2022-08-18 17:19:27.506480  \n..               ...                        ...  \n277              5.0 2022-08-18 17:32:55.035881  \n278              5.0 2022-08-18 17:32:55.035881  \n279             10.0 2022-08-18 17:32:55.035881  \n280              5.0 2022-08-18 17:32:55.035881  \n281              3.0 2022-08-18 17:32:55.035881  \n\n[44797 rows x 9 columns]",
      "text/html": "<div>\n<style scoped>\n    .dataframe tbody tr th:only-of-type {\n        vertical-align: middle;\n    }\n\n    .dataframe tbody tr th {\n        vertical-align: top;\n    }\n\n    .dataframe thead th {\n        text-align: right;\n    }\n</style>\n<table border=\"1\" class=\"dataframe\">\n  <thead>\n    <tr style=\"text-align: right;\">\n      <th></th>\n      <th>price</th>\n      <th>type</th>\n      <th>address</th>\n      <th>url</th>\n      <th>agent_url</th>\n      <th>postcode</th>\n      <th>full_postcode</th>\n      <th>number_bedrooms</th>\n      <th>search_date</th>\n    </tr>\n  </thead>\n  <tbody>\n    <tr>\n      <th>0</th>\n      <td>140000.0</td>\n      <td>2 bedroom semi-detached house for sale</td>\n      <td>John Street Way, Wombwell, S73 8FT - Viewing E...</td>\n      <td>http://www.rightmove.co.uk/properties/85815972...</td>\n      <td>http://www.rightmove.co.uk/estate-agents/agent...</td>\n      <td>S73</td>\n      <td>S73 8FT</td>\n      <td>2.0</td>\n      <td>2022-08-18 17:19:27.506480</td>\n    </tr>\n    <tr>\n      <th>1</th>\n      <td>290000.0</td>\n      <td>3 bedroom detached house for sale</td>\n      <td>Montrose Avenue,Darton,Barnsley,S75 5LS</td>\n      <td>http://www.rightmove.co.uk/properties/12537744...</td>\n      <td>http://www.rightmove.co.uk/estate-agents/agent...</td>\n      <td>S75</td>\n      <td>S75 5LS</td>\n      <td>3.0</td>\n      <td>2022-08-18 17:19:27.506480</td>\n    </tr>\n    <tr>\n      <th>2</th>\n      <td>400000.0</td>\n      <td>3 bedroom detached house for sale</td>\n      <td>Rotherham Road, Monk Bretton, S71</td>\n      <td>http://www.rightmove.co.uk/properties/12617442...</td>\n      <td>http://www.rightmove.co.uk/estate-agents/agent...</td>\n      <td>S71</td>\n      <td>NaN</td>\n      <td>3.0</td>\n      <td>2022-08-18 17:19:27.506480</td>\n    </tr>\n    <tr>\n      <th>3</th>\n      <td>110000.0</td>\n      <td>3 bedroom terraced house for sale</td>\n      <td>Pontefract Road, Oakwell</td>\n      <td>http://www.rightmove.co.uk/properties/10952320...</td>\n      <td>http://www.rightmove.co.uk/estate-agents/agent...</td>\n      <td>NaN</td>\n      <td>NaN</td>\n      <td>3.0</td>\n      <td>2022-08-18 17:19:27.506480</td>\n    </tr>\n    <tr>\n      <th>4</th>\n      <td>325000.0</td>\n      <td>5 bedroom semi-detached house for sale</td>\n      <td>Park Grove, Barnsley, S70</td>\n      <td>http://www.rightmove.co.uk/properties/12616609...</td>\n      <td>http://www.rightmove.co.uk/estate-agents/agent...</td>\n      <td>S70</td>\n      <td>NaN</td>\n      <td>5.0</td>\n      <td>2022-08-18 17:19:27.506480</td>\n    </tr>\n    <tr>\n      <th>...</th>\n      <td>...</td>\n      <td>...</td>\n      <td>...</td>\n      <td>...</td>\n      <td>...</td>\n      <td>...</td>\n      <td>...</td>\n      <td>...</td>\n      <td>...</td>\n    </tr>\n    <tr>\n      <th>277</th>\n      <td>365000.0</td>\n      <td>5 bedroom semi-detached house for sale</td>\n      <td>Cherry Wood Crescent, Fulford, York</td>\n      <td>http://www.rightmove.co.uk/properties/85711197...</td>\n      <td>http://www.rightmove.co.uk/estate-agents/agent...</td>\n      <td>NaN</td>\n      <td>NaN</td>\n      <td>5.0</td>\n      <td>2022-08-18 17:32:55.035881</td>\n    </tr>\n    <tr>\n      <th>278</th>\n      <td>1500000.0</td>\n      <td>5 bedroom town house for sale</td>\n      <td>St. Martins Lane, York,  YO1 6LN</td>\n      <td>http://www.rightmove.co.uk/properties/11392433...</td>\n      <td>http://www.rightmove.co.uk/estate-agents/agent...</td>\n      <td>YO1</td>\n      <td>YO1 6LN</td>\n      <td>5.0</td>\n      <td>2022-08-18 17:32:55.035881</td>\n    </tr>\n    <tr>\n      <th>279</th>\n      <td>1595000.0</td>\n      <td>10 bedroom semi-detached house for sale</td>\n      <td>St. George's Place, York, YO24</td>\n      <td>http://www.rightmove.co.uk/properties/81442933...</td>\n      <td>http://www.rightmove.co.uk/estate-agents/agent...</td>\n      <td>YO24</td>\n      <td>NaN</td>\n      <td>10.0</td>\n      <td>2022-08-18 17:32:55.035881</td>\n    </tr>\n    <tr>\n      <th>280</th>\n      <td>1500000.0</td>\n      <td>5 bedroom house for sale</td>\n      <td>St. Martins Lane, York, North Yorkshire, YO1</td>\n      <td>http://www.rightmove.co.uk/properties/10194097...</td>\n      <td>http://www.rightmove.co.uk/estate-agents/agent...</td>\n      <td>YO1</td>\n      <td>NaN</td>\n      <td>5.0</td>\n      <td>2022-08-18 17:32:55.035881</td>\n    </tr>\n    <tr>\n      <th>281</th>\n      <td>700000.0</td>\n      <td>3 bedroom detached house for sale</td>\n      <td>Greencliffe Drive, York</td>\n      <td>http://www.rightmove.co.uk/properties/12596058...</td>\n      <td>http://www.rightmove.co.uk/estate-agents/agent...</td>\n      <td>NaN</td>\n      <td>NaN</td>\n      <td>3.0</td>\n      <td>2022-08-18 17:32:55.035881</td>\n    </tr>\n  </tbody>\n</table>\n<p>44797 rows × 9 columns</p>\n</div>"
     },
     "execution_count": 80,
     "metadata": {},
     "output_type": "execute_result"
    }
   ],
   "source": [
    "import pandas as pd\n",
    "result = pd.concat(data)\n",
    "result"
   ],
   "metadata": {
    "collapsed": false,
    "pycharm": {
     "name": "#%%\n"
    }
   }
  },
  {
   "cell_type": "code",
   "execution_count": null,
   "outputs": [],
   "source": [
    "# Decide on city count\n",
    "# Limit cities with listings minimum threshold (200?)\n",
    "# Use google api to get accurate lat long from the right move address (+ use postcode if they have one) https://www.codingforentrepreneurs.com/blog/python-tutorial-google-geocoding-api/\n",
    "# or use worldcities.csv\n",
    "# "
   ],
   "metadata": {
    "collapsed": false,
    "pycharm": {
     "name": "#%%\n"
    }
   }
  }
 ],
 "metadata": {
  "kernelspec": {
   "display_name": "Python 3",
   "language": "python",
   "name": "python3"
  },
  "language_info": {
   "codemirror_mode": {
    "name": "ipython",
    "version": 2
   },
   "file_extension": ".py",
   "mimetype": "text/x-python",
   "name": "python",
   "nbconvert_exporter": "python",
   "pygments_lexer": "ipython2",
   "version": "2.7.6"
  }
 },
 "nbformat": 4,
 "nbformat_minor": 0
}