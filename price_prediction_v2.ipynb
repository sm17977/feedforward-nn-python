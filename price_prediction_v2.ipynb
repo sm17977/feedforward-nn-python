{
 "cells": [
  {
   "cell_type": "code",
   "execution_count": 1,
   "metadata": {
    "collapsed": true,
    "pycharm": {
     "name": "#%%\n"
    }
   },
   "outputs": [],
   "source": [
    "import pandas\n",
    "import matplotlib\n",
    "import pandas as pd\n",
    "import numpy as np\n",
    "\n",
    "matplotlib.use(\"TkAgg\")\n",
    "pandas.set_option('display.max_columns', None)"
   ]
  },
  {
   "cell_type": "code",
   "execution_count": 2,
   "outputs": [],
   "source": [
    "path = 'data.csv'\n",
    "data = pd.read_csv(path)"
   ],
   "metadata": {
    "collapsed": false,
    "pycharm": {
     "name": "#%%\n"
    }
   }
  },
  {
   "cell_type": "code",
   "execution_count": 3,
   "outputs": [],
   "source": [
    "# Remove duplicates and entries without a price\n",
    "data.drop_duplicates(inplace=True)\n",
    "data.dropna(subset=[\"price\", \"type\"], inplace=True)\n",
    "data.reset_index(drop=True, inplace=True)"
   ],
   "metadata": {
    "collapsed": false,
    "pycharm": {
     "name": "#%%\n"
    }
   }
  },
  {
   "cell_type": "code",
   "execution_count": 4,
   "outputs": [
    {
     "data": {
      "text/plain": "            count unique          top freq\ncity                                      \nAberdare      125      1     Aberdare  125\nAberdeen       81      1     Aberdeen   81\nAbergavenny    48      1  Abergavenny   48\nAbertillery    57      1  Abertillery   57\nAberystwyth    39      1  Aberystwyth   39\n...           ...    ...          ...  ...\nWrexham       466      1      Wrexham  466\nWyke           29      1         Wyke   29\nYate           47      1         Yate   47\nYork          367      1         York  367\ncity            1      1         city    1\n\n[512 rows x 4 columns]",
      "text/html": "<div>\n<style scoped>\n    .dataframe tbody tr th:only-of-type {\n        vertical-align: middle;\n    }\n\n    .dataframe tbody tr th {\n        vertical-align: top;\n    }\n\n    .dataframe thead th {\n        text-align: right;\n    }\n</style>\n<table border=\"1\" class=\"dataframe\">\n  <thead>\n    <tr style=\"text-align: right;\">\n      <th></th>\n      <th>count</th>\n      <th>unique</th>\n      <th>top</th>\n      <th>freq</th>\n    </tr>\n    <tr>\n      <th>city</th>\n      <th></th>\n      <th></th>\n      <th></th>\n      <th></th>\n    </tr>\n  </thead>\n  <tbody>\n    <tr>\n      <th>Aberdare</th>\n      <td>125</td>\n      <td>1</td>\n      <td>Aberdare</td>\n      <td>125</td>\n    </tr>\n    <tr>\n      <th>Aberdeen</th>\n      <td>81</td>\n      <td>1</td>\n      <td>Aberdeen</td>\n      <td>81</td>\n    </tr>\n    <tr>\n      <th>Abergavenny</th>\n      <td>48</td>\n      <td>1</td>\n      <td>Abergavenny</td>\n      <td>48</td>\n    </tr>\n    <tr>\n      <th>Abertillery</th>\n      <td>57</td>\n      <td>1</td>\n      <td>Abertillery</td>\n      <td>57</td>\n    </tr>\n    <tr>\n      <th>Aberystwyth</th>\n      <td>39</td>\n      <td>1</td>\n      <td>Aberystwyth</td>\n      <td>39</td>\n    </tr>\n    <tr>\n      <th>...</th>\n      <td>...</td>\n      <td>...</td>\n      <td>...</td>\n      <td>...</td>\n    </tr>\n    <tr>\n      <th>Wrexham</th>\n      <td>466</td>\n      <td>1</td>\n      <td>Wrexham</td>\n      <td>466</td>\n    </tr>\n    <tr>\n      <th>Wyke</th>\n      <td>29</td>\n      <td>1</td>\n      <td>Wyke</td>\n      <td>29</td>\n    </tr>\n    <tr>\n      <th>Yate</th>\n      <td>47</td>\n      <td>1</td>\n      <td>Yate</td>\n      <td>47</td>\n    </tr>\n    <tr>\n      <th>York</th>\n      <td>367</td>\n      <td>1</td>\n      <td>York</td>\n      <td>367</td>\n    </tr>\n    <tr>\n      <th>city</th>\n      <td>1</td>\n      <td>1</td>\n      <td>city</td>\n      <td>1</td>\n    </tr>\n  </tbody>\n</table>\n<p>512 rows × 4 columns</p>\n</div>"
     },
     "execution_count": 4,
     "metadata": {},
     "output_type": "execute_result"
    }
   ],
   "source": [
    "data.groupby(\"city\")[\"city\"].describe()"
   ],
   "metadata": {
    "collapsed": false,
    "pycharm": {
     "name": "#%%\n"
    }
   }
  },
  {
   "cell_type": "code",
   "execution_count": 13,
   "outputs": [],
   "source": [
    "# Remove data from cities that have less than 100 entries\n",
    "city_counts = data[\"city\"].value_counts()\n",
    "data = data[~data[\"city\"].isin(city_counts[city_counts <= 100].index)]\n",
    "data.groupby(\"city\")[\"city\"].describe()"
   ],
   "metadata": {
    "collapsed": false,
    "pycharm": {
     "name": "#%%\n"
    }
   }
  },
  {
   "cell_type": "code",
   "execution_count": 23,
   "outputs": [
    {
     "data": {
      "text/plain": "           price                                     type  \\\n0       260000.0   4 bedroom semi-detached house for sale   \n1       145000.0  4 bedroom end of terrace house for sale   \n2       170000.0        3 bedroom terraced house for sale   \n3       175000.0        3 bedroom terraced house for sale   \n4       229995.0   3 bedroom semi-detached house for sale   \n...          ...                                      ...   \n86595   595000.0  4 bedroom end of terrace house for sale   \n86596   365000.0   5 bedroom semi-detached house for sale   \n86597  1500000.0            5 bedroom town house for sale   \n86598  1575000.0  10 bedroom semi-detached house for sale   \n86599  1500000.0                 5 bedroom house for sale   \n\n                                                 address  \\\n0                          Johns Lane, Hirwaun, CF44 9TQ   \n1                   Bell Street, Aberdare, Mid Glamorgan   \n2                  Bute Terrace, Aberdare, Mid Glamorgan   \n3                 Trevor Street, Aberdare, Mid Glamorgan   \n4      Derwent Drive, Aberdare, South Glamorgan, Rhon...   \n...                                                  ...   \n86595                        Charlton Street, York, YO23   \n86596                Cherry Wood Crescent, Fulford, York   \n86597                   St. Martins Lane, York,  YO1 6LN   \n86598                     St. George's Place, York, YO24   \n86599       St. Martins Lane, York, North Yorkshire, YO1   \n\n                                                     url  \\\n0      http://www.rightmove.co.uk/properties/12539948...   \n1      http://www.rightmove.co.uk/properties/12717744...   \n2      http://www.rightmove.co.uk/properties/12539620...   \n3      http://www.rightmove.co.uk/properties/12404807...   \n4      http://www.rightmove.co.uk/properties/12694738...   \n...                                                  ...   \n86595  http://www.rightmove.co.uk/properties/11608734...   \n86596  http://www.rightmove.co.uk/properties/85711197...   \n86597  http://www.rightmove.co.uk/properties/11392433...   \n86598  http://www.rightmove.co.uk/properties/81442933...   \n86599  http://www.rightmove.co.uk/properties/10194097...   \n\n                                               agent_url postcode  \\\n0      http://www.rightmove.co.uk/estate-agents/agent...     CF44   \n1      http://www.rightmove.co.uk/estate-agents/agent...      NaN   \n2      http://www.rightmove.co.uk/estate-agents/agent...      NaN   \n3      http://www.rightmove.co.uk/estate-agents/agent...      NaN   \n4      http://www.rightmove.co.uk/estate-agents/agent...     CF44   \n...                                                  ...      ...   \n86595  http://www.rightmove.co.uk/estate-agents/agent...     YO23   \n86596  http://www.rightmove.co.uk/estate-agents/agent...      NaN   \n86597  http://www.rightmove.co.uk/estate-agents/agent...      YO1   \n86598  http://www.rightmove.co.uk/estate-agents/agent...     YO24   \n86599  http://www.rightmove.co.uk/estate-agents/agent...      YO1   \n\n      full_postcode number_bedrooms                 search_date      city  \\\n0          CF44 9TQ             4.0  2022-09-17 20:23:35.136447  Aberdare   \n1               NaN             4.0  2022-09-17 20:23:35.136447  Aberdare   \n2               NaN             3.0  2022-09-17 20:23:35.136447  Aberdare   \n3               NaN             3.0  2022-09-17 20:23:35.136447  Aberdare   \n4               NaN             3.0  2022-09-17 20:23:35.136447  Aberdare   \n...             ...             ...                         ...       ...   \n86595           NaN             4.0  2022-09-28 13:35:19.429534      York   \n86596           NaN             5.0  2022-09-28 13:35:19.429534      York   \n86597       YO1 6LN             5.0  2022-09-28 13:35:19.429534      York   \n86598           NaN            10.0  2022-09-28 13:35:19.429534      York   \n86599           NaN             5.0  2022-09-28 13:35:19.429534      York   \n\n             lat       long  \n0      51.738987  -3.504362  \n1      51.721033  -3.454723  \n2      51.710768  -3.441247  \n3      51.709336   -3.44791  \n4       51.71133   -3.41749  \n...          ...        ...  \n86595  53.950639  -1.084873  \n86596   53.92686  -1.065574  \n86597  53.956947   -1.08736  \n86598  53.948883  -1.101566  \n86599   53.95698  -1.087477  \n\n[75688 rows x 12 columns]",
      "text/html": "<div>\n<style scoped>\n    .dataframe tbody tr th:only-of-type {\n        vertical-align: middle;\n    }\n\n    .dataframe tbody tr th {\n        vertical-align: top;\n    }\n\n    .dataframe thead th {\n        text-align: right;\n    }\n</style>\n<table border=\"1\" class=\"dataframe\">\n  <thead>\n    <tr style=\"text-align: right;\">\n      <th></th>\n      <th>price</th>\n      <th>type</th>\n      <th>address</th>\n      <th>url</th>\n      <th>agent_url</th>\n      <th>postcode</th>\n      <th>full_postcode</th>\n      <th>number_bedrooms</th>\n      <th>search_date</th>\n      <th>city</th>\n      <th>lat</th>\n      <th>long</th>\n    </tr>\n  </thead>\n  <tbody>\n    <tr>\n      <th>0</th>\n      <td>260000.0</td>\n      <td>4 bedroom semi-detached house for sale</td>\n      <td>Johns Lane, Hirwaun, CF44 9TQ</td>\n      <td>http://www.rightmove.co.uk/properties/12539948...</td>\n      <td>http://www.rightmove.co.uk/estate-agents/agent...</td>\n      <td>CF44</td>\n      <td>CF44 9TQ</td>\n      <td>4.0</td>\n      <td>2022-09-17 20:23:35.136447</td>\n      <td>Aberdare</td>\n      <td>51.738987</td>\n      <td>-3.504362</td>\n    </tr>\n    <tr>\n      <th>1</th>\n      <td>145000.0</td>\n      <td>4 bedroom end of terrace house for sale</td>\n      <td>Bell Street, Aberdare, Mid Glamorgan</td>\n      <td>http://www.rightmove.co.uk/properties/12717744...</td>\n      <td>http://www.rightmove.co.uk/estate-agents/agent...</td>\n      <td>NaN</td>\n      <td>NaN</td>\n      <td>4.0</td>\n      <td>2022-09-17 20:23:35.136447</td>\n      <td>Aberdare</td>\n      <td>51.721033</td>\n      <td>-3.454723</td>\n    </tr>\n    <tr>\n      <th>2</th>\n      <td>170000.0</td>\n      <td>3 bedroom terraced house for sale</td>\n      <td>Bute Terrace, Aberdare, Mid Glamorgan</td>\n      <td>http://www.rightmove.co.uk/properties/12539620...</td>\n      <td>http://www.rightmove.co.uk/estate-agents/agent...</td>\n      <td>NaN</td>\n      <td>NaN</td>\n      <td>3.0</td>\n      <td>2022-09-17 20:23:35.136447</td>\n      <td>Aberdare</td>\n      <td>51.710768</td>\n      <td>-3.441247</td>\n    </tr>\n    <tr>\n      <th>3</th>\n      <td>175000.0</td>\n      <td>3 bedroom terraced house for sale</td>\n      <td>Trevor Street, Aberdare, Mid Glamorgan</td>\n      <td>http://www.rightmove.co.uk/properties/12404807...</td>\n      <td>http://www.rightmove.co.uk/estate-agents/agent...</td>\n      <td>NaN</td>\n      <td>NaN</td>\n      <td>3.0</td>\n      <td>2022-09-17 20:23:35.136447</td>\n      <td>Aberdare</td>\n      <td>51.709336</td>\n      <td>-3.44791</td>\n    </tr>\n    <tr>\n      <th>4</th>\n      <td>229995.0</td>\n      <td>3 bedroom semi-detached house for sale</td>\n      <td>Derwent Drive, Aberdare, South Glamorgan, Rhon...</td>\n      <td>http://www.rightmove.co.uk/properties/12694738...</td>\n      <td>http://www.rightmove.co.uk/estate-agents/agent...</td>\n      <td>CF44</td>\n      <td>NaN</td>\n      <td>3.0</td>\n      <td>2022-09-17 20:23:35.136447</td>\n      <td>Aberdare</td>\n      <td>51.71133</td>\n      <td>-3.41749</td>\n    </tr>\n    <tr>\n      <th>...</th>\n      <td>...</td>\n      <td>...</td>\n      <td>...</td>\n      <td>...</td>\n      <td>...</td>\n      <td>...</td>\n      <td>...</td>\n      <td>...</td>\n      <td>...</td>\n      <td>...</td>\n      <td>...</td>\n      <td>...</td>\n    </tr>\n    <tr>\n      <th>86595</th>\n      <td>595000.0</td>\n      <td>4 bedroom end of terrace house for sale</td>\n      <td>Charlton Street, York, YO23</td>\n      <td>http://www.rightmove.co.uk/properties/11608734...</td>\n      <td>http://www.rightmove.co.uk/estate-agents/agent...</td>\n      <td>YO23</td>\n      <td>NaN</td>\n      <td>4.0</td>\n      <td>2022-09-28 13:35:19.429534</td>\n      <td>York</td>\n      <td>53.950639</td>\n      <td>-1.084873</td>\n    </tr>\n    <tr>\n      <th>86596</th>\n      <td>365000.0</td>\n      <td>5 bedroom semi-detached house for sale</td>\n      <td>Cherry Wood Crescent, Fulford, York</td>\n      <td>http://www.rightmove.co.uk/properties/85711197...</td>\n      <td>http://www.rightmove.co.uk/estate-agents/agent...</td>\n      <td>NaN</td>\n      <td>NaN</td>\n      <td>5.0</td>\n      <td>2022-09-28 13:35:19.429534</td>\n      <td>York</td>\n      <td>53.92686</td>\n      <td>-1.065574</td>\n    </tr>\n    <tr>\n      <th>86597</th>\n      <td>1500000.0</td>\n      <td>5 bedroom town house for sale</td>\n      <td>St. Martins Lane, York,  YO1 6LN</td>\n      <td>http://www.rightmove.co.uk/properties/11392433...</td>\n      <td>http://www.rightmove.co.uk/estate-agents/agent...</td>\n      <td>YO1</td>\n      <td>YO1 6LN</td>\n      <td>5.0</td>\n      <td>2022-09-28 13:35:19.429534</td>\n      <td>York</td>\n      <td>53.956947</td>\n      <td>-1.08736</td>\n    </tr>\n    <tr>\n      <th>86598</th>\n      <td>1575000.0</td>\n      <td>10 bedroom semi-detached house for sale</td>\n      <td>St. George's Place, York, YO24</td>\n      <td>http://www.rightmove.co.uk/properties/81442933...</td>\n      <td>http://www.rightmove.co.uk/estate-agents/agent...</td>\n      <td>YO24</td>\n      <td>NaN</td>\n      <td>10.0</td>\n      <td>2022-09-28 13:35:19.429534</td>\n      <td>York</td>\n      <td>53.948883</td>\n      <td>-1.101566</td>\n    </tr>\n    <tr>\n      <th>86599</th>\n      <td>1500000.0</td>\n      <td>5 bedroom house for sale</td>\n      <td>St. Martins Lane, York, North Yorkshire, YO1</td>\n      <td>http://www.rightmove.co.uk/properties/10194097...</td>\n      <td>http://www.rightmove.co.uk/estate-agents/agent...</td>\n      <td>YO1</td>\n      <td>NaN</td>\n      <td>5.0</td>\n      <td>2022-09-28 13:35:19.429534</td>\n      <td>York</td>\n      <td>53.95698</td>\n      <td>-1.087477</td>\n    </tr>\n  </tbody>\n</table>\n<p>75688 rows × 12 columns</p>\n</div>"
     },
     "execution_count": 23,
     "metadata": {},
     "output_type": "execute_result"
    }
   ],
   "source": [
    "data"
   ],
   "metadata": {
    "collapsed": false,
    "pycharm": {
     "name": "#%%\n"
    }
   }
  },
  {
   "cell_type": "code",
   "execution_count": 26,
   "outputs": [],
   "source": [
    "data.drop([\"address\", \"url\", \"agent_url\", \"postcode\", \"full_postcode\", \"search_date\"], inplace=True, axis=1)"
   ],
   "metadata": {
    "collapsed": false,
    "pycharm": {
     "name": "#%%\n"
    }
   }
  },
  {
   "cell_type": "code",
   "execution_count": 27,
   "outputs": [
    {
     "data": {
      "text/plain": "           price                                     type number_bedrooms  \\\n0       260000.0   4 bedroom semi-detached house for sale             4.0   \n1       145000.0  4 bedroom end of terrace house for sale             4.0   \n2       170000.0        3 bedroom terraced house for sale             3.0   \n3       175000.0        3 bedroom terraced house for sale             3.0   \n4       229995.0   3 bedroom semi-detached house for sale             3.0   \n...          ...                                      ...             ...   \n86595   595000.0  4 bedroom end of terrace house for sale             4.0   \n86596   365000.0   5 bedroom semi-detached house for sale             5.0   \n86597  1500000.0            5 bedroom town house for sale             5.0   \n86598  1575000.0  10 bedroom semi-detached house for sale            10.0   \n86599  1500000.0                 5 bedroom house for sale             5.0   \n\n           city        lat       long  \n0      Aberdare  51.738987  -3.504362  \n1      Aberdare  51.721033  -3.454723  \n2      Aberdare  51.710768  -3.441247  \n3      Aberdare  51.709336   -3.44791  \n4      Aberdare   51.71133   -3.41749  \n...         ...        ...        ...  \n86595      York  53.950639  -1.084873  \n86596      York   53.92686  -1.065574  \n86597      York  53.956947   -1.08736  \n86598      York  53.948883  -1.101566  \n86599      York   53.95698  -1.087477  \n\n[75688 rows x 6 columns]",
      "text/html": "<div>\n<style scoped>\n    .dataframe tbody tr th:only-of-type {\n        vertical-align: middle;\n    }\n\n    .dataframe tbody tr th {\n        vertical-align: top;\n    }\n\n    .dataframe thead th {\n        text-align: right;\n    }\n</style>\n<table border=\"1\" class=\"dataframe\">\n  <thead>\n    <tr style=\"text-align: right;\">\n      <th></th>\n      <th>price</th>\n      <th>type</th>\n      <th>number_bedrooms</th>\n      <th>city</th>\n      <th>lat</th>\n      <th>long</th>\n    </tr>\n  </thead>\n  <tbody>\n    <tr>\n      <th>0</th>\n      <td>260000.0</td>\n      <td>4 bedroom semi-detached house for sale</td>\n      <td>4.0</td>\n      <td>Aberdare</td>\n      <td>51.738987</td>\n      <td>-3.504362</td>\n    </tr>\n    <tr>\n      <th>1</th>\n      <td>145000.0</td>\n      <td>4 bedroom end of terrace house for sale</td>\n      <td>4.0</td>\n      <td>Aberdare</td>\n      <td>51.721033</td>\n      <td>-3.454723</td>\n    </tr>\n    <tr>\n      <th>2</th>\n      <td>170000.0</td>\n      <td>3 bedroom terraced house for sale</td>\n      <td>3.0</td>\n      <td>Aberdare</td>\n      <td>51.710768</td>\n      <td>-3.441247</td>\n    </tr>\n    <tr>\n      <th>3</th>\n      <td>175000.0</td>\n      <td>3 bedroom terraced house for sale</td>\n      <td>3.0</td>\n      <td>Aberdare</td>\n      <td>51.709336</td>\n      <td>-3.44791</td>\n    </tr>\n    <tr>\n      <th>4</th>\n      <td>229995.0</td>\n      <td>3 bedroom semi-detached house for sale</td>\n      <td>3.0</td>\n      <td>Aberdare</td>\n      <td>51.71133</td>\n      <td>-3.41749</td>\n    </tr>\n    <tr>\n      <th>...</th>\n      <td>...</td>\n      <td>...</td>\n      <td>...</td>\n      <td>...</td>\n      <td>...</td>\n      <td>...</td>\n    </tr>\n    <tr>\n      <th>86595</th>\n      <td>595000.0</td>\n      <td>4 bedroom end of terrace house for sale</td>\n      <td>4.0</td>\n      <td>York</td>\n      <td>53.950639</td>\n      <td>-1.084873</td>\n    </tr>\n    <tr>\n      <th>86596</th>\n      <td>365000.0</td>\n      <td>5 bedroom semi-detached house for sale</td>\n      <td>5.0</td>\n      <td>York</td>\n      <td>53.92686</td>\n      <td>-1.065574</td>\n    </tr>\n    <tr>\n      <th>86597</th>\n      <td>1500000.0</td>\n      <td>5 bedroom town house for sale</td>\n      <td>5.0</td>\n      <td>York</td>\n      <td>53.956947</td>\n      <td>-1.08736</td>\n    </tr>\n    <tr>\n      <th>86598</th>\n      <td>1575000.0</td>\n      <td>10 bedroom semi-detached house for sale</td>\n      <td>10.0</td>\n      <td>York</td>\n      <td>53.948883</td>\n      <td>-1.101566</td>\n    </tr>\n    <tr>\n      <th>86599</th>\n      <td>1500000.0</td>\n      <td>5 bedroom house for sale</td>\n      <td>5.0</td>\n      <td>York</td>\n      <td>53.95698</td>\n      <td>-1.087477</td>\n    </tr>\n  </tbody>\n</table>\n<p>75688 rows × 6 columns</p>\n</div>"
     },
     "execution_count": 27,
     "metadata": {},
     "output_type": "execute_result"
    }
   ],
   "source": [
    "data"
   ],
   "metadata": {
    "collapsed": false,
    "pycharm": {
     "name": "#%%\n"
    }
   }
  },
  {
   "cell_type": "code",
   "execution_count": null,
   "outputs": [],
   "source": [],
   "metadata": {
    "collapsed": false,
    "pycharm": {
     "name": "#%%\n"
    }
   }
  }
 ],
 "metadata": {
  "kernelspec": {
   "display_name": "Python 3",
   "language": "python",
   "name": "python3"
  },
  "language_info": {
   "codemirror_mode": {
    "name": "ipython",
    "version": 2
   },
   "file_extension": ".py",
   "mimetype": "text/x-python",
   "name": "python",
   "nbconvert_exporter": "python",
   "pygments_lexer": "ipython2",
   "version": "2.7.6"
  }
 },
 "nbformat": 4,
 "nbformat_minor": 0
}