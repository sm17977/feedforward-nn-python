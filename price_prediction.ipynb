{
 "cells": [
  {
   "cell_type": "code",
   "execution_count": null,
   "metadata": {
    "pycharm": {
     "name": "#%%\n"
    }
   },
   "outputs": [],
   "source": [
    "import pandas\n",
    "import matplotlib\n",
    "import pandas as pd\n",
    "import numpy as np\n",
    "\n",
    "matplotlib.use(\"TkAgg\")\n",
    "pandas.set_option('display.max_columns', None)"
   ]
  },
  {
   "cell_type": "code",
   "execution_count": null,
   "metadata": {
    "pycharm": {
     "name": "#%%\n"
    }
   },
   "outputs": [],
   "source": [
    "path = 'pp-2021.csv'\n",
    "data = pandas.read_csv(path, sep=',', skiprows=1)"
   ]
  },
  {
   "cell_type": "code",
   "execution_count": null,
   "metadata": {
    "pycharm": {
     "name": "#%%\n"
    }
   },
   "outputs": [],
   "source": [
    "data = data.drop(data.columns[[0, 2, 7, 8, 9, 10, 12, 13, 14, 15]], axis=1)\n",
    "data.columns = [\"Price\", \"Postcode\", \"PropertyType\", \"OldNew\", \"Duration\", \"City\"]"
   ]
  },
  {
   "cell_type": "code",
   "execution_count": null,
   "metadata": {
    "pycharm": {
     "name": "#%%\n"
    }
   },
   "outputs": [],
   "source": [
    "# Remove rows that describe properties that are not typically Houses\n",
    "data = data[~data[\"PropertyType\"].isin([\"F\", \"O\"])]"
   ]
  },
  {
   "cell_type": "code",
   "execution_count": null,
   "outputs": [],
   "source": [
    "# For cities that appear in the data less than 600 times, join into \"Other\" category\n",
    "city_stats = data.groupby('City')['City'].agg('count').sort_values(ascending=False)\n",
    "city_stats_less_than_600 = city_stats[city_stats <= 600]\n",
    "data[\"City\"] = data[\"City\"].apply(lambda x: 'Other' if x in city_stats_less_than_600 else x)\n",
    "# Print city count distribution\n",
    "city_stats"
   ],
   "metadata": {
    "collapsed": false,
    "pycharm": {
     "name": "#%%\n"
    }
   }
  },
  {
   "cell_type": "code",
   "execution_count": null,
   "outputs": [],
   "source": [
    "# Remove rows with prices lower than £40,000 and higher than £5,000,000\n",
    "data = data[data[\"Price\"] > 40000]\n",
    "data = data[data[\"Price\"] < 5000000]\n",
    "data.Price.describe()"
   ],
   "metadata": {
    "collapsed": false,
    "pycharm": {
     "name": "#%%\n"
    }
   }
  },
  {
   "cell_type": "code",
   "execution_count": null,
   "outputs": [],
   "source": [
    "# Convert PropertyType and Duration from string to int\n",
    "data['PropertyType'] = [ord(x) - 64 for x in data.PropertyType]\n",
    "data['Duration'] = [ord(x) - 64 for x in data.Duration]\n",
    "# Convert OldNew from Y/N to 1/0\n",
    "data['OldNew'] = data['OldNew'].map({'Y': 1, 'N': 0})"
   ],
   "metadata": {
    "collapsed": false,
    "pycharm": {
     "name": "#%%\n"
    }
   }
  },
  {
   "cell_type": "code",
   "execution_count": null,
   "outputs": [],
   "source": [
    "# Import/Install pgeocode lib to get longitude and latitude from a postcode string\n",
    "import sys\n",
    "try:\n",
    "    import pgeocode\n",
    "except ImportError as e:\n",
    "    !conda install --channel conda-forge --yes --prefix {sys.prefix} pgeocode"
   ],
   "metadata": {
    "collapsed": false,
    "pycharm": {
     "name": "#%%\n"
    }
   }
  },
  {
   "cell_type": "code",
   "execution_count": null,
   "outputs": [],
   "source": [
    "# Remove all rows with NaN\n",
    "data.dropna(inplace=True)\n",
    "data.reset_index(drop=True, inplace=True)\n",
    "\n",
    "# Format postcode data in main df so that it matches the format in the pgeocode lib\n",
    "codes = [str(x) for x in data.Postcode]\n",
    "codes = [x[0:x.index(\" \")] for x in codes if \" \" in x]\n",
    "data"
   ],
   "metadata": {
    "collapsed": false,
    "pycharm": {
     "name": "#%%\n"
    }
   }
  },
  {
   "cell_type": "code",
   "execution_count": null,
   "outputs": [],
   "source": [
    "# Get longitude and latitude values for every valid postcode\n",
    "nomi = pgeocode.Nominatim(\"GB\")\n",
    "post_code_info = nomi.query_postal_code(codes)\n",
    "latitude = post_code_info.latitude\n",
    "longitude = post_code_info.longitude\n",
    "post_code_info"
   ],
   "metadata": {
    "collapsed": false,
    "pycharm": {
     "name": "#%%\n"
    }
   }
  },
  {
   "cell_type": "code",
   "execution_count": null,
   "outputs": [],
   "source": [
    "# Store long and lat in main df\n",
    "data['Longitude'] = longitude\n",
    "data['Latitude'] = latitude\n",
    "\n",
    "# Drop Postcode col now we have location data in long + lat\n",
    "data.drop(['Postcode'], inplace=True, axis=1)\n",
    "\n",
    "data.dropna(inplace=True)\n",
    "data.reset_index(drop=True, inplace=True)"
   ],
   "metadata": {
    "collapsed": false,
    "pycharm": {
     "name": "#%%\n"
    }
   }
  },
  {
   "cell_type": "code",
   "execution_count": null,
   "outputs": [],
   "source": [
    "# Convert each city into a column using one-hot encoding, remove old City col\n",
    "dummies = pandas.get_dummies(data.City)\n",
    "dummies.drop(('Other'), inplace=True, axis=1)\n",
    "data = pd.concat([data, dummies], axis=1)\n",
    "data.drop(['City'], inplace=True, axis=1)"
   ],
   "metadata": {
    "collapsed": false,
    "pycharm": {
     "name": "#%%\n"
    }
   }
  },
  {
   "cell_type": "code",
   "execution_count": null,
   "outputs": [],
   "source": [
    "# Normalize Price between -1 and 1\n",
    "min_params = data['Price'].min()\n",
    "max_params = data['Price'].max()\n",
    "data['Price'] = 2 * ((data['Price'] - min_params) / (max_params - min_params)) -1\n",
    "\n",
    "# Normalize lat and longs between~ -1 and 1\n",
    "data[['Longitude', 'Latitude']] = (data[['Longitude', 'Latitude']] / 100)"
   ],
   "metadata": {
    "collapsed": false,
    "pycharm": {
     "name": "#%%\n"
    }
   }
  },
  {
   "cell_type": "code",
   "execution_count": null,
   "outputs": [],
   "source": [
    "# Training, Validation, Test split = 80%, 10%, 10%\n",
    "train, val, test = np.split(data.sample(frac=1, random_state=54), [int(.8 * len(data)), int(.9 * len(data))])"
   ],
   "metadata": {
    "collapsed": false,
    "pycharm": {
     "name": "#%%\n"
    }
   }
  },
  {
   "cell_type": "code",
   "execution_count": null,
   "outputs": [],
   "source": [
    "# y = column vector, true price value (labels) (len(data[0],)\n",
    "y_train, y_val, y_test = train.Price, val.Price, test.Price\n",
    "y_train = y_train.to_numpy()\n",
    "y_val = y_val.to_numpy()\n",
    "y_test = y_test.to_numpy()"
   ],
   "metadata": {
    "collapsed": false,
    "pycharm": {
     "name": "#%%\n"
    }
   }
  },
  {
   "cell_type": "code",
   "execution_count": null,
   "outputs": [],
   "source": [
    "# X = matrix, excludes price feature\n",
    "train.drop(['Price'], axis=1, inplace=True)\n",
    "X_train = train.to_numpy()\n",
    "val.drop(['Price'], axis=1, inplace=True)\n",
    "X_val = val.to_numpy()\n",
    "test.drop(['Price'], axis=1, inplace=True)\n",
    "X_test = test.to_numpy()"
   ],
   "metadata": {
    "collapsed": false,
    "pycharm": {
     "name": "#%%\n"
    }
   }
  },
  {
   "cell_type": "code",
   "execution_count": 186,
   "outputs": [
    {
     "data": {
      "text/plain": "      Price  PropertyType  OldNew  Duration  Longitude  Latitude  ABERDARE  \\\n0 -0.960927            20       0         6  -0.018961  0.523238         0   \n1 -0.880280            19       0         6  -0.020764  0.523052         0   \n2 -0.944192            19       0         6  -0.027965  0.520333         0   \n3 -0.944394            19       0         6  -0.019433  0.522922         0   \n4 -0.930482            19       0         6  -0.019581  0.522581         0   \n\n   ABINGDON  ACCRINGTON  ALDERSHOT  ALFRETON  ALTRINCHAM  ANDOVER  ASHFORD  \\\n0         0           0          0         0           0        0        0   \n1         0           0          0         0           0        0        0   \n2         0           0          0         0           0        0        0   \n3         0           0          0         0           0        0        0   \n4         0           0          0         0           0        0        0   \n\n   ASHTON-UNDER-LYNE  AYLESBURY  BANBURY  BARNET  BARNSLEY  BARNSTAPLE  \\\n0                  0          0        0       0         0           0   \n1                  0          0        0       0         0           0   \n2                  0          0        0       0         0           0   \n3                  0          0        0       0         0           0   \n4                  0          0        0       0         0           0   \n\n   BARROW-IN-FURNESS  BARRY  BASILDON  BASINGSTOKE  BATH  BEDFORD  BELPER  \\\n0                  0      0         0            0     0        0       0   \n1                  0      0         0            0     0        0       0   \n2                  0      0         0            0     0        0       0   \n3                  0      0         0            0     0        0       0   \n4                  0      0         0            0     0        0       0   \n\n   BENFLEET  BEVERLEY  BEXHILL-ON-SEA  BEXLEYHEATH  BICESTER  BIDEFORD  \\\n0         0         0               0            0         0         0   \n1         0         0               0            0         0         0   \n2         0         0               0            0         0         0   \n3         0         0               0            0         0         0   \n4         0         0               0            0         0         0   \n\n   BILLERICAY  BILLINGHAM  BILSTON  BIRKENHEAD  BIRMINGHAM  BISHOP AUCKLAND  \\\n0           0           0        0           0           0                0   \n1           0           0        0           0           0                0   \n2           0           0        0           0           0                0   \n3           0           0        0           0           0                0   \n4           0           0        0           0           0                0   \n\n   BISHOP'S STORTFORD  BLACKBURN  BLACKPOOL  BLYTH  BOGNOR REGIS  BOLTON  \\\n0                   0          0          0      0             0       0   \n1                   0          0          0      0             0       0   \n2                   0          0          0      0             0       0   \n3                   0          0          0      0             0       0   \n4                   0          0          0      0             0       0   \n\n   BOOTLE  BOSTON  BOURNEMOUTH  BRACKNELL  BRADFORD  BRAINTREE  BRENTWOOD  \\\n0       0       0            0          0         0          0          0   \n1       0       0            0          0         0          0          0   \n2       0       0            0          0         0          0          0   \n3       0       0            0          0         0          0          0   \n4       0       0            0          0         0          0          0   \n\n   BRIDGEND  BRIDGWATER  BRIDLINGTON  BRIGHTON  BRISTOL  BROMLEY  BROMSGROVE  \\\n0         0           0            0         0        0        0           0   \n1         0           0            0         0        0        0           1   \n2         0           0            0         0        0        0           0   \n3         0           0            0         0        0        0           0   \n4         0           0            0         0        0        0           0   \n\n   BUCKINGHAM  BURGESS HILL  BURNLEY  BURTON-ON-TRENT  BURY  BURY ST EDMUNDS  \\\n0           0             0        0                0     0                0   \n1           0             0        0                0     0                0   \n2           0             0        0                0     0                0   \n3           0             0        0                0     0                0   \n4           0             0        0                0     0                0   \n\n   CAERPHILLY  CAMBERLEY  CAMBRIDGE  CANNOCK  CANTERBURY  CANVEY ISLAND  \\\n0           0          0          0        0           0              0   \n1           0          0          0        0           0              0   \n2           0          0          0        0           0              0   \n3           0          0          0        0           0              0   \n4           0          0          0        0           0              0   \n\n   CARDIFF  CARLISLE  CARMARTHEN  CASTLEFORD  CHATHAM  CHEADLE  CHELMSFORD  \\\n0        0         0           0           0        0        0           0   \n1        0         0           0           0        0        0           0   \n2        0         0           0           0        0        0           0   \n3        0         0           0           0        0        0           0   \n4        0         0           0           0        0        0           0   \n\n   CHELTENHAM  CHESTER  CHESTER LE STREET  CHESTERFIELD  CHICHESTER  \\\n0           0        0                  0             0           0   \n1           0        0                  0             0           0   \n2           0        0                  0             0           0   \n3           0        0                  0             0           0   \n4           0        0                  0             0           0   \n\n   CHIPPENHAM  CHORLEY  CHRISTCHURCH  CIRENCESTER  CLACTON-ON-SEA  \\\n0           0        0             0            0               0   \n1           0        0             0            0               0   \n2           0        0             0            0               0   \n3           0        0             0            0               0   \n4           0        0             0            0               0   \n\n   CLEETHORPES  CLITHEROE  COALVILLE  COLCHESTER  CONGLETON  CONSETT  CORBY  \\\n0            0          0          0           0          0        0      0   \n1            0          0          0           0          0        0      0   \n2            0          0          0           0          0        0      0   \n3            0          0          0           0          0        0      0   \n4            0          0          0           0          0        0      0   \n\n   COVENTRY  CRAWLEY  CREWE  CROYDON  CWMBRAN  DAGENHAM  DARLINGTON  DARTFORD  \\\n0         0        0      0        0        0         0           0         0   \n1         0        0      0        0        0         0           0         0   \n2         0        0      0        0        0         0           0         0   \n3         0        0      0        0        0         0           0         0   \n4         0        0      0        0        0         0           0         0   \n\n   DARWEN  DAVENTRY  DEAL  DEESIDE  DERBY  DEREHAM  DEVIZES  DEWSBURY  DIDCOT  \\\n0       0         0     0        0      0        0        0         0       0   \n1       0         0     0        0      0        0        0         0       0   \n2       0         0     0        0      0        0        0         0       0   \n3       0         0     0        0      0        0        0         0       0   \n4       0         0     0        0      0        0        0         0       0   \n\n   DONCASTER  DORCHESTER  DOVER  DRIFFIELD  DUDLEY  DUNSTABLE  DURHAM  \\\n0          0           0      0          0       0          0       0   \n1          0           0      0          0       0          0       0   \n2          0           0      0          0       0          0       0   \n3          0           0      0          0       0          0       0   \n4          0           0      0          0       0          0       0   \n\n   EASTBOURNE  EASTLEIGH  ELLESMERE PORT  ELY  ENFIELD  EPSOM  EVESHAM  \\\n0           0          0               0    0        0      0        0   \n1           0          0               0    0        0      0        0   \n2           0          0               0    0        0      0        0   \n3           0          0               0    0        0      0        0   \n4           0          0               0    0        0      0        0   \n\n   EXETER  EXMOUTH  FAREHAM  FARNBOROUGH  FARNHAM  FLEET  FOLKESTONE  FROME  \\\n0       0        0        0            0        0      0           0      0   \n1       0        0        0            0        0      0           0      0   \n2       0        0        0            0        0      0           0      0   \n3       0        0        0            0        0      0           0      0   \n4       0        0        0            0        0      0           0      0   \n\n   GAINSBOROUGH  GATESHEAD  GILLINGHAM  GLOUCESTER  GODALMING  GOOLE  GOSPORT  \\\n0             0          0           0           0          0      0        0   \n1             0          0           0           0          0      0        0   \n2             0          0           0           0          0      0        0   \n3             0          0           0           0          0      0        0   \n4             0          0           0           0          0      0        0   \n\n   GRANTHAM  GRAVESEND  GRAYS  GREAT YARMOUTH  GRIMSBY  GUILDFORD  HAILSHAM  \\\n0         0          0      0               0        0          0         0   \n1         0          0      0               0        0          0         0   \n2         0          0      0               0        0          0         0   \n3         0          0      0               0        0          0         0   \n4         0          0      0               0        0          0         0   \n\n   HALESOWEN  HALIFAX  HARLOW  HARROGATE  HARROW  HARTLEPOOL  HASTINGS  \\\n0          0        0       0          0       0           0         0   \n1          0        0       0          0       0           0         0   \n2          0        0       0          0       0           0         0   \n3          0        0       0          0       0           0         0   \n4          0        0       0          0       0           0         0   \n\n   HAVANT  HAVERFORDWEST  HAYES  HAYWARDS HEATH  HEMEL HEMPSTEAD  HEREFORD  \\\n0       0              0      0               0                0         0   \n1       0              0      0               0                0         0   \n2       0              0      0               0                0         1   \n3       0              0      0               0                0         0   \n4       0              0      0               0                0         0   \n\n   HERNE BAY  HIGH WYCOMBE  HINCKLEY  HITCHIN  HORNCHURCH  HORSHAM  \\\n0          0             0         0        0           0        0   \n1          0             0         0        0           0        0   \n2          0             0         0        0           0        0   \n3          0             0         0        0           0        0   \n4          0             0         0        0           0        0   \n\n   HOUGHTON LE SPRING  HOVE  HUDDERSFIELD  HULL  HUNTINGDON  HYDE  ILFORD  \\\n0                   0     0             0     0           0     0       0   \n1                   0     0             0     0           0     0       0   \n2                   0     0             0     0           0     0       0   \n3                   0     0             0     0           0     0       0   \n4                   0     0             0     0           0     0       0   \n\n   ILKESTON  ILKLEY  IPSWICH  KEIGHLEY  KENDAL  KETTERING  KIDDERMINSTER  \\\n0         0       0        0         0       0          0              0   \n1         0       0        0         0       0          0              0   \n2         0       0        0         0       0          0              0   \n3         0       0        0         0       0          0              0   \n4         0       0        0         0       0          0              0   \n\n   KING'S LYNN  KINGSWINFORD  LANCASTER  LEAMINGTON SPA  LEATHERHEAD  LEEDS  \\\n0            0             0          0               0            0      0   \n1            0             0          0               0            0      0   \n2            0             0          0               0            0      0   \n3            0             0          0               0            0      0   \n4            0             0          0               0            0      0   \n\n   LEICESTER  LEIGH  LEIGH-ON-SEA  LEIGHTON BUZZARD  LEYLAND  LICHFIELD  \\\n0          0      0             0                 0        0          0   \n1          0      0             0                 0        0          0   \n2          0      0             0                 0        0          0   \n3          0      0             0                 0        0          0   \n4          0      0             0                 0        0          0   \n\n   LINCOLN  LITTLEHAMPTON  LIVERPOOL  LLANELLI  LONDON  LOUGHBOROUGH  LOUTH  \\\n0        0              0          0         0       0             0      0   \n1        0              0          0         0       0             0      0   \n2        0              0          0         0       0             0      0   \n3        0              0          0         0       0             0      0   \n4        0              0          0         0       0             0      0   \n\n   LOWESTOFT  LUTON  LYMINGTON  LYTHAM ST ANNES  MACCLESFIELD  MAIDENHEAD  \\\n0          0      0          0                0             0           0   \n1          0      0          0                0             0           0   \n2          0      0          0                0             0           0   \n3          0      0          0                0             0           0   \n4          0      0          0                0             0           0   \n\n   MAIDSTONE  MALDON  MALVERN  MANCHESTER  MANSFIELD  MARCH  MARGATE  \\\n0          0       0        0           0          0      0        0   \n1          0       0        0           0          0      0        0   \n2          0       0        0           0          0      0        0   \n3          0       0        0           0          0      0        0   \n4          0       0        0           0          0      0        0   \n\n   MARKET HARBOROUGH  MATLOCK  MELTON MOWBRAY  MERTHYR TYDFIL  MIDDLESBROUGH  \\\n0                  0        0               0               0              0   \n1                  0        0               0               0              0   \n2                  0        0               0               0              0   \n3                  0        0               0               0              0   \n4                  0        0               0               0              0   \n\n   MILTON KEYNES  MORECAMBE  MORPETH  NANTWICH  NEATH  NELSON  NEWARK  \\\n0              0          0        0         0      0       0       0   \n1              0          0        0         0      0       0       0   \n2              0          0        0         0      0       0       0   \n3              0          0        0         0      0       0       0   \n4              0          0        0         0      0       0       0   \n\n   NEWBURY  NEWCASTLE  NEWCASTLE UPON TYNE  NEWPORT  NEWTON ABBOT  \\\n0        0          0                    0        0             0   \n1        0          0                    0        0             0   \n2        0          0                    0        0             0   \n3        0          0                    0        0             0   \n4        0          0                    0        0             0   \n\n   NORTH SHIELDS  NORTHAMPTON  NORTHWICH  NORWICH  NOTTINGHAM  NUNEATON  \\\n0              0            0          0        0           0         0   \n1              0            0          0        0           0         0   \n2              0            0          0        0           0         0   \n3              0            0          0        0           0         0   \n4              0            0          0        0           0         0   \n\n   OLDBURY  OLDHAM  ORMSKIRK  ORPINGTON  OSWESTRY  OXFORD  PAIGNTON  PENRITH  \\\n0        0       0         0          0         0       0         0        0   \n1        0       0         0          0         0       0         0        0   \n2        0       0         0          0         0       0         0        0   \n3        0       0         0          0         0       0         0        0   \n4        0       0         0          0         0       0         0        0   \n\n   PENZANCE  PETERBOROUGH  PETERLEE  PLYMOUTH  PONTEFRACT  PONTYPOOL  \\\n0         0             0         0         0           0          0   \n1         0             0         0         0           0          0   \n2         0             0         0         0           0          0   \n3         0             0         0         0           0          0   \n4         0             0         0         0           0          0   \n\n   PONTYPRIDD  POOLE  PORT TALBOT  PORTSMOUTH  POULTON-LE-FYLDE  PRESCOT  \\\n0           0      0            0           0                 0        0   \n1           0      0            0           0                 0        0   \n2           0      0            0           0                 0        0   \n3           0      0            0           0                 0        0   \n4           0      0            0           0                 0        0   \n\n   PRESTON  PUDSEY  RAMSGATE  RAYLEIGH  READING  REDCAR  REDDITCH  REDHILL  \\\n0        0       0         0         0        0       0         1        0   \n1        0       0         0         0        0       0         0        0   \n2        0       0         0         0        0       0         0        0   \n3        0       0         0         0        0       0         1        0   \n4        0       0         0         0        0       0         1        0   \n\n   RETFORD  RHYL  RICHMOND  ROCHDALE  ROCHESTER  ROMFORD  ROSSENDALE  \\\n0        0     0         0         0          0        0           0   \n1        0     0         0         0          0        0           0   \n2        0     0         0         0          0        0           0   \n3        0     0         0         0          0        0           0   \n4        0     0         0         0          0        0           0   \n\n   ROTHERHAM  ROYSTON  RUGBY  RUGELEY  RUISLIP  RUNCORN  RUSHDEN  SALE  \\\n0          0        0      0        0        0        0        0     0   \n1          0        0      0        0        0        0        0     0   \n2          0        0      0        0        0        0        0     0   \n3          0        0      0        0        0        0        0     0   \n4          0        0      0        0        0        0        0     0   \n\n   SALFORD  SALISBURY  SANDBACH  SCARBOROUGH  SCUNTHORPE  SELBY  SEVENOAKS  \\\n0        0          0         0            0           0      0          0   \n1        0          0         0            0           0      0          0   \n2        0          0         0            0           0      0          0   \n3        0          0         0            0           0      0          0   \n4        0          0         0            0           0      0          0   \n\n   SHEERNESS  SHEFFIELD  SHIPLEY  SHREWSBURY  SIDCUP  SITTINGBOURNE  SKEGNESS  \\\n0          0          0        0           0       0              0         0   \n1          0          0        0           0       0              0         0   \n2          0          0        0           0       0              0         0   \n3          0          0        0           0       0              0         0   \n4          0          0        0           0       0              0         0   \n\n   SKELMERSDALE  SLEAFORD  SLOUGH  SOLIHULL  SOUTH CROYDON  SOUTH SHIELDS  \\\n0             0         0       0         0              0              0   \n1             0         0       0         0              0              0   \n2             0         0       0         0              0              0   \n3             0         0       0         0              0              0   \n4             0         0       0         0              0              0   \n\n   SOUTHAMPTON  SOUTHEND-ON-SEA  SOUTHPORT  SOUTHSEA  SPALDING  ST ALBANS  \\\n0            0                0          0         0         0          0   \n1            0                0          0         0         0          0   \n2            0                0          0         0         0          0   \n3            0                0          0         0         0          0   \n4            0                0          0         0         0          0   \n\n   ST AUSTELL  ST HELENS  ST IVES  ST LEONARDS-ON-SEA  ST NEOTS  STAFFORD  \\\n0           0          0        0                   0         0         0   \n1           0          0        0                   0         0         0   \n2           0          0        0                   0         0         0   \n3           0          0        0                   0         0         0   \n4           0          0        0                   0         0         0   \n\n   STAMFORD  STANFORD-LE-HOPE  STANLEY  STEVENAGE  STOCKPORT  \\\n0         0                 0        0          0          0   \n1         0                 0        0          0          0   \n2         0                 0        0          0          0   \n3         0                 0        0          0          0   \n4         0                 0        0          0          0   \n\n   STOCKTON-ON-TEES  STOKE-ON-TRENT  STOURBRIDGE  STOWMARKET  \\\n0                 0               0            0           0   \n1                 0               0            0           0   \n2                 0               0            0           0   \n3                 0               0            0           0   \n4                 0               0            0           0   \n\n   STRATFORD-UPON-AVON  STROUD  SUDBURY  SUNDERLAND  SUTTON  SUTTON COLDFIELD  \\\n0                    0       0        0           0       0                 0   \n1                    0       0        0           0       0                 0   \n2                    0       0        0           0       0                 0   \n3                    0       0        0           0       0                 0   \n4                    0       0        0           0       0                 0   \n\n   SUTTON-IN-ASHFIELD  SWADLINCOTE  SWANSEA  SWINDON  TAMWORTH  TAUNTON  \\\n0                   0            0        0        0         0        0   \n1                   0            0        0        0         0        0   \n2                   0            0        0        0         0        0   \n3                   0            0        0        0         0        0   \n4                   0            0        0        0         0        0   \n\n   TELFORD  THETFORD  THORNTON-CLEVELEYS  TONBRIDGE  TORQUAY  TROWBRIDGE  \\\n0        0         0                   0          0        0           0   \n1        0         0                   0          0        0           0   \n2        0         0                   0          0        0           0   \n3        0         0                   0          0        0           0   \n4        0         0                   0          0        0           0   \n\n   TRURO  TUNBRIDGE WELLS  TWICKENHAM  UXBRIDGE  WAKEFIELD  WALLASEY  \\\n0      0                0           0         0          0         0   \n1      0                0           0         0          0         0   \n2      0                0           0         0          0         0   \n3      0                0           0         0          0         0   \n4      0                0           0         0          0         0   \n\n   WALLSEND  WALSALL  WALTHAM CROSS  WALTON-ON-THAMES  WARRINGTON  WARWICK  \\\n0         0        0              0                 0           0        0   \n1         0        0              0                 0           0        0   \n2         0        0              0                 0           0        0   \n3         0        0              0                 0           0        0   \n4         0        0              0                 0           0        0   \n\n   WASHINGTON  WATERLOOVILLE  WATFORD  WELLINGBOROUGH  WESTON-SUPER-MARE  \\\n0           0              0        0               0                  0   \n1           0              0        0               0                  0   \n2           0              0        0               0                  0   \n3           0              0        0               0                  0   \n4           0              0        0               0                  0   \n\n   WEYMOUTH  WHITLEY BAY  WHITSTABLE  WICKFORD  WIDNES  WIGAN  WIGSTON  \\\n0         0            0           0         0       0      0        0   \n1         0            0           0         0       0      0        0   \n2         0            0           0         0       0      0        0   \n3         0            0           0         0       0      0        0   \n4         0            0           0         0       0      0        0   \n\n   WILMSLOW  WIMBORNE  WINCHESTER  WINDSOR  WIRRAL  WISBECH  WITNEY  WOKING  \\\n0         0         0           0        0       0        0       0       0   \n1         0         0           0        0       0        0       0       0   \n2         0         0           0        0       0        0       0       0   \n3         0         0           0        0       0        0       0       0   \n4         0         0           0        0       0        0       0       0   \n\n   WOKINGHAM  WOLVERHAMPTON  WOODBRIDGE  WORCESTER  WORKSOP  WORTHING  \\\n0          0              0           0          0        0         0   \n1          0              0           0          0        0         0   \n2          0              0           0          0        0         0   \n3          0              0           0          0        0         0   \n4          0              0           0          0        0         0   \n\n   WREXHAM  YEOVIL  YORK  \n0        0       0     0  \n1        0       0     0  \n2        0       0     0  \n3        0       0     0  \n4        0       0     0  ",
      "text/html": "<div>\n<style scoped>\n    .dataframe tbody tr th:only-of-type {\n        vertical-align: middle;\n    }\n\n    .dataframe tbody tr th {\n        vertical-align: top;\n    }\n\n    .dataframe thead th {\n        text-align: right;\n    }\n</style>\n<table border=\"1\" class=\"dataframe\">\n  <thead>\n    <tr style=\"text-align: right;\">\n      <th></th>\n      <th>Price</th>\n      <th>PropertyType</th>\n      <th>OldNew</th>\n      <th>Duration</th>\n      <th>Longitude</th>\n      <th>Latitude</th>\n      <th>ABERDARE</th>\n      <th>ABINGDON</th>\n      <th>ACCRINGTON</th>\n      <th>ALDERSHOT</th>\n      <th>ALFRETON</th>\n      <th>ALTRINCHAM</th>\n      <th>ANDOVER</th>\n      <th>ASHFORD</th>\n      <th>ASHTON-UNDER-LYNE</th>\n      <th>AYLESBURY</th>\n      <th>BANBURY</th>\n      <th>BARNET</th>\n      <th>BARNSLEY</th>\n      <th>BARNSTAPLE</th>\n      <th>BARROW-IN-FURNESS</th>\n      <th>BARRY</th>\n      <th>BASILDON</th>\n      <th>BASINGSTOKE</th>\n      <th>BATH</th>\n      <th>BEDFORD</th>\n      <th>BELPER</th>\n      <th>BENFLEET</th>\n      <th>BEVERLEY</th>\n      <th>BEXHILL-ON-SEA</th>\n      <th>BEXLEYHEATH</th>\n      <th>BICESTER</th>\n      <th>BIDEFORD</th>\n      <th>BILLERICAY</th>\n      <th>BILLINGHAM</th>\n      <th>BILSTON</th>\n      <th>BIRKENHEAD</th>\n      <th>BIRMINGHAM</th>\n      <th>BISHOP AUCKLAND</th>\n      <th>BISHOP'S STORTFORD</th>\n      <th>BLACKBURN</th>\n      <th>BLACKPOOL</th>\n      <th>BLYTH</th>\n      <th>BOGNOR REGIS</th>\n      <th>BOLTON</th>\n      <th>BOOTLE</th>\n      <th>BOSTON</th>\n      <th>BOURNEMOUTH</th>\n      <th>BRACKNELL</th>\n      <th>BRADFORD</th>\n      <th>BRAINTREE</th>\n      <th>BRENTWOOD</th>\n      <th>BRIDGEND</th>\n      <th>BRIDGWATER</th>\n      <th>BRIDLINGTON</th>\n      <th>BRIGHTON</th>\n      <th>BRISTOL</th>\n      <th>BROMLEY</th>\n      <th>BROMSGROVE</th>\n      <th>BUCKINGHAM</th>\n      <th>BURGESS HILL</th>\n      <th>BURNLEY</th>\n      <th>BURTON-ON-TRENT</th>\n      <th>BURY</th>\n      <th>BURY ST EDMUNDS</th>\n      <th>CAERPHILLY</th>\n      <th>CAMBERLEY</th>\n      <th>CAMBRIDGE</th>\n      <th>CANNOCK</th>\n      <th>CANTERBURY</th>\n      <th>CANVEY ISLAND</th>\n      <th>CARDIFF</th>\n      <th>CARLISLE</th>\n      <th>CARMARTHEN</th>\n      <th>CASTLEFORD</th>\n      <th>CHATHAM</th>\n      <th>CHEADLE</th>\n      <th>CHELMSFORD</th>\n      <th>CHELTENHAM</th>\n      <th>CHESTER</th>\n      <th>CHESTER LE STREET</th>\n      <th>CHESTERFIELD</th>\n      <th>CHICHESTER</th>\n      <th>CHIPPENHAM</th>\n      <th>CHORLEY</th>\n      <th>CHRISTCHURCH</th>\n      <th>CIRENCESTER</th>\n      <th>CLACTON-ON-SEA</th>\n      <th>CLEETHORPES</th>\n      <th>CLITHEROE</th>\n      <th>COALVILLE</th>\n      <th>COLCHESTER</th>\n      <th>CONGLETON</th>\n      <th>CONSETT</th>\n      <th>CORBY</th>\n      <th>COVENTRY</th>\n      <th>CRAWLEY</th>\n      <th>CREWE</th>\n      <th>CROYDON</th>\n      <th>CWMBRAN</th>\n      <th>DAGENHAM</th>\n      <th>DARLINGTON</th>\n      <th>DARTFORD</th>\n      <th>DARWEN</th>\n      <th>DAVENTRY</th>\n      <th>DEAL</th>\n      <th>DEESIDE</th>\n      <th>DERBY</th>\n      <th>DEREHAM</th>\n      <th>DEVIZES</th>\n      <th>DEWSBURY</th>\n      <th>DIDCOT</th>\n      <th>DONCASTER</th>\n      <th>DORCHESTER</th>\n      <th>DOVER</th>\n      <th>DRIFFIELD</th>\n      <th>DUDLEY</th>\n      <th>DUNSTABLE</th>\n      <th>DURHAM</th>\n      <th>EASTBOURNE</th>\n      <th>EASTLEIGH</th>\n      <th>ELLESMERE PORT</th>\n      <th>ELY</th>\n      <th>ENFIELD</th>\n      <th>EPSOM</th>\n      <th>EVESHAM</th>\n      <th>EXETER</th>\n      <th>EXMOUTH</th>\n      <th>FAREHAM</th>\n      <th>FARNBOROUGH</th>\n      <th>FARNHAM</th>\n      <th>FLEET</th>\n      <th>FOLKESTONE</th>\n      <th>FROME</th>\n      <th>GAINSBOROUGH</th>\n      <th>GATESHEAD</th>\n      <th>GILLINGHAM</th>\n      <th>GLOUCESTER</th>\n      <th>GODALMING</th>\n      <th>GOOLE</th>\n      <th>GOSPORT</th>\n      <th>GRANTHAM</th>\n      <th>GRAVESEND</th>\n      <th>GRAYS</th>\n      <th>GREAT YARMOUTH</th>\n      <th>GRIMSBY</th>\n      <th>GUILDFORD</th>\n      <th>HAILSHAM</th>\n      <th>HALESOWEN</th>\n      <th>HALIFAX</th>\n      <th>HARLOW</th>\n      <th>HARROGATE</th>\n      <th>HARROW</th>\n      <th>HARTLEPOOL</th>\n      <th>HASTINGS</th>\n      <th>HAVANT</th>\n      <th>HAVERFORDWEST</th>\n      <th>HAYES</th>\n      <th>HAYWARDS HEATH</th>\n      <th>HEMEL HEMPSTEAD</th>\n      <th>HEREFORD</th>\n      <th>HERNE BAY</th>\n      <th>HIGH WYCOMBE</th>\n      <th>HINCKLEY</th>\n      <th>HITCHIN</th>\n      <th>HORNCHURCH</th>\n      <th>HORSHAM</th>\n      <th>HOUGHTON LE SPRING</th>\n      <th>HOVE</th>\n      <th>HUDDERSFIELD</th>\n      <th>HULL</th>\n      <th>HUNTINGDON</th>\n      <th>HYDE</th>\n      <th>ILFORD</th>\n      <th>ILKESTON</th>\n      <th>ILKLEY</th>\n      <th>IPSWICH</th>\n      <th>KEIGHLEY</th>\n      <th>KENDAL</th>\n      <th>KETTERING</th>\n      <th>KIDDERMINSTER</th>\n      <th>KING'S LYNN</th>\n      <th>KINGSWINFORD</th>\n      <th>LANCASTER</th>\n      <th>LEAMINGTON SPA</th>\n      <th>LEATHERHEAD</th>\n      <th>LEEDS</th>\n      <th>LEICESTER</th>\n      <th>LEIGH</th>\n      <th>LEIGH-ON-SEA</th>\n      <th>LEIGHTON BUZZARD</th>\n      <th>LEYLAND</th>\n      <th>LICHFIELD</th>\n      <th>LINCOLN</th>\n      <th>LITTLEHAMPTON</th>\n      <th>LIVERPOOL</th>\n      <th>LLANELLI</th>\n      <th>LONDON</th>\n      <th>LOUGHBOROUGH</th>\n      <th>LOUTH</th>\n      <th>LOWESTOFT</th>\n      <th>LUTON</th>\n      <th>LYMINGTON</th>\n      <th>LYTHAM ST ANNES</th>\n      <th>MACCLESFIELD</th>\n      <th>MAIDENHEAD</th>\n      <th>MAIDSTONE</th>\n      <th>MALDON</th>\n      <th>MALVERN</th>\n      <th>MANCHESTER</th>\n      <th>MANSFIELD</th>\n      <th>MARCH</th>\n      <th>MARGATE</th>\n      <th>MARKET HARBOROUGH</th>\n      <th>MATLOCK</th>\n      <th>MELTON MOWBRAY</th>\n      <th>MERTHYR TYDFIL</th>\n      <th>MIDDLESBROUGH</th>\n      <th>MILTON KEYNES</th>\n      <th>MORECAMBE</th>\n      <th>MORPETH</th>\n      <th>NANTWICH</th>\n      <th>NEATH</th>\n      <th>NELSON</th>\n      <th>NEWARK</th>\n      <th>NEWBURY</th>\n      <th>NEWCASTLE</th>\n      <th>NEWCASTLE UPON TYNE</th>\n      <th>NEWPORT</th>\n      <th>NEWTON ABBOT</th>\n      <th>NORTH SHIELDS</th>\n      <th>NORTHAMPTON</th>\n      <th>NORTHWICH</th>\n      <th>NORWICH</th>\n      <th>NOTTINGHAM</th>\n      <th>NUNEATON</th>\n      <th>OLDBURY</th>\n      <th>OLDHAM</th>\n      <th>ORMSKIRK</th>\n      <th>ORPINGTON</th>\n      <th>OSWESTRY</th>\n      <th>OXFORD</th>\n      <th>PAIGNTON</th>\n      <th>PENRITH</th>\n      <th>PENZANCE</th>\n      <th>PETERBOROUGH</th>\n      <th>PETERLEE</th>\n      <th>PLYMOUTH</th>\n      <th>PONTEFRACT</th>\n      <th>PONTYPOOL</th>\n      <th>PONTYPRIDD</th>\n      <th>POOLE</th>\n      <th>PORT TALBOT</th>\n      <th>PORTSMOUTH</th>\n      <th>POULTON-LE-FYLDE</th>\n      <th>PRESCOT</th>\n      <th>PRESTON</th>\n      <th>PUDSEY</th>\n      <th>RAMSGATE</th>\n      <th>RAYLEIGH</th>\n      <th>READING</th>\n      <th>REDCAR</th>\n      <th>REDDITCH</th>\n      <th>REDHILL</th>\n      <th>RETFORD</th>\n      <th>RHYL</th>\n      <th>RICHMOND</th>\n      <th>ROCHDALE</th>\n      <th>ROCHESTER</th>\n      <th>ROMFORD</th>\n      <th>ROSSENDALE</th>\n      <th>ROTHERHAM</th>\n      <th>ROYSTON</th>\n      <th>RUGBY</th>\n      <th>RUGELEY</th>\n      <th>RUISLIP</th>\n      <th>RUNCORN</th>\n      <th>RUSHDEN</th>\n      <th>SALE</th>\n      <th>SALFORD</th>\n      <th>SALISBURY</th>\n      <th>SANDBACH</th>\n      <th>SCARBOROUGH</th>\n      <th>SCUNTHORPE</th>\n      <th>SELBY</th>\n      <th>SEVENOAKS</th>\n      <th>SHEERNESS</th>\n      <th>SHEFFIELD</th>\n      <th>SHIPLEY</th>\n      <th>SHREWSBURY</th>\n      <th>SIDCUP</th>\n      <th>SITTINGBOURNE</th>\n      <th>SKEGNESS</th>\n      <th>SKELMERSDALE</th>\n      <th>SLEAFORD</th>\n      <th>SLOUGH</th>\n      <th>SOLIHULL</th>\n      <th>SOUTH CROYDON</th>\n      <th>SOUTH SHIELDS</th>\n      <th>SOUTHAMPTON</th>\n      <th>SOUTHEND-ON-SEA</th>\n      <th>SOUTHPORT</th>\n      <th>SOUTHSEA</th>\n      <th>SPALDING</th>\n      <th>ST ALBANS</th>\n      <th>ST AUSTELL</th>\n      <th>ST HELENS</th>\n      <th>ST IVES</th>\n      <th>ST LEONARDS-ON-SEA</th>\n      <th>ST NEOTS</th>\n      <th>STAFFORD</th>\n      <th>STAMFORD</th>\n      <th>STANFORD-LE-HOPE</th>\n      <th>STANLEY</th>\n      <th>STEVENAGE</th>\n      <th>STOCKPORT</th>\n      <th>STOCKTON-ON-TEES</th>\n      <th>STOKE-ON-TRENT</th>\n      <th>STOURBRIDGE</th>\n      <th>STOWMARKET</th>\n      <th>STRATFORD-UPON-AVON</th>\n      <th>STROUD</th>\n      <th>SUDBURY</th>\n      <th>SUNDERLAND</th>\n      <th>SUTTON</th>\n      <th>SUTTON COLDFIELD</th>\n      <th>SUTTON-IN-ASHFIELD</th>\n      <th>SWADLINCOTE</th>\n      <th>SWANSEA</th>\n      <th>SWINDON</th>\n      <th>TAMWORTH</th>\n      <th>TAUNTON</th>\n      <th>TELFORD</th>\n      <th>THETFORD</th>\n      <th>THORNTON-CLEVELEYS</th>\n      <th>TONBRIDGE</th>\n      <th>TORQUAY</th>\n      <th>TROWBRIDGE</th>\n      <th>TRURO</th>\n      <th>TUNBRIDGE WELLS</th>\n      <th>TWICKENHAM</th>\n      <th>UXBRIDGE</th>\n      <th>WAKEFIELD</th>\n      <th>WALLASEY</th>\n      <th>WALLSEND</th>\n      <th>WALSALL</th>\n      <th>WALTHAM CROSS</th>\n      <th>WALTON-ON-THAMES</th>\n      <th>WARRINGTON</th>\n      <th>WARWICK</th>\n      <th>WASHINGTON</th>\n      <th>WATERLOOVILLE</th>\n      <th>WATFORD</th>\n      <th>WELLINGBOROUGH</th>\n      <th>WESTON-SUPER-MARE</th>\n      <th>WEYMOUTH</th>\n      <th>WHITLEY BAY</th>\n      <th>WHITSTABLE</th>\n      <th>WICKFORD</th>\n      <th>WIDNES</th>\n      <th>WIGAN</th>\n      <th>WIGSTON</th>\n      <th>WILMSLOW</th>\n      <th>WIMBORNE</th>\n      <th>WINCHESTER</th>\n      <th>WINDSOR</th>\n      <th>WIRRAL</th>\n      <th>WISBECH</th>\n      <th>WITNEY</th>\n      <th>WOKING</th>\n      <th>WOKINGHAM</th>\n      <th>WOLVERHAMPTON</th>\n      <th>WOODBRIDGE</th>\n      <th>WORCESTER</th>\n      <th>WORKSOP</th>\n      <th>WORTHING</th>\n      <th>WREXHAM</th>\n      <th>YEOVIL</th>\n      <th>YORK</th>\n    </tr>\n  </thead>\n  <tbody>\n    <tr>\n      <th>0</th>\n      <td>-0.960927</td>\n      <td>20</td>\n      <td>0</td>\n      <td>6</td>\n      <td>-0.018961</td>\n      <td>0.523238</td>\n      <td>0</td>\n      <td>0</td>\n      <td>0</td>\n      <td>0</td>\n      <td>0</td>\n      <td>0</td>\n      <td>0</td>\n      <td>0</td>\n      <td>0</td>\n      <td>0</td>\n      <td>0</td>\n      <td>0</td>\n      <td>0</td>\n      <td>0</td>\n      <td>0</td>\n      <td>0</td>\n      <td>0</td>\n      <td>0</td>\n      <td>0</td>\n      <td>0</td>\n      <td>0</td>\n      <td>0</td>\n      <td>0</td>\n      <td>0</td>\n      <td>0</td>\n      <td>0</td>\n      <td>0</td>\n      <td>0</td>\n      <td>0</td>\n      <td>0</td>\n      <td>0</td>\n      <td>0</td>\n      <td>0</td>\n      <td>0</td>\n      <td>0</td>\n      <td>0</td>\n      <td>0</td>\n      <td>0</td>\n      <td>0</td>\n      <td>0</td>\n      <td>0</td>\n      <td>0</td>\n      <td>0</td>\n      <td>0</td>\n      <td>0</td>\n      <td>0</td>\n      <td>0</td>\n      <td>0</td>\n      <td>0</td>\n      <td>0</td>\n      <td>0</td>\n      <td>0</td>\n      <td>0</td>\n      <td>0</td>\n      <td>0</td>\n      <td>0</td>\n      <td>0</td>\n      <td>0</td>\n      <td>0</td>\n      <td>0</td>\n      <td>0</td>\n      <td>0</td>\n      <td>0</td>\n      <td>0</td>\n      <td>0</td>\n      <td>0</td>\n      <td>0</td>\n      <td>0</td>\n      <td>0</td>\n      <td>0</td>\n      <td>0</td>\n      <td>0</td>\n      <td>0</td>\n      <td>0</td>\n      <td>0</td>\n      <td>0</td>\n      <td>0</td>\n      <td>0</td>\n      <td>0</td>\n      <td>0</td>\n      <td>0</td>\n      <td>0</td>\n      <td>0</td>\n      <td>0</td>\n      <td>0</td>\n      <td>0</td>\n      <td>0</td>\n      <td>0</td>\n      <td>0</td>\n      <td>0</td>\n      <td>0</td>\n      <td>0</td>\n      <td>0</td>\n      <td>0</td>\n      <td>0</td>\n      <td>0</td>\n      <td>0</td>\n      <td>0</td>\n      <td>0</td>\n      <td>0</td>\n      <td>0</td>\n      <td>0</td>\n      <td>0</td>\n      <td>0</td>\n      <td>0</td>\n      <td>0</td>\n      <td>0</td>\n      <td>0</td>\n      <td>0</td>\n      <td>0</td>\n      <td>0</td>\n      <td>0</td>\n      <td>0</td>\n      <td>0</td>\n      <td>0</td>\n      <td>0</td>\n      <td>0</td>\n      <td>0</td>\n      <td>0</td>\n      <td>0</td>\n      <td>0</td>\n      <td>0</td>\n      <td>0</td>\n      <td>0</td>\n      <td>0</td>\n      <td>0</td>\n      <td>0</td>\n      <td>0</td>\n      <td>0</td>\n      <td>0</td>\n      <td>0</td>\n      <td>0</td>\n      <td>0</td>\n      <td>0</td>\n      <td>0</td>\n      <td>0</td>\n      <td>0</td>\n      <td>0</td>\n      <td>0</td>\n      <td>0</td>\n      <td>0</td>\n      <td>0</td>\n      <td>0</td>\n      <td>0</td>\n      <td>0</td>\n      <td>0</td>\n      <td>0</td>\n      <td>0</td>\n      <td>0</td>\n      <td>0</td>\n      <td>0</td>\n      <td>0</td>\n      <td>0</td>\n      <td>0</td>\n      <td>0</td>\n      <td>0</td>\n      <td>0</td>\n      <td>0</td>\n      <td>0</td>\n      <td>0</td>\n      <td>0</td>\n      <td>0</td>\n      <td>0</td>\n      <td>0</td>\n      <td>0</td>\n      <td>0</td>\n      <td>0</td>\n      <td>0</td>\n      <td>0</td>\n      <td>0</td>\n      <td>0</td>\n      <td>0</td>\n      <td>0</td>\n      <td>0</td>\n      <td>0</td>\n      <td>0</td>\n      <td>0</td>\n      <td>0</td>\n      <td>0</td>\n      <td>0</td>\n      <td>0</td>\n      <td>0</td>\n      <td>0</td>\n      <td>0</td>\n      <td>0</td>\n      <td>0</td>\n      <td>0</td>\n      <td>0</td>\n      <td>0</td>\n      <td>0</td>\n      <td>0</td>\n      <td>0</td>\n      <td>0</td>\n      <td>0</td>\n      <td>0</td>\n      <td>0</td>\n      <td>0</td>\n      <td>0</td>\n      <td>0</td>\n      <td>0</td>\n      <td>0</td>\n      <td>0</td>\n      <td>0</td>\n      <td>0</td>\n      <td>0</td>\n      <td>0</td>\n      <td>0</td>\n      <td>0</td>\n      <td>0</td>\n      <td>0</td>\n      <td>0</td>\n      <td>0</td>\n      <td>0</td>\n      <td>0</td>\n      <td>0</td>\n      <td>0</td>\n      <td>0</td>\n      <td>0</td>\n      <td>0</td>\n      <td>0</td>\n      <td>0</td>\n      <td>0</td>\n      <td>0</td>\n      <td>0</td>\n      <td>0</td>\n      <td>0</td>\n      <td>0</td>\n      <td>0</td>\n      <td>0</td>\n      <td>0</td>\n      <td>0</td>\n      <td>0</td>\n      <td>0</td>\n      <td>0</td>\n      <td>0</td>\n      <td>0</td>\n      <td>0</td>\n      <td>0</td>\n      <td>0</td>\n      <td>0</td>\n      <td>0</td>\n      <td>0</td>\n      <td>0</td>\n      <td>0</td>\n      <td>0</td>\n      <td>0</td>\n      <td>0</td>\n      <td>0</td>\n      <td>0</td>\n      <td>0</td>\n      <td>0</td>\n      <td>0</td>\n      <td>0</td>\n      <td>0</td>\n      <td>0</td>\n      <td>0</td>\n      <td>1</td>\n      <td>0</td>\n      <td>0</td>\n      <td>0</td>\n      <td>0</td>\n      <td>0</td>\n      <td>0</td>\n      <td>0</td>\n      <td>0</td>\n      <td>0</td>\n      <td>0</td>\n      <td>0</td>\n      <td>0</td>\n      <td>0</td>\n      <td>0</td>\n      <td>0</td>\n      <td>0</td>\n      <td>0</td>\n      <td>0</td>\n      <td>0</td>\n      <td>0</td>\n      <td>0</td>\n      <td>0</td>\n      <td>0</td>\n      <td>0</td>\n      <td>0</td>\n      <td>0</td>\n      <td>0</td>\n      <td>0</td>\n      <td>0</td>\n      <td>0</td>\n      <td>0</td>\n      <td>0</td>\n      <td>0</td>\n      <td>0</td>\n      <td>0</td>\n      <td>0</td>\n      <td>0</td>\n      <td>0</td>\n      <td>0</td>\n      <td>0</td>\n      <td>0</td>\n      <td>0</td>\n      <td>0</td>\n      <td>0</td>\n      <td>0</td>\n      <td>0</td>\n      <td>0</td>\n      <td>0</td>\n      <td>0</td>\n      <td>0</td>\n      <td>0</td>\n      <td>0</td>\n      <td>0</td>\n      <td>0</td>\n      <td>0</td>\n      <td>0</td>\n      <td>0</td>\n      <td>0</td>\n      <td>0</td>\n      <td>0</td>\n      <td>0</td>\n      <td>0</td>\n      <td>0</td>\n      <td>0</td>\n      <td>0</td>\n      <td>0</td>\n      <td>0</td>\n      <td>0</td>\n      <td>0</td>\n      <td>0</td>\n      <td>0</td>\n      <td>0</td>\n      <td>0</td>\n      <td>0</td>\n      <td>0</td>\n      <td>0</td>\n      <td>0</td>\n      <td>0</td>\n      <td>0</td>\n      <td>0</td>\n      <td>0</td>\n      <td>0</td>\n      <td>0</td>\n      <td>0</td>\n      <td>0</td>\n      <td>0</td>\n      <td>0</td>\n      <td>0</td>\n      <td>0</td>\n      <td>0</td>\n      <td>0</td>\n      <td>0</td>\n      <td>0</td>\n      <td>0</td>\n      <td>0</td>\n      <td>0</td>\n      <td>0</td>\n      <td>0</td>\n      <td>0</td>\n      <td>0</td>\n      <td>0</td>\n      <td>0</td>\n      <td>0</td>\n      <td>0</td>\n      <td>0</td>\n      <td>0</td>\n      <td>0</td>\n      <td>0</td>\n      <td>0</td>\n      <td>0</td>\n      <td>0</td>\n      <td>0</td>\n      <td>0</td>\n      <td>0</td>\n      <td>0</td>\n      <td>0</td>\n    </tr>\n    <tr>\n      <th>1</th>\n      <td>-0.880280</td>\n      <td>19</td>\n      <td>0</td>\n      <td>6</td>\n      <td>-0.020764</td>\n      <td>0.523052</td>\n      <td>0</td>\n      <td>0</td>\n      <td>0</td>\n      <td>0</td>\n      <td>0</td>\n      <td>0</td>\n      <td>0</td>\n      <td>0</td>\n      <td>0</td>\n      <td>0</td>\n      <td>0</td>\n      <td>0</td>\n      <td>0</td>\n      <td>0</td>\n      <td>0</td>\n      <td>0</td>\n      <td>0</td>\n      <td>0</td>\n      <td>0</td>\n      <td>0</td>\n      <td>0</td>\n      <td>0</td>\n      <td>0</td>\n      <td>0</td>\n      <td>0</td>\n      <td>0</td>\n      <td>0</td>\n      <td>0</td>\n      <td>0</td>\n      <td>0</td>\n      <td>0</td>\n      <td>0</td>\n      <td>0</td>\n      <td>0</td>\n      <td>0</td>\n      <td>0</td>\n      <td>0</td>\n      <td>0</td>\n      <td>0</td>\n      <td>0</td>\n      <td>0</td>\n      <td>0</td>\n      <td>0</td>\n      <td>0</td>\n      <td>0</td>\n      <td>0</td>\n      <td>0</td>\n      <td>0</td>\n      <td>0</td>\n      <td>0</td>\n      <td>0</td>\n      <td>0</td>\n      <td>1</td>\n      <td>0</td>\n      <td>0</td>\n      <td>0</td>\n      <td>0</td>\n      <td>0</td>\n      <td>0</td>\n      <td>0</td>\n      <td>0</td>\n      <td>0</td>\n      <td>0</td>\n      <td>0</td>\n      <td>0</td>\n      <td>0</td>\n      <td>0</td>\n      <td>0</td>\n      <td>0</td>\n      <td>0</td>\n      <td>0</td>\n      <td>0</td>\n      <td>0</td>\n      <td>0</td>\n      <td>0</td>\n      <td>0</td>\n      <td>0</td>\n      <td>0</td>\n      <td>0</td>\n      <td>0</td>\n      <td>0</td>\n      <td>0</td>\n      <td>0</td>\n      <td>0</td>\n      <td>0</td>\n      <td>0</td>\n      <td>0</td>\n      <td>0</td>\n      <td>0</td>\n      <td>0</td>\n      <td>0</td>\n      <td>0</td>\n      <td>0</td>\n      <td>0</td>\n      <td>0</td>\n      <td>0</td>\n      <td>0</td>\n      <td>0</td>\n      <td>0</td>\n      <td>0</td>\n      <td>0</td>\n      <td>0</td>\n      <td>0</td>\n      <td>0</td>\n      <td>0</td>\n      <td>0</td>\n      <td>0</td>\n      <td>0</td>\n      <td>0</td>\n      <td>0</td>\n      <td>0</td>\n      <td>0</td>\n      <td>0</td>\n      <td>0</td>\n      <td>0</td>\n      <td>0</td>\n      <td>0</td>\n      <td>0</td>\n      <td>0</td>\n      <td>0</td>\n      <td>0</td>\n      <td>0</td>\n      <td>0</td>\n      <td>0</td>\n      <td>0</td>\n      <td>0</td>\n      <td>0</td>\n      <td>0</td>\n      <td>0</td>\n      <td>0</td>\n      <td>0</td>\n      <td>0</td>\n      <td>0</td>\n      <td>0</td>\n      <td>0</td>\n      <td>0</td>\n      <td>0</td>\n      <td>0</td>\n      <td>0</td>\n      <td>0</td>\n      <td>0</td>\n      <td>0</td>\n      <td>0</td>\n      <td>0</td>\n      <td>0</td>\n      <td>0</td>\n      <td>0</td>\n      <td>0</td>\n      <td>0</td>\n      <td>0</td>\n      <td>0</td>\n      <td>0</td>\n      <td>0</td>\n      <td>0</td>\n      <td>0</td>\n      <td>0</td>\n      <td>0</td>\n      <td>0</td>\n      <td>0</td>\n      <td>0</td>\n      <td>0</td>\n      <td>0</td>\n      <td>0</td>\n      <td>0</td>\n      <td>0</td>\n      <td>0</td>\n      <td>0</td>\n      <td>0</td>\n      <td>0</td>\n      <td>0</td>\n      <td>0</td>\n      <td>0</td>\n      <td>0</td>\n      <td>0</td>\n      <td>0</td>\n      <td>0</td>\n      <td>0</td>\n      <td>0</td>\n      <td>0</td>\n      <td>0</td>\n      <td>0</td>\n      <td>0</td>\n      <td>0</td>\n      <td>0</td>\n      <td>0</td>\n      <td>0</td>\n      <td>0</td>\n      <td>0</td>\n      <td>0</td>\n      <td>0</td>\n      <td>0</td>\n      <td>0</td>\n      <td>0</td>\n      <td>0</td>\n      <td>0</td>\n      <td>0</td>\n      <td>0</td>\n      <td>0</td>\n      <td>0</td>\n      <td>0</td>\n      <td>0</td>\n      <td>0</td>\n      <td>0</td>\n      <td>0</td>\n      <td>0</td>\n      <td>0</td>\n      <td>0</td>\n      <td>0</td>\n      <td>0</td>\n      <td>0</td>\n      <td>0</td>\n      <td>0</td>\n      <td>0</td>\n      <td>0</td>\n      <td>0</td>\n      <td>0</td>\n      <td>0</td>\n      <td>0</td>\n      <td>0</td>\n      <td>0</td>\n      <td>0</td>\n      <td>0</td>\n      <td>0</td>\n      <td>0</td>\n      <td>0</td>\n      <td>0</td>\n      <td>0</td>\n      <td>0</td>\n      <td>0</td>\n      <td>0</td>\n      <td>0</td>\n      <td>0</td>\n      <td>0</td>\n      <td>0</td>\n      <td>0</td>\n      <td>0</td>\n      <td>0</td>\n      <td>0</td>\n      <td>0</td>\n      <td>0</td>\n      <td>0</td>\n      <td>0</td>\n      <td>0</td>\n      <td>0</td>\n      <td>0</td>\n      <td>0</td>\n      <td>0</td>\n      <td>0</td>\n      <td>0</td>\n      <td>0</td>\n      <td>0</td>\n      <td>0</td>\n      <td>0</td>\n      <td>0</td>\n      <td>0</td>\n      <td>0</td>\n      <td>0</td>\n      <td>0</td>\n      <td>0</td>\n      <td>0</td>\n      <td>0</td>\n      <td>0</td>\n      <td>0</td>\n      <td>0</td>\n      <td>0</td>\n      <td>0</td>\n      <td>0</td>\n      <td>0</td>\n      <td>0</td>\n      <td>0</td>\n      <td>0</td>\n      <td>0</td>\n      <td>0</td>\n      <td>0</td>\n      <td>0</td>\n      <td>0</td>\n      <td>0</td>\n      <td>0</td>\n      <td>0</td>\n      <td>0</td>\n      <td>0</td>\n      <td>0</td>\n      <td>0</td>\n      <td>0</td>\n      <td>0</td>\n      <td>0</td>\n      <td>0</td>\n      <td>0</td>\n      <td>0</td>\n      <td>0</td>\n      <td>0</td>\n      <td>0</td>\n      <td>0</td>\n      <td>0</td>\n      <td>0</td>\n      <td>0</td>\n      <td>0</td>\n      <td>0</td>\n      <td>0</td>\n      <td>0</td>\n      <td>0</td>\n      <td>0</td>\n      <td>0</td>\n      <td>0</td>\n      <td>0</td>\n      <td>0</td>\n      <td>0</td>\n      <td>0</td>\n      <td>0</td>\n      <td>0</td>\n      <td>0</td>\n      <td>0</td>\n      <td>0</td>\n      <td>0</td>\n      <td>0</td>\n      <td>0</td>\n      <td>0</td>\n      <td>0</td>\n      <td>0</td>\n      <td>0</td>\n      <td>0</td>\n      <td>0</td>\n      <td>0</td>\n      <td>0</td>\n      <td>0</td>\n      <td>0</td>\n      <td>0</td>\n      <td>0</td>\n      <td>0</td>\n      <td>0</td>\n      <td>0</td>\n      <td>0</td>\n      <td>0</td>\n      <td>0</td>\n      <td>0</td>\n      <td>0</td>\n      <td>0</td>\n      <td>0</td>\n      <td>0</td>\n      <td>0</td>\n      <td>0</td>\n      <td>0</td>\n      <td>0</td>\n      <td>0</td>\n      <td>0</td>\n      <td>0</td>\n      <td>0</td>\n      <td>0</td>\n      <td>0</td>\n      <td>0</td>\n      <td>0</td>\n      <td>0</td>\n      <td>0</td>\n      <td>0</td>\n      <td>0</td>\n      <td>0</td>\n      <td>0</td>\n      <td>0</td>\n      <td>0</td>\n      <td>0</td>\n      <td>0</td>\n      <td>0</td>\n      <td>0</td>\n      <td>0</td>\n      <td>0</td>\n      <td>0</td>\n      <td>0</td>\n      <td>0</td>\n      <td>0</td>\n      <td>0</td>\n      <td>0</td>\n      <td>0</td>\n      <td>0</td>\n    </tr>\n    <tr>\n      <th>2</th>\n      <td>-0.944192</td>\n      <td>19</td>\n      <td>0</td>\n      <td>6</td>\n      <td>-0.027965</td>\n      <td>0.520333</td>\n      <td>0</td>\n      <td>0</td>\n      <td>0</td>\n      <td>0</td>\n      <td>0</td>\n      <td>0</td>\n      <td>0</td>\n      <td>0</td>\n      <td>0</td>\n      <td>0</td>\n      <td>0</td>\n      <td>0</td>\n      <td>0</td>\n      <td>0</td>\n      <td>0</td>\n      <td>0</td>\n      <td>0</td>\n      <td>0</td>\n      <td>0</td>\n      <td>0</td>\n      <td>0</td>\n      <td>0</td>\n      <td>0</td>\n      <td>0</td>\n      <td>0</td>\n      <td>0</td>\n      <td>0</td>\n      <td>0</td>\n      <td>0</td>\n      <td>0</td>\n      <td>0</td>\n      <td>0</td>\n      <td>0</td>\n      <td>0</td>\n      <td>0</td>\n      <td>0</td>\n      <td>0</td>\n      <td>0</td>\n      <td>0</td>\n      <td>0</td>\n      <td>0</td>\n      <td>0</td>\n      <td>0</td>\n      <td>0</td>\n      <td>0</td>\n      <td>0</td>\n      <td>0</td>\n      <td>0</td>\n      <td>0</td>\n      <td>0</td>\n      <td>0</td>\n      <td>0</td>\n      <td>0</td>\n      <td>0</td>\n      <td>0</td>\n      <td>0</td>\n      <td>0</td>\n      <td>0</td>\n      <td>0</td>\n      <td>0</td>\n      <td>0</td>\n      <td>0</td>\n      <td>0</td>\n      <td>0</td>\n      <td>0</td>\n      <td>0</td>\n      <td>0</td>\n      <td>0</td>\n      <td>0</td>\n      <td>0</td>\n      <td>0</td>\n      <td>0</td>\n      <td>0</td>\n      <td>0</td>\n      <td>0</td>\n      <td>0</td>\n      <td>0</td>\n      <td>0</td>\n      <td>0</td>\n      <td>0</td>\n      <td>0</td>\n      <td>0</td>\n      <td>0</td>\n      <td>0</td>\n      <td>0</td>\n      <td>0</td>\n      <td>0</td>\n      <td>0</td>\n      <td>0</td>\n      <td>0</td>\n      <td>0</td>\n      <td>0</td>\n      <td>0</td>\n      <td>0</td>\n      <td>0</td>\n      <td>0</td>\n      <td>0</td>\n      <td>0</td>\n      <td>0</td>\n      <td>0</td>\n      <td>0</td>\n      <td>0</td>\n      <td>0</td>\n      <td>0</td>\n      <td>0</td>\n      <td>0</td>\n      <td>0</td>\n      <td>0</td>\n      <td>0</td>\n      <td>0</td>\n      <td>0</td>\n      <td>0</td>\n      <td>0</td>\n      <td>0</td>\n      <td>0</td>\n      <td>0</td>\n      <td>0</td>\n      <td>0</td>\n      <td>0</td>\n      <td>0</td>\n      <td>0</td>\n      <td>0</td>\n      <td>0</td>\n      <td>0</td>\n      <td>0</td>\n      <td>0</td>\n      <td>0</td>\n      <td>0</td>\n      <td>0</td>\n      <td>0</td>\n      <td>0</td>\n      <td>0</td>\n      <td>0</td>\n      <td>0</td>\n      <td>0</td>\n      <td>0</td>\n      <td>0</td>\n      <td>0</td>\n      <td>0</td>\n      <td>0</td>\n      <td>0</td>\n      <td>0</td>\n      <td>0</td>\n      <td>0</td>\n      <td>0</td>\n      <td>0</td>\n      <td>0</td>\n      <td>0</td>\n      <td>0</td>\n      <td>0</td>\n      <td>0</td>\n      <td>0</td>\n      <td>0</td>\n      <td>0</td>\n      <td>1</td>\n      <td>0</td>\n      <td>0</td>\n      <td>0</td>\n      <td>0</td>\n      <td>0</td>\n      <td>0</td>\n      <td>0</td>\n      <td>0</td>\n      <td>0</td>\n      <td>0</td>\n      <td>0</td>\n      <td>0</td>\n      <td>0</td>\n      <td>0</td>\n      <td>0</td>\n      <td>0</td>\n      <td>0</td>\n      <td>0</td>\n      <td>0</td>\n      <td>0</td>\n      <td>0</td>\n      <td>0</td>\n      <td>0</td>\n      <td>0</td>\n      <td>0</td>\n      <td>0</td>\n      <td>0</td>\n      <td>0</td>\n      <td>0</td>\n      <td>0</td>\n      <td>0</td>\n      <td>0</td>\n      <td>0</td>\n      <td>0</td>\n      <td>0</td>\n      <td>0</td>\n      <td>0</td>\n      <td>0</td>\n      <td>0</td>\n      <td>0</td>\n      <td>0</td>\n      <td>0</td>\n      <td>0</td>\n      <td>0</td>\n      <td>0</td>\n      <td>0</td>\n      <td>0</td>\n      <td>0</td>\n      <td>0</td>\n      <td>0</td>\n      <td>0</td>\n      <td>0</td>\n      <td>0</td>\n      <td>0</td>\n      <td>0</td>\n      <td>0</td>\n      <td>0</td>\n      <td>0</td>\n      <td>0</td>\n      <td>0</td>\n      <td>0</td>\n      <td>0</td>\n      <td>0</td>\n      <td>0</td>\n      <td>0</td>\n      <td>0</td>\n      <td>0</td>\n      <td>0</td>\n      <td>0</td>\n      <td>0</td>\n      <td>0</td>\n      <td>0</td>\n      <td>0</td>\n      <td>0</td>\n      <td>0</td>\n      <td>0</td>\n      <td>0</td>\n      <td>0</td>\n      <td>0</td>\n      <td>0</td>\n      <td>0</td>\n      <td>0</td>\n      <td>0</td>\n      <td>0</td>\n      <td>0</td>\n      <td>0</td>\n      <td>0</td>\n      <td>0</td>\n      <td>0</td>\n      <td>0</td>\n      <td>0</td>\n      <td>0</td>\n      <td>0</td>\n      <td>0</td>\n      <td>0</td>\n      <td>0</td>\n      <td>0</td>\n      <td>0</td>\n      <td>0</td>\n      <td>0</td>\n      <td>0</td>\n      <td>0</td>\n      <td>0</td>\n      <td>0</td>\n      <td>0</td>\n      <td>0</td>\n      <td>0</td>\n      <td>0</td>\n      <td>0</td>\n      <td>0</td>\n      <td>0</td>\n      <td>0</td>\n      <td>0</td>\n      <td>0</td>\n      <td>0</td>\n      <td>0</td>\n      <td>0</td>\n      <td>0</td>\n      <td>0</td>\n      <td>0</td>\n      <td>0</td>\n      <td>0</td>\n      <td>0</td>\n      <td>0</td>\n      <td>0</td>\n      <td>0</td>\n      <td>0</td>\n      <td>0</td>\n      <td>0</td>\n      <td>0</td>\n      <td>0</td>\n      <td>0</td>\n      <td>0</td>\n      <td>0</td>\n      <td>0</td>\n      <td>0</td>\n      <td>0</td>\n      <td>0</td>\n      <td>0</td>\n      <td>0</td>\n      <td>0</td>\n      <td>0</td>\n      <td>0</td>\n      <td>0</td>\n      <td>0</td>\n      <td>0</td>\n      <td>0</td>\n      <td>0</td>\n      <td>0</td>\n      <td>0</td>\n      <td>0</td>\n      <td>0</td>\n      <td>0</td>\n      <td>0</td>\n      <td>0</td>\n      <td>0</td>\n      <td>0</td>\n      <td>0</td>\n      <td>0</td>\n      <td>0</td>\n      <td>0</td>\n      <td>0</td>\n      <td>0</td>\n      <td>0</td>\n      <td>0</td>\n      <td>0</td>\n      <td>0</td>\n      <td>0</td>\n      <td>0</td>\n      <td>0</td>\n      <td>0</td>\n      <td>0</td>\n      <td>0</td>\n      <td>0</td>\n      <td>0</td>\n      <td>0</td>\n      <td>0</td>\n      <td>0</td>\n      <td>0</td>\n      <td>0</td>\n      <td>0</td>\n      <td>0</td>\n      <td>0</td>\n      <td>0</td>\n      <td>0</td>\n      <td>0</td>\n      <td>0</td>\n      <td>0</td>\n      <td>0</td>\n      <td>0</td>\n      <td>0</td>\n      <td>0</td>\n      <td>0</td>\n      <td>0</td>\n      <td>0</td>\n      <td>0</td>\n      <td>0</td>\n      <td>0</td>\n      <td>0</td>\n      <td>0</td>\n      <td>0</td>\n      <td>0</td>\n      <td>0</td>\n      <td>0</td>\n      <td>0</td>\n      <td>0</td>\n      <td>0</td>\n      <td>0</td>\n      <td>0</td>\n      <td>0</td>\n      <td>0</td>\n      <td>0</td>\n      <td>0</td>\n      <td>0</td>\n      <td>0</td>\n      <td>0</td>\n      <td>0</td>\n      <td>0</td>\n    </tr>\n    <tr>\n      <th>3</th>\n      <td>-0.944394</td>\n      <td>19</td>\n      <td>0</td>\n      <td>6</td>\n      <td>-0.019433</td>\n      <td>0.522922</td>\n      <td>0</td>\n      <td>0</td>\n      <td>0</td>\n      <td>0</td>\n      <td>0</td>\n      <td>0</td>\n      <td>0</td>\n      <td>0</td>\n      <td>0</td>\n      <td>0</td>\n      <td>0</td>\n      <td>0</td>\n      <td>0</td>\n      <td>0</td>\n      <td>0</td>\n      <td>0</td>\n      <td>0</td>\n      <td>0</td>\n      <td>0</td>\n      <td>0</td>\n      <td>0</td>\n      <td>0</td>\n      <td>0</td>\n      <td>0</td>\n      <td>0</td>\n      <td>0</td>\n      <td>0</td>\n      <td>0</td>\n      <td>0</td>\n      <td>0</td>\n      <td>0</td>\n      <td>0</td>\n      <td>0</td>\n      <td>0</td>\n      <td>0</td>\n      <td>0</td>\n      <td>0</td>\n      <td>0</td>\n      <td>0</td>\n      <td>0</td>\n      <td>0</td>\n      <td>0</td>\n      <td>0</td>\n      <td>0</td>\n      <td>0</td>\n      <td>0</td>\n      <td>0</td>\n      <td>0</td>\n      <td>0</td>\n      <td>0</td>\n      <td>0</td>\n      <td>0</td>\n      <td>0</td>\n      <td>0</td>\n      <td>0</td>\n      <td>0</td>\n      <td>0</td>\n      <td>0</td>\n      <td>0</td>\n      <td>0</td>\n      <td>0</td>\n      <td>0</td>\n      <td>0</td>\n      <td>0</td>\n      <td>0</td>\n      <td>0</td>\n      <td>0</td>\n      <td>0</td>\n      <td>0</td>\n      <td>0</td>\n      <td>0</td>\n      <td>0</td>\n      <td>0</td>\n      <td>0</td>\n      <td>0</td>\n      <td>0</td>\n      <td>0</td>\n      <td>0</td>\n      <td>0</td>\n      <td>0</td>\n      <td>0</td>\n      <td>0</td>\n      <td>0</td>\n      <td>0</td>\n      <td>0</td>\n      <td>0</td>\n      <td>0</td>\n      <td>0</td>\n      <td>0</td>\n      <td>0</td>\n      <td>0</td>\n      <td>0</td>\n      <td>0</td>\n      <td>0</td>\n      <td>0</td>\n      <td>0</td>\n      <td>0</td>\n      <td>0</td>\n      <td>0</td>\n      <td>0</td>\n      <td>0</td>\n      <td>0</td>\n      <td>0</td>\n      <td>0</td>\n      <td>0</td>\n      <td>0</td>\n      <td>0</td>\n      <td>0</td>\n      <td>0</td>\n      <td>0</td>\n      <td>0</td>\n      <td>0</td>\n      <td>0</td>\n      <td>0</td>\n      <td>0</td>\n      <td>0</td>\n      <td>0</td>\n      <td>0</td>\n      <td>0</td>\n      <td>0</td>\n      <td>0</td>\n      <td>0</td>\n      <td>0</td>\n      <td>0</td>\n      <td>0</td>\n      <td>0</td>\n      <td>0</td>\n      <td>0</td>\n      <td>0</td>\n      <td>0</td>\n      <td>0</td>\n      <td>0</td>\n      <td>0</td>\n      <td>0</td>\n      <td>0</td>\n      <td>0</td>\n      <td>0</td>\n      <td>0</td>\n      <td>0</td>\n      <td>0</td>\n      <td>0</td>\n      <td>0</td>\n      <td>0</td>\n      <td>0</td>\n      <td>0</td>\n      <td>0</td>\n      <td>0</td>\n      <td>0</td>\n      <td>0</td>\n      <td>0</td>\n      <td>0</td>\n      <td>0</td>\n      <td>0</td>\n      <td>0</td>\n      <td>0</td>\n      <td>0</td>\n      <td>0</td>\n      <td>0</td>\n      <td>0</td>\n      <td>0</td>\n      <td>0</td>\n      <td>0</td>\n      <td>0</td>\n      <td>0</td>\n      <td>0</td>\n      <td>0</td>\n      <td>0</td>\n      <td>0</td>\n      <td>0</td>\n      <td>0</td>\n      <td>0</td>\n      <td>0</td>\n      <td>0</td>\n      <td>0</td>\n      <td>0</td>\n      <td>0</td>\n      <td>0</td>\n      <td>0</td>\n      <td>0</td>\n      <td>0</td>\n      <td>0</td>\n      <td>0</td>\n      <td>0</td>\n      <td>0</td>\n      <td>0</td>\n      <td>0</td>\n      <td>0</td>\n      <td>0</td>\n      <td>0</td>\n      <td>0</td>\n      <td>0</td>\n      <td>0</td>\n      <td>0</td>\n      <td>0</td>\n      <td>0</td>\n      <td>0</td>\n      <td>0</td>\n      <td>0</td>\n      <td>0</td>\n      <td>0</td>\n      <td>0</td>\n      <td>0</td>\n      <td>0</td>\n      <td>0</td>\n      <td>0</td>\n      <td>0</td>\n      <td>0</td>\n      <td>0</td>\n      <td>0</td>\n      <td>0</td>\n      <td>0</td>\n      <td>0</td>\n      <td>0</td>\n      <td>0</td>\n      <td>0</td>\n      <td>0</td>\n      <td>0</td>\n      <td>0</td>\n      <td>0</td>\n      <td>0</td>\n      <td>0</td>\n      <td>0</td>\n      <td>0</td>\n      <td>0</td>\n      <td>0</td>\n      <td>0</td>\n      <td>0</td>\n      <td>0</td>\n      <td>0</td>\n      <td>0</td>\n      <td>0</td>\n      <td>0</td>\n      <td>0</td>\n      <td>0</td>\n      <td>0</td>\n      <td>0</td>\n      <td>0</td>\n      <td>0</td>\n      <td>0</td>\n      <td>0</td>\n      <td>0</td>\n      <td>0</td>\n      <td>0</td>\n      <td>0</td>\n      <td>0</td>\n      <td>0</td>\n      <td>0</td>\n      <td>0</td>\n      <td>0</td>\n      <td>0</td>\n      <td>0</td>\n      <td>0</td>\n      <td>0</td>\n      <td>0</td>\n      <td>0</td>\n      <td>0</td>\n      <td>1</td>\n      <td>0</td>\n      <td>0</td>\n      <td>0</td>\n      <td>0</td>\n      <td>0</td>\n      <td>0</td>\n      <td>0</td>\n      <td>0</td>\n      <td>0</td>\n      <td>0</td>\n      <td>0</td>\n      <td>0</td>\n      <td>0</td>\n      <td>0</td>\n      <td>0</td>\n      <td>0</td>\n      <td>0</td>\n      <td>0</td>\n      <td>0</td>\n      <td>0</td>\n      <td>0</td>\n      <td>0</td>\n      <td>0</td>\n      <td>0</td>\n      <td>0</td>\n      <td>0</td>\n      <td>0</td>\n      <td>0</td>\n      <td>0</td>\n      <td>0</td>\n      <td>0</td>\n      <td>0</td>\n      <td>0</td>\n      <td>0</td>\n      <td>0</td>\n      <td>0</td>\n      <td>0</td>\n      <td>0</td>\n      <td>0</td>\n      <td>0</td>\n      <td>0</td>\n      <td>0</td>\n      <td>0</td>\n      <td>0</td>\n      <td>0</td>\n      <td>0</td>\n      <td>0</td>\n      <td>0</td>\n      <td>0</td>\n      <td>0</td>\n      <td>0</td>\n      <td>0</td>\n      <td>0</td>\n      <td>0</td>\n      <td>0</td>\n      <td>0</td>\n      <td>0</td>\n      <td>0</td>\n      <td>0</td>\n      <td>0</td>\n      <td>0</td>\n      <td>0</td>\n      <td>0</td>\n      <td>0</td>\n      <td>0</td>\n      <td>0</td>\n      <td>0</td>\n      <td>0</td>\n      <td>0</td>\n      <td>0</td>\n      <td>0</td>\n      <td>0</td>\n      <td>0</td>\n      <td>0</td>\n      <td>0</td>\n      <td>0</td>\n      <td>0</td>\n      <td>0</td>\n      <td>0</td>\n      <td>0</td>\n      <td>0</td>\n      <td>0</td>\n      <td>0</td>\n      <td>0</td>\n      <td>0</td>\n      <td>0</td>\n      <td>0</td>\n      <td>0</td>\n      <td>0</td>\n      <td>0</td>\n      <td>0</td>\n      <td>0</td>\n      <td>0</td>\n      <td>0</td>\n      <td>0</td>\n      <td>0</td>\n      <td>0</td>\n      <td>0</td>\n      <td>0</td>\n      <td>0</td>\n      <td>0</td>\n      <td>0</td>\n      <td>0</td>\n      <td>0</td>\n      <td>0</td>\n      <td>0</td>\n      <td>0</td>\n      <td>0</td>\n      <td>0</td>\n      <td>0</td>\n      <td>0</td>\n      <td>0</td>\n      <td>0</td>\n      <td>0</td>\n      <td>0</td>\n      <td>0</td>\n    </tr>\n    <tr>\n      <th>4</th>\n      <td>-0.930482</td>\n      <td>19</td>\n      <td>0</td>\n      <td>6</td>\n      <td>-0.019581</td>\n      <td>0.522581</td>\n      <td>0</td>\n      <td>0</td>\n      <td>0</td>\n      <td>0</td>\n      <td>0</td>\n      <td>0</td>\n      <td>0</td>\n      <td>0</td>\n      <td>0</td>\n      <td>0</td>\n      <td>0</td>\n      <td>0</td>\n      <td>0</td>\n      <td>0</td>\n      <td>0</td>\n      <td>0</td>\n      <td>0</td>\n      <td>0</td>\n      <td>0</td>\n      <td>0</td>\n      <td>0</td>\n      <td>0</td>\n      <td>0</td>\n      <td>0</td>\n      <td>0</td>\n      <td>0</td>\n      <td>0</td>\n      <td>0</td>\n      <td>0</td>\n      <td>0</td>\n      <td>0</td>\n      <td>0</td>\n      <td>0</td>\n      <td>0</td>\n      <td>0</td>\n      <td>0</td>\n      <td>0</td>\n      <td>0</td>\n      <td>0</td>\n      <td>0</td>\n      <td>0</td>\n      <td>0</td>\n      <td>0</td>\n      <td>0</td>\n      <td>0</td>\n      <td>0</td>\n      <td>0</td>\n      <td>0</td>\n      <td>0</td>\n      <td>0</td>\n      <td>0</td>\n      <td>0</td>\n      <td>0</td>\n      <td>0</td>\n      <td>0</td>\n      <td>0</td>\n      <td>0</td>\n      <td>0</td>\n      <td>0</td>\n      <td>0</td>\n      <td>0</td>\n      <td>0</td>\n      <td>0</td>\n      <td>0</td>\n      <td>0</td>\n      <td>0</td>\n      <td>0</td>\n      <td>0</td>\n      <td>0</td>\n      <td>0</td>\n      <td>0</td>\n      <td>0</td>\n      <td>0</td>\n      <td>0</td>\n      <td>0</td>\n      <td>0</td>\n      <td>0</td>\n      <td>0</td>\n      <td>0</td>\n      <td>0</td>\n      <td>0</td>\n      <td>0</td>\n      <td>0</td>\n      <td>0</td>\n      <td>0</td>\n      <td>0</td>\n      <td>0</td>\n      <td>0</td>\n      <td>0</td>\n      <td>0</td>\n      <td>0</td>\n      <td>0</td>\n      <td>0</td>\n      <td>0</td>\n      <td>0</td>\n      <td>0</td>\n      <td>0</td>\n      <td>0</td>\n      <td>0</td>\n      <td>0</td>\n      <td>0</td>\n      <td>0</td>\n      <td>0</td>\n      <td>0</td>\n      <td>0</td>\n      <td>0</td>\n      <td>0</td>\n      <td>0</td>\n      <td>0</td>\n      <td>0</td>\n      <td>0</td>\n      <td>0</td>\n      <td>0</td>\n      <td>0</td>\n      <td>0</td>\n      <td>0</td>\n      <td>0</td>\n      <td>0</td>\n      <td>0</td>\n      <td>0</td>\n      <td>0</td>\n      <td>0</td>\n      <td>0</td>\n      <td>0</td>\n      <td>0</td>\n      <td>0</td>\n      <td>0</td>\n      <td>0</td>\n      <td>0</td>\n      <td>0</td>\n      <td>0</td>\n      <td>0</td>\n      <td>0</td>\n      <td>0</td>\n      <td>0</td>\n      <td>0</td>\n      <td>0</td>\n      <td>0</td>\n      <td>0</td>\n      <td>0</td>\n      <td>0</td>\n      <td>0</td>\n      <td>0</td>\n      <td>0</td>\n      <td>0</td>\n      <td>0</td>\n      <td>0</td>\n      <td>0</td>\n      <td>0</td>\n      <td>0</td>\n      <td>0</td>\n      <td>0</td>\n      <td>0</td>\n      <td>0</td>\n      <td>0</td>\n      <td>0</td>\n      <td>0</td>\n      <td>0</td>\n      <td>0</td>\n      <td>0</td>\n      <td>0</td>\n      <td>0</td>\n      <td>0</td>\n      <td>0</td>\n      <td>0</td>\n      <td>0</td>\n      <td>0</td>\n      <td>0</td>\n      <td>0</td>\n      <td>0</td>\n      <td>0</td>\n      <td>0</td>\n      <td>0</td>\n      <td>0</td>\n      <td>0</td>\n      <td>0</td>\n      <td>0</td>\n      <td>0</td>\n      <td>0</td>\n      <td>0</td>\n      <td>0</td>\n      <td>0</td>\n      <td>0</td>\n      <td>0</td>\n      <td>0</td>\n      <td>0</td>\n      <td>0</td>\n      <td>0</td>\n      <td>0</td>\n      <td>0</td>\n      <td>0</td>\n      <td>0</td>\n      <td>0</td>\n      <td>0</td>\n      <td>0</td>\n      <td>0</td>\n      <td>0</td>\n      <td>0</td>\n      <td>0</td>\n      <td>0</td>\n      <td>0</td>\n      <td>0</td>\n      <td>0</td>\n      <td>0</td>\n      <td>0</td>\n      <td>0</td>\n      <td>0</td>\n      <td>0</td>\n      <td>0</td>\n      <td>0</td>\n      <td>0</td>\n      <td>0</td>\n      <td>0</td>\n      <td>0</td>\n      <td>0</td>\n      <td>0</td>\n      <td>0</td>\n      <td>0</td>\n      <td>0</td>\n      <td>0</td>\n      <td>0</td>\n      <td>0</td>\n      <td>0</td>\n      <td>0</td>\n      <td>0</td>\n      <td>0</td>\n      <td>0</td>\n      <td>0</td>\n      <td>0</td>\n      <td>0</td>\n      <td>0</td>\n      <td>0</td>\n      <td>0</td>\n      <td>0</td>\n      <td>0</td>\n      <td>0</td>\n      <td>0</td>\n      <td>0</td>\n      <td>0</td>\n      <td>0</td>\n      <td>0</td>\n      <td>0</td>\n      <td>0</td>\n      <td>0</td>\n      <td>0</td>\n      <td>0</td>\n      <td>0</td>\n      <td>0</td>\n      <td>0</td>\n      <td>0</td>\n      <td>0</td>\n      <td>0</td>\n      <td>0</td>\n      <td>0</td>\n      <td>0</td>\n      <td>0</td>\n      <td>1</td>\n      <td>0</td>\n      <td>0</td>\n      <td>0</td>\n      <td>0</td>\n      <td>0</td>\n      <td>0</td>\n      <td>0</td>\n      <td>0</td>\n      <td>0</td>\n      <td>0</td>\n      <td>0</td>\n      <td>0</td>\n      <td>0</td>\n      <td>0</td>\n      <td>0</td>\n      <td>0</td>\n      <td>0</td>\n      <td>0</td>\n      <td>0</td>\n      <td>0</td>\n      <td>0</td>\n      <td>0</td>\n      <td>0</td>\n      <td>0</td>\n      <td>0</td>\n      <td>0</td>\n      <td>0</td>\n      <td>0</td>\n      <td>0</td>\n      <td>0</td>\n      <td>0</td>\n      <td>0</td>\n      <td>0</td>\n      <td>0</td>\n      <td>0</td>\n      <td>0</td>\n      <td>0</td>\n      <td>0</td>\n      <td>0</td>\n      <td>0</td>\n      <td>0</td>\n      <td>0</td>\n      <td>0</td>\n      <td>0</td>\n      <td>0</td>\n      <td>0</td>\n      <td>0</td>\n      <td>0</td>\n      <td>0</td>\n      <td>0</td>\n      <td>0</td>\n      <td>0</td>\n      <td>0</td>\n      <td>0</td>\n      <td>0</td>\n      <td>0</td>\n      <td>0</td>\n      <td>0</td>\n      <td>0</td>\n      <td>0</td>\n      <td>0</td>\n      <td>0</td>\n      <td>0</td>\n      <td>0</td>\n      <td>0</td>\n      <td>0</td>\n      <td>0</td>\n      <td>0</td>\n      <td>0</td>\n      <td>0</td>\n      <td>0</td>\n      <td>0</td>\n      <td>0</td>\n      <td>0</td>\n      <td>0</td>\n      <td>0</td>\n      <td>0</td>\n      <td>0</td>\n      <td>0</td>\n      <td>0</td>\n      <td>0</td>\n      <td>0</td>\n      <td>0</td>\n      <td>0</td>\n      <td>0</td>\n      <td>0</td>\n      <td>0</td>\n      <td>0</td>\n      <td>0</td>\n      <td>0</td>\n      <td>0</td>\n      <td>0</td>\n      <td>0</td>\n      <td>0</td>\n      <td>0</td>\n      <td>0</td>\n      <td>0</td>\n      <td>0</td>\n      <td>0</td>\n      <td>0</td>\n      <td>0</td>\n      <td>0</td>\n      <td>0</td>\n      <td>0</td>\n      <td>0</td>\n      <td>0</td>\n      <td>0</td>\n      <td>0</td>\n      <td>0</td>\n      <td>0</td>\n      <td>0</td>\n      <td>0</td>\n      <td>0</td>\n      <td>0</td>\n      <td>0</td>\n      <td>0</td>\n    </tr>\n  </tbody>\n</table>\n</div>"
     },
     "execution_count": 186,
     "metadata": {},
     "output_type": "execute_result"
    }
   ],
   "source": [
    "data.head()"
   ],
   "metadata": {
    "collapsed": false,
    "pycharm": {
     "name": "#%%\n"
    }
   }
  },
  {
   "cell_type": "code",
   "execution_count": null,
   "outputs": [],
   "source": [
    "# Shuffle order of indexes for training data\n",
    "np.set_printoptions(threshold=0)\n",
    "keys = np.array(range(len(y_train)))\n",
    "np.random.shuffle(keys)\n",
    "X_train = X_train[keys]\n",
    "y_train = y_train[keys]"
   ],
   "metadata": {
    "collapsed": false,
    "pycharm": {
     "name": "#%%\n"
    }
   }
  },
  {
   "cell_type": "code",
   "execution_count": null,
   "outputs": [],
   "source": [
    "import numpy as np\n",
    "\n",
    "class Dense_Layer:\n",
    "    def __init__(self, n_inputs, n_neurons,\n",
    "                 weight_regularizer_l1=0., weight_regularizer_l2=0.,\n",
    "                 bias_regularizer_l1=0., bias_regularizer_l2=0.):\n",
    "\n",
    "        self.weights = 0.1 * np.random.randn(n_inputs, n_neurons)\n",
    "        self.biases = np.zeros((1, n_neurons))\n",
    "\n",
    "        self.weight_regularizer_l1 = weight_regularizer_l1\n",
    "        self.weight_regularizer_l2 = weight_regularizer_l2\n",
    "        self.bias_regularizer_l1 = bias_regularizer_l1\n",
    "        self.bias_regularizer_l2 = bias_regularizer_l2\n",
    "\n",
    "    def forward(self, inputs):\n",
    "        self.output = np.dot(inputs, self.weights) + self.biases\n",
    "        self.inputs = inputs\n",
    "\n",
    "    def backward(self, dvalues):\n",
    "        self.dweights = np.dot(self.inputs.T, dvalues)\n",
    "        self.dbiases = np.sum(dvalues, axis=0, keepdims=True)\n",
    "\n",
    "        if self.weight_regularizer_l1 > 0:\n",
    "            dL1 = np.ones_like(self.weights)\n",
    "            dL1[self.weights < 0] = -1\n",
    "            self.dweights += self.weight_regularizer_l1 * dL1\n",
    "\n",
    "        if self.weight_regularizer_l2 > 0:\n",
    "            self.dweights += 2 * self.weight_regularizer_l2 * self.weights\n",
    "\n",
    "        if self.bias_regularizer_l1 > 0:\n",
    "            dL1 = np.ones_like(self.biases)\n",
    "            dL1[self.biases < 0] = -1\n",
    "            self.dbiases += self.bias_regularizer_l1 * dL1\n",
    "\n",
    "        if self.bias_regularizer_l2 > 0:\n",
    "            self.dbiases += 2 * self.bias_regularizer_l2 * self.biases\n",
    "\n",
    "        self.dinputs = np.dot(dvalues, self.weights.T)\n"
   ],
   "metadata": {
    "collapsed": false,
    "pycharm": {
     "name": "#%%\n"
    }
   }
  },
  {
   "cell_type": "code",
   "execution_count": null,
   "outputs": [],
   "source": [
    "class Dropout_Layer:\n",
    "    def __init__(self, rate):\n",
    "        self.rate = 1 - rate\n",
    "\n",
    "    def forward(self, inputs):\n",
    "        self.inputs = inputs\n",
    "\n",
    "        self.binary_mask = np.random.binomial(1, self.rate, size=inputs.shape) / self.rate\n",
    "        self.output = inputs * self.binary_mask\n",
    "\n",
    "    def backward(self, dvalues):\n",
    "        self.dinputs = dvalues * self.binary_mask"
   ],
   "metadata": {
    "collapsed": false,
    "pycharm": {
     "name": "#%%\n"
    }
   }
  },
  {
   "cell_type": "code",
   "execution_count": null,
   "outputs": [],
   "source": [
    "class Linear_Activation:\n",
    "    def forward(self, inputs):\n",
    "        self.inputs = inputs\n",
    "        self.output = inputs\n",
    "    def backward(self, dvalues):\n",
    "        self.dinputs = dvalues.copy()"
   ],
   "metadata": {
    "collapsed": false,
    "pycharm": {
     "name": "#%%\n"
    }
   }
  },
  {
   "cell_type": "code",
   "execution_count": null,
   "outputs": [],
   "source": [
    "class ReLU_Activation:\n",
    "    def forward(self, inputs):\n",
    "        self.inputs = inputs\n",
    "        self.output = np.maximum(0, inputs)\n",
    "    def backward(self, dvalues):\n",
    "        self.dinputs = dvalues.copy()\n",
    "        self.dinputs[self.inputs <= 0] = 0"
   ],
   "metadata": {
    "collapsed": false,
    "pycharm": {
     "name": "#%%\n"
    }
   }
  },
  {
   "cell_type": "code",
   "execution_count": null,
   "outputs": [],
   "source": [
    "class Loss:\n",
    "    def calculate(self, output, y, layers, include_regularization=False):\n",
    "        sample_losses = self.forward(output, y, layers)\n",
    "        data_loss = np.mean(sample_losses)\n",
    "\n",
    "\n",
    "        self.accumulated_sum += np.sum(sample_losses)\n",
    "        self.accumulated_count += len(sample_losses)\n",
    "\n",
    "        if not include_regularization:\n",
    "            return data_loss\n",
    "\n",
    "        return data_loss, self.regularization_loss(layers)\n",
    "\n",
    "    def calculate_accumulated(self, include_regularization=False):\n",
    "        data_loss = self.accumulated_sum / self.accumulated_count\n",
    "\n",
    "        if not include_regularization:\n",
    "            return data_loss\n",
    "\n",
    "\n",
    "        return data_loss, self.regularization_loss(layers)\n",
    "\n",
    "    def regularization_loss(self, layers_list):\n",
    "\n",
    "        regularization_loss = 0\n",
    "\n",
    "        for layer in layers_list:\n",
    "            if layer.weight_regularizer_l1 > 0:\n",
    "                regularization_loss += layer.weight_regularizer_l1 * np.sum(np.abs(layer.weights))\n",
    "\n",
    "            if layer.weight_regularizer_l2 > 0:\n",
    "                regularization_loss += layer.weight_regularizer_l2 * np.sum(layer.weights * layer.weights)\n",
    "\n",
    "            if layer.bias_regularizer_l1 > 0:\n",
    "                regularization_loss += layer.bias_regularizer_l1 * np.sum(np.abs(layer.biases))\n",
    "\n",
    "            if layer.bias_regularizer_l2 > 0:\n",
    "                regularization_loss += layer.bias_regularizer_l2 * np.sum(layer.biases * layer.biases)\n",
    "\n",
    "        return regularization_loss\n",
    "\n",
    "    def new_pass(self):\n",
    "        self.accumulated_sum = 0\n",
    "        self.accumulated_count = 0"
   ],
   "metadata": {
    "collapsed": false,
    "pycharm": {
     "name": "#%%\n"
    }
   }
  },
  {
   "cell_type": "code",
   "execution_count": null,
   "outputs": [],
   "source": [
    "class MSE_Loss(Loss):\n",
    "    def forward(self, y, y_hat, layers):\n",
    "        sample_losses = np.mean((y_hat - y)**2, axis=-1)\n",
    "        return sample_losses\n",
    "    def backward(self, dvalues, y_hat):\n",
    "\n",
    "        samples = len(dvalues)\n",
    "        for batch in y_hat:\n",
    "            self.dinputs = (-2 * (batch - dvalues)) / samples\n"
   ],
   "metadata": {
    "collapsed": false,
    "pycharm": {
     "name": "#%%\n"
    }
   }
  },
  {
   "cell_type": "code",
   "execution_count": null,
   "outputs": [],
   "source": [
    "class SGD_Optimzer:\n",
    "    def __init__(self, learning_rate = 0.01, decay=1e-6, momentum=0):\n",
    "        self.learning_rate = learning_rate\n",
    "        self.current_learning_rate = learning_rate\n",
    "        self.decay = decay\n",
    "        self.iterations = 0\n",
    "        self.momentum = momentum\n",
    "\n",
    "    def pre_update_params(self):\n",
    "        if self.decay:\n",
    "            self.current_learning_rate = self.learning_rate * (1 / (1 + self.decay * self.iterations))\n",
    "    def update_params(self, layer):\n",
    "\n",
    "        if not hasattr(layer, 'weight_momentums'):\n",
    "            layer.weight_momentums = np.zeros_like(layer.weights)\n",
    "            layer.bias_momentums = np.zeros_like(layer.biases)\n",
    "\n",
    "            weight_updates = self.momentum * layer.weight_momentums - self.current_learning_rate * layer.dweights\n",
    "            layer.weight_momentums = weight_updates\n",
    "\n",
    "            bias_updates = self.momentum * layer.bias_momentums - self.current_learning_rate * layer.dbiases\n",
    "            layer.bias_momentums = bias_updates\n",
    "\n",
    "        else:\n",
    "            weight_updates = -self.learning_rate * layer.dweights\n",
    "            bias_updates = -self.learning_rate * layer.dbiases\n",
    "\n",
    "        layer.weights += weight_updates\n",
    "        layer.biases += bias_updates\n",
    "\n",
    "    def post_update_params(self):\n",
    "        self.iterations += 1"
   ],
   "metadata": {
    "collapsed": false,
    "pycharm": {
     "name": "#%%\n"
    }
   }
  },
  {
   "cell_type": "code",
   "execution_count": null,
   "outputs": [],
   "source": [
    "class Optimizer_Adam:\n",
    "    def __init__(self, learning_rate=0.001, decay=0., epsilon=1e-7, beta_1=0.9, beta_2=0.999):\n",
    "        self.learning_rate = learning_rate\n",
    "        self.current_learning_rate = learning_rate\n",
    "        self.decay = decay\n",
    "        self.iterations = 0\n",
    "        self.epsilon = epsilon\n",
    "        self.beta_1 = beta_1\n",
    "        self.beta_2 = beta_2\n",
    "\n",
    "    def pre_update_params(self):\n",
    "        if self.decay:\n",
    "            self.current_learning_rate = self.learning_rate * (1. / (1. + self.decay * self.iterations))\n",
    "\n",
    "    def update_params(self, layer):\n",
    "        if not hasattr(layer, 'weight_cache'):\n",
    "            layer.weight_momentums = np.zeros_like(layer.weights)\n",
    "            layer.weight_cache = np.zeros_like(layer.weights)\n",
    "            layer.bias_momentums = np.zeros_like(layer.biases)\n",
    "            layer.bias_cache = np.zeros_like(layer.biases)\n",
    "\n",
    "        layer.weight_momentums = self.beta_1 * layer.weight_momentums + (1 - self.beta_1) * layer.dweights\n",
    "        layer.bias_momentums = self.beta_1 * layer.bias_momentums + (1 - self.beta_1) * layer.dbiases\n",
    "\n",
    "        weight_momentums_corrected = layer.weight_momentums / (1 - self.beta_1 ** (self.iterations + 1))\n",
    "        bias_momentums_corrected = layer.bias_momentums / (1 - self.beta_1 ** (self.iterations + 1))\n",
    "\n",
    "        layer.weight_cache = self.beta_2 * layer.weight_cache + (1 - self.beta_2) * layer.dweights**2\n",
    "        layer.bias_cache = self.beta_2 * layer.bias_cache + (1 - self.beta_2) * layer.dbiases**2\n",
    "\n",
    "        weight_cache_corrected = layer.weight_cache / (1 - self.beta_2 ** (self.iterations + 1))\n",
    "        bias_cache_corrected = layer.bias_cache / (1 - self.beta_2 ** (self.iterations + 1))\n",
    "\n",
    "        layer.weights += -self.current_learning_rate * weight_momentums_corrected / (np.sqrt(weight_cache_corrected) + self.epsilon)\n",
    "        layer.biases += -self.current_learning_rate * bias_momentums_corrected / (np.sqrt(bias_cache_corrected) + self.epsilon)\n",
    "\n",
    "    def post_update_params(self):\n",
    "        self.iterations += 1"
   ],
   "metadata": {
    "collapsed": false,
    "pycharm": {
     "name": "#%%\n"
    }
   }
  },
  {
   "cell_type": "code",
   "execution_count": null,
   "outputs": [],
   "source": [
    "class Accuracy:\n",
    "    def __init__(self):\n",
    "        pass\n",
    "\n",
    "    def calculate(self, predictions, y):\n",
    "        # Get comparison results\n",
    "        comparisons = self.compare(predictions, y)\n",
    "        # Calculate an accuracy\n",
    "        accuracy = np.mean(comparisons)\n",
    "        # Add accumulated sum of matching values and sample count\n",
    "        self.accumulated_sum += np.sum(comparisons)\n",
    "        self.accumulated_count += len(comparisons)\n",
    "        # Return accuracy\n",
    "        return accuracy\n",
    "\n",
    "    def calculate_accumulated(self):\n",
    "        # Calculate an accuracy\n",
    "        accuracy = self.accumulated_sum / self.accumulated_count\n",
    "        # Return the data and regularization losses\n",
    "        return accuracy\n",
    "        # Reset variables for accumulated accuracy\n",
    "\n",
    "    def compare(self, predictions, y):\n",
    "        return np.absolute(predictions - y)\n",
    "\n",
    "    def new_pass(self):\n",
    "        self.accumulated_sum = 0\n",
    "        self.accumulated_count = 0\n"
   ],
   "metadata": {
    "collapsed": false,
    "pycharm": {
     "name": "#%%\n"
    }
   }
  },
  {
   "cell_type": "code",
   "execution_count": 180,
   "outputs": [],
   "source": [
    "dense1 = Dense_Layer(X_train.shape[1], 128, weight_regularizer_l1=1e-4, bias_regularizer_l1=1e-4)\n",
    "activation1 = ReLU_Activation()\n",
    "dropout1 = Dropout_Layer(0.1)\n",
    "dense2 = Dense_Layer(128, 128)\n",
    "activation2 = ReLU_Activation()\n",
    "dropout2 = Dropout_Layer(0.1)\n",
    "dense3 = Dense_Layer(128, 1)\n",
    "activation3 = Linear_Activation()\n",
    "loss_function = MSE_Loss()\n",
    "#optimizer = SGD_Optimzer(learning_rate=0.01, decay=4e-5)\n",
    "optimizer = Optimizer_Adam(learning_rate=0.01, decay=1e-3)\n",
    "batch_accuracy = Accuracy()\n",
    "\n",
    "\n",
    "\n",
    "layers = [dense1, dense2, dense3]"
   ],
   "metadata": {
    "collapsed": false,
    "pycharm": {
     "name": "#%%\n"
    }
   }
  },
  {
   "cell_type": "code",
   "execution_count": 176,
   "outputs": [],
   "source": [
    "batch_size = 64\n",
    "train_steps = X_train.shape[0] // batch_size\n",
    "val_steps = X_val.shape[0] // batch_size\n",
    "test_steps = X_val.shape[0] // 512\n",
    "\n",
    "if train_steps * batch_size < X_train.shape[0]:\n",
    "    train_steps += 1\n",
    "\n",
    "if val_steps * batch_size < X_val.shape[0]:\n",
    "    val_steps += 1\n",
    "\n",
    "if test_steps * 512 < X_test.shape[0]:\n",
    "    test_steps += 1\n",
    "\n"
   ],
   "metadata": {
    "collapsed": false,
    "pycharm": {
     "name": "#%%\n"
    }
   }
  },
  {
   "cell_type": "code",
   "execution_count": 181,
   "outputs": [
    {
     "name": "stdout",
     "output_type": "stream",
     "text": [
      "epoch: 0\n",
      "batch: 0 out of 10802, loss: 2.087\n",
      "batch: 1000 out of 10802, loss: 0.016\n",
      "batch: 2000 out of 10802, loss: 0.030\n",
      "batch: 3000 out of 10802, loss: 0.012\n",
      "batch: 4000 out of 10802, loss: 0.011\n",
      "batch: 5000 out of 10802, loss: 0.020\n",
      "batch: 6000 out of 10802, loss: 0.010\n",
      "batch: 7000 out of 10802, loss: 0.007\n",
      "batch: 8000 out of 10802, loss: 0.006\n",
      "batch: 9000 out of 10802, loss: 0.006\n",
      "batch: 10000 out of 10802, loss: 0.010\n",
      "training, loss: 0.022 (data_loss: 0.021, reg_loss: 0.001, lr: 0.0008473858147614609\n",
      "validation, loss: 0.014, \n",
      "epoch: 1\n",
      "batch: 0 out of 10802, loss: 0.008\n",
      "batch: 1000 out of 10802, loss: 0.008\n",
      "batch: 2000 out of 10802, loss: 0.049\n",
      "batch: 3000 out of 10802, loss: 0.006\n",
      "batch: 4000 out of 10802, loss: 0.014\n",
      "batch: 5000 out of 10802, loss: 0.010\n",
      "batch: 6000 out of 10802, loss: 0.010\n",
      "batch: 7000 out of 10802, loss: 0.032\n",
      "batch: 8000 out of 10802, loss: 0.006\n",
      "batch: 9000 out of 10802, loss: 0.013\n",
      "batch: 10000 out of 10802, loss: 0.031\n",
      "training, loss: 0.014 (data_loss: 0.014, reg_loss: 0.000, lr: 0.0004424191479007211\n",
      "validation, loss: 0.014, \n",
      "epoch: 2\n",
      "batch: 0 out of 10802, loss: 0.006\n",
      "batch: 1000 out of 10802, loss: 0.015\n",
      "batch: 2000 out of 10802, loss: 0.011\n",
      "batch: 3000 out of 10802, loss: 0.008\n",
      "batch: 4000 out of 10802, loss: 0.029\n",
      "batch: 5000 out of 10802, loss: 0.021\n",
      "batch: 6000 out of 10802, loss: 0.005\n",
      "batch: 7000 out of 10802, loss: 0.010\n",
      "batch: 8000 out of 10802, loss: 0.004\n",
      "batch: 9000 out of 10802, loss: 0.015\n",
      "batch: 10000 out of 10802, loss: 0.005\n",
      "training, loss: 0.014 (data_loss: 0.014, reg_loss: 0.000, lr: 0.00029935638377488397\n",
      "validation, loss: 0.014, \n",
      "epoch: 3\n",
      "batch: 0 out of 10802, loss: 0.054\n",
      "batch: 1000 out of 10802, loss: 0.008\n",
      "batch: 2000 out of 10802, loss: 0.017\n",
      "batch: 3000 out of 10802, loss: 0.009\n",
      "batch: 4000 out of 10802, loss: 0.007\n",
      "batch: 5000 out of 10802, loss: 0.008\n",
      "batch: 6000 out of 10802, loss: 0.012\n",
      "batch: 7000 out of 10802, loss: 0.007\n",
      "batch: 8000 out of 10802, loss: 0.011\n",
      "batch: 9000 out of 10802, loss: 0.047\n",
      "batch: 10000 out of 10802, loss: 0.028\n",
      "training, loss: 0.014 (data_loss: 0.014, reg_loss: 0.000, lr: 0.00022620851901282603\n",
      "validation, loss: 0.014, \n",
      "epoch: 4\n",
      "batch: 0 out of 10802, loss: 0.010\n",
      "batch: 1000 out of 10802, loss: 0.012\n",
      "batch: 2000 out of 10802, loss: 0.006\n",
      "batch: 3000 out of 10802, loss: 0.055\n",
      "batch: 4000 out of 10802, loss: 0.006\n",
      "batch: 5000 out of 10802, loss: 0.030\n",
      "batch: 6000 out of 10802, loss: 0.032\n",
      "batch: 7000 out of 10802, loss: 0.024\n",
      "batch: 8000 out of 10802, loss: 0.020\n",
      "batch: 9000 out of 10802, loss: 0.058\n",
      "batch: 10000 out of 10802, loss: 0.008\n",
      "training, loss: 0.014 (data_loss: 0.014, reg_loss: 0.000, lr: 0.0001817884346197895\n",
      "validation, loss: 0.014, \n",
      "epoch: 5\n",
      "batch: 0 out of 10802, loss: 0.006\n",
      "batch: 1000 out of 10802, loss: 0.017\n",
      "batch: 2000 out of 10802, loss: 0.008\n",
      "batch: 3000 out of 10802, loss: 0.013\n",
      "batch: 4000 out of 10802, loss: 0.012\n",
      "batch: 5000 out of 10802, loss: 0.005\n",
      "batch: 6000 out of 10802, loss: 0.022\n",
      "batch: 7000 out of 10802, loss: 0.012\n",
      "batch: 8000 out of 10802, loss: 0.006\n",
      "batch: 9000 out of 10802, loss: 0.006\n",
      "batch: 10000 out of 10802, loss: 0.017\n",
      "training, loss: 0.014 (data_loss: 0.014, reg_loss: 0.000, lr: 0.00015195028186777286\n",
      "validation, loss: 0.014, \n",
      "epoch: 6\n",
      "batch: 0 out of 10802, loss: 0.009\n",
      "batch: 1000 out of 10802, loss: 0.011\n",
      "batch: 2000 out of 10802, loss: 0.006\n",
      "batch: 3000 out of 10802, loss: 0.007\n",
      "batch: 4000 out of 10802, loss: 0.011\n",
      "batch: 5000 out of 10802, loss: 0.025\n",
      "batch: 6000 out of 10802, loss: 0.006\n",
      "batch: 7000 out of 10802, loss: 0.008\n",
      "batch: 8000 out of 10802, loss: 0.008\n",
      "batch: 9000 out of 10802, loss: 0.008\n",
      "batch: 10000 out of 10802, loss: 0.018\n",
      "training, loss: 0.014 (data_loss: 0.014, reg_loss: 0.000, lr: 0.0001305261509143357\n",
      "validation, loss: 0.014, \n",
      "epoch: 7\n",
      "batch: 0 out of 10802, loss: 0.019\n",
      "batch: 1000 out of 10802, loss: 0.015\n",
      "batch: 2000 out of 10802, loss: 0.013\n",
      "batch: 3000 out of 10802, loss: 0.014\n",
      "batch: 4000 out of 10802, loss: 0.006\n",
      "batch: 5000 out of 10802, loss: 0.016\n",
      "batch: 6000 out of 10802, loss: 0.018\n",
      "batch: 7000 out of 10802, loss: 0.009\n",
      "batch: 8000 out of 10802, loss: 0.012\n",
      "batch: 9000 out of 10802, loss: 0.005\n",
      "batch: 10000 out of 10802, loss: 0.014\n",
      "training, loss: 0.014 (data_loss: 0.014, reg_loss: 0.000, lr: 0.00011439684264714293\n",
      "validation, loss: 0.014, \n",
      "epoch: 8\n",
      "batch: 0 out of 10802, loss: 0.020\n",
      "batch: 1000 out of 10802, loss: 0.008\n",
      "batch: 2000 out of 10802, loss: 0.053\n",
      "batch: 3000 out of 10802, loss: 0.044\n",
      "batch: 4000 out of 10802, loss: 0.013\n",
      "batch: 5000 out of 10802, loss: 0.012\n",
      "batch: 6000 out of 10802, loss: 0.028\n",
      "batch: 7000 out of 10802, loss: 0.005\n",
      "batch: 8000 out of 10802, loss: 0.012\n",
      "batch: 9000 out of 10802, loss: 0.007\n",
      "batch: 10000 out of 10802, loss: 0.007\n",
      "training, loss: 0.014 (data_loss: 0.014, reg_loss: 0.000, lr: 0.00010181536801164769\n",
      "validation, loss: 0.014, \n",
      "epoch: 9\n",
      "batch: 0 out of 10802, loss: 0.016\n",
      "batch: 1000 out of 10802, loss: 0.006\n",
      "batch: 2000 out of 10802, loss: 0.014\n",
      "batch: 3000 out of 10802, loss: 0.027\n",
      "batch: 4000 out of 10802, loss: 0.014\n",
      "batch: 5000 out of 10802, loss: 0.009\n",
      "batch: 6000 out of 10802, loss: 0.028\n",
      "batch: 7000 out of 10802, loss: 0.009\n",
      "batch: 8000 out of 10802, loss: 0.014\n",
      "batch: 9000 out of 10802, loss: 0.008\n",
      "batch: 10000 out of 10802, loss: 0.021\n",
      "training, loss: 0.014 (data_loss: 0.014, reg_loss: 0.000, lr: 9.172713013327953e-05\n",
      "validation, loss: 0.014, \n",
      "Model Evaluation on Test Set\n",
      "test set, loss: 0.014, \n"
     ]
    }
   ],
   "source": [
    "# Begin training model\n",
    "for epoch in range(10):\n",
    "    print(f'epoch: {epoch}')\n",
    "    np.random.shuffle(keys)\n",
    "    X_train = X_train[keys]\n",
    "    y_train = y_train[keys]\n",
    "    loss_function.new_pass()\n",
    "    batch_accuracy.new_pass()\n",
    "\n",
    "    # Train model in mini batches\n",
    "    for step in range(train_steps):\n",
    "        batch_X = X_train[step * batch_size:(step+1)*batch_size]\n",
    "        batch_y = y_train[step * batch_size:(step+1)*batch_size]\n",
    "\n",
    "        # Forward Pass\n",
    "        dense1.forward(batch_X)\n",
    "        activation1.forward(dense1.output)\n",
    "        dropout1.forward(activation1.output)\n",
    "        dense2.forward(dropout1.output)\n",
    "        activation2.forward(dense2.output)\n",
    "        dropout2.forward(activation2.output)\n",
    "        dense3.forward(dropout2.output)\n",
    "        activation3.forward(dense3.output)\n",
    "\n",
    "        # Calculate Loss of current batch\n",
    "        data_loss, reg_loss = loss_function.calculate(activation3.output, batch_y, layers, include_regularization=True)\n",
    "        loss = data_loss + reg_loss\n",
    "\n",
    "        # Predicted Prices of current batch\n",
    "        predictions = activation3.output\n",
    "\n",
    "        # Backward Pass\n",
    "        loss_function.backward(activation3.output, batch_y)\n",
    "        activation3.backward(loss_function.dinputs)\n",
    "        dense3.backward(activation3.dinputs)\n",
    "        dropout2.backward(dense3.dinputs)\n",
    "        activation2.backward(dropout2.dinputs)\n",
    "        dense2.backward(activation2.dinputs)\n",
    "        dropout1.backward(dense2.dinputs)\n",
    "        activation1.backward(dropout1.dinputs)\n",
    "        dense1.backward(activation1.dinputs)\n",
    "\n",
    "        # Update weights\n",
    "        optimizer.pre_update_params()\n",
    "        optimizer.update_params(dense1)\n",
    "        optimizer.update_params(dense2)\n",
    "        optimizer.update_params(dense3)\n",
    "        optimizer.post_update_params()\n",
    "\n",
    "        # Print loss every 1000 batches\n",
    "        if not step % 1000:\n",
    "            print(f'batch: {step} out of {train_steps}, loss: {loss:.3f}')\n",
    "\n",
    "    # Calculate mean Loss after epoch\n",
    "    epoch_data_loss, epoch_reg_loss = \\\n",
    "        loss_function.calculate_accumulated(include_regularization=True)\n",
    "    epoch_loss = epoch_data_loss + epoch_reg_loss\n",
    "\n",
    "    # Print training progress after epoch\n",
    "    print(f'training, ' +\n",
    "    f'loss: {epoch_loss:.3f} (' +\n",
    "    f'data_loss: {epoch_data_loss:.3f}, ' +\n",
    "    f'reg_loss: {epoch_reg_loss:.3f}, ' +\n",
    "    f'lr: {optimizer.current_learning_rate}')\n",
    "\n",
    "    # Reset mean Loss before using validation set\n",
    "    loss_function.new_pass()\n",
    "    batch_accuracy.new_pass()\n",
    "\n",
    "    # Pass through validation set for evaluation during training\n",
    "    for step in range(val_steps):\n",
    "\n",
    "        batch_X = X_val[step * batch_size:(step+1)*batch_size]\n",
    "        batch_y = y_val[step * batch_size:(step+1)*batch_size]\n",
    "\n",
    "        dense1.forward(batch_X)\n",
    "        activation1.forward(dense1.output)\n",
    "        dense2.forward(activation1.output)\n",
    "        activation2.forward(dense2.output)\n",
    "        dense3.forward(activation2.output)\n",
    "        activation3.forward(dense3.output)\n",
    "\n",
    "        loss_function.calculate(activation3.output, batch_y, layers)\n",
    "\n",
    "        predictions = activation3.output\n",
    "\n",
    "    # Calculate mean Loss for validation set on current model parameters\n",
    "    val_loss = loss_function.calculate_accumulated()\n",
    "\n",
    "    # Print mean validation loss per epoch\n",
    "    print(f'validation, ' +\n",
    "          f'loss: {val_loss:.3f}, ')\n",
    "\n",
    "# Training finished\n",
    "\n",
    "# Test model\n",
    "print(\"Model Evaluation on Test Set\")\n",
    "\n",
    "loss_function.new_pass()\n",
    "batch_accuracy.new_pass()\n",
    "\n",
    "# Pass through testing set\n",
    "for step in range(test_steps):\n",
    "\n",
    "    batch_X = X_test[step * 512:(step+1)*512]\n",
    "    batch_y = y_test[step * 512:(step+1)*512]\n",
    "\n",
    "    dense1.forward(batch_X)\n",
    "    activation1.forward(dense1.output)\n",
    "    dense2.forward(activation1.output)\n",
    "    activation2.forward(dense2.output)\n",
    "    dense3.forward(activation2.output)\n",
    "    activation3.forward(dense3.output)\n",
    "\n",
    "    loss_function.calculate(activation3.output, batch_y, layers)\n",
    "\n",
    "    predictions = activation3.output\n",
    "\n",
    "# Calculate mean Loss for validation set on current model parameters\n",
    "test_loss = loss_function.calculate_accumulated()\n",
    "\n",
    "# Print mean validation loss per epoch\n",
    "print(f'test set, ' +\n",
    "      f'loss: {test_loss:.3f}, ')"
   ],
   "metadata": {
    "collapsed": false,
    "pycharm": {
     "name": "#%%\n"
    }
   }
  },
  {
   "cell_type": "code",
   "execution_count": null,
   "outputs": [],
   "source": [
    "# Add accuracy\n",
    "# Make some predictions, if predictions are good, test accuracy on external dataset"
   ],
   "metadata": {
    "collapsed": false,
    "pycharm": {
     "name": "#%%\n"
    }
   }
  }
 ],
 "metadata": {
  "kernelspec": {
   "display_name": "PyCharm (feedforward-nn-python)",
   "language": "python",
   "name": "pycharm-41e5e3a3"
  },
  "language_info": {
   "codemirror_mode": {
    "name": "ipython",
    "version": 2
   },
   "file_extension": ".py",
   "mimetype": "text/x-python",
   "name": "python",
   "nbconvert_exporter": "python",
   "pygments_lexer": "ipython2",
   "version": "2.7.6"
  }
 },
 "nbformat": 4,
 "nbformat_minor": 1
}